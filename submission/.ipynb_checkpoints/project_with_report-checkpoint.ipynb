{
 "cells": [
  {
   "cell_type": "markdown",
   "metadata": {
    "tags": [
     "remove_input",
     "remove_output"
    ]
   },
   "source": [
    "Author: Max Matthews and Frinze Erin Lapuz (22711649)\n",
    "\n",
    "This is the IPython Jupyter Notebook for generating the PDF report, documentation, and generating the staging_data.\n",
    "\n",
    "To generate html, pdf and tex file, run the following command `generate_report.bat` in the command line. You may need to have Anaconda activated, Jupyter NBconvert, and LaTex renderer (eg. MikTex) in your environment to do this."
   ]
  },
  {
   "cell_type": "markdown",
   "metadata": {},
   "source": [
    "# Pattern Discovery and Building Predictive Models\n",
    "### PROJECT 2 - CITS 3401\n",
    "#### Authors: Frinze Erin Lapuz (22711649) and Max Matthews (21506225)Author: Max Matthews and Frinze Erin Lapuz (22711649)"
   ]
  },
  {
   "cell_type": "markdown",
   "metadata": {},
   "source": [
    "\n",
    "# <u>Introduction</u>\n",
    "\n",
    "For this project, we would like to use the mobile price classification dataset as the source of data. The target of this project is to predict whether the price of a mobile phone is high or not.\n",
    "\n",
    "<br />"
   ]
  },
  {
   "cell_type": "markdown",
   "metadata": {},
   "source": [
    "### Tasks and Scope\n",
    "\n",
    "#### 1) Data cleaning and analysis\n",
    "\n",
    "  - Read through the table and the table column descriptions. Understand the meaning of each column in the table.\n",
    "  - Distinguish the type of each attribute (e.g., nominal/categorical, numerical). You may need to discretise some attributes, when completing Task 2, 3 or 4.\n",
    "  - Determine whether an attribute is relevant to your target variable. You may remove some attributes if they are not helpful for Task 2, 3, or 4. You might create separate data files for Task 2, 3 and 4.\n",
    "  - Identify inconsistent data and take actions using the knowledge you have learnt in this unit.\n",
    "\n",
    "#### 2) Association rule mining\n",
    "  - Select a subset of the attributes (or all the attributes) to mine interesting patterns. To rank the degree of interesting of the rules extracted, use support, confidence and lift.\n",
    "  - Explain the top k rules (according to lift or confidence) that have the \"price_category” on the right-hand-side, where k >= 1.\n",
    "  - Explain the meaning of the k rules in plain English.\n",
    "  - Given the rules, what recommendation will you give to a company willing to design a high price mobile phone (e.g., should the mobile phone equipped with bluetooth)?\n",
    "\n",
    "#### 3) Classification\n",
    "  - Use the \"price_category\" as the target variable and train two classifiers based on different machine learning algorithms (e.g. classifier 1 based on a decision tree; classifier 2 based on SVMs).\n",
    "  - Evaluate the classifiers based on some evaluation metrics (e.g., accuracy). You may use 10-fold cross-validation for the evaluation.\n",
    "\n",
    "#### 4) Clustering\n",
    "  - Run a clustering algorithm of your choice and explain how the results can be interpreted with respect to the target variable.\n",
    "\n",
    "#### 5) Data reduction\n",
    "  - Perform numerosity reduction and perform attribute reduction.\n",
    "  - Train the two classifiers in Task 3 on the reduced data.\n",
    "  - Answer the question: \"Does data reduction improve the quality of the classifiers\"?\n",
    "\n",
    "#### 6) Attribute selection\n",
    "  - Select the top-10 most important attributes manually based on your understanding of the problem; select the top-10 most important attributes based on Information Gain.\n",
    "  - Which attribute selection method is better and why?\n",
    "\n",
    "<br />\n",
    "\n",
    "#### **Marking Scheme**\n",
    "```\n",
    "[5 marks]   Explain the data processing operations (e.g., remove some attributes and action on inconsistent data) that you have done.\n",
    "[5 marks]   Explain and interpret the top k association rules mined; based on the association rules, provide a recommendation for a company willing \n",
    "            to design a high price mobile phone.\n",
    "[5 marks]   Explain how you train the classifiers and your evaluation results.\n",
    "[5 marks]   Clustering and interpretation of the clustering result (with respect to the target variable)\n",
    "[5 marks]   Explain the data reduction you have performed; compare the classifiers trained on reduced data with the classifiers trained on the original data.\n",
    "[5 marks]   Your answer to Task 6.\n",
    "```"
   ]
  },
  {
   "cell_type": "markdown",
   "metadata": {},
   "source": [
    "### Tools, Libraries and Packages\n",
    "\n",
    "Python - Using throughout the project for data cleaning, data processing, and modelling.\n",
    "Weka - Used a discrepency check (to ensure we receive the same values)\n",
    "\n",
    "#### Imports"
   ]
  },
  {
   "cell_type": "code",
   "execution_count": 1,
   "metadata": {
    "tags": [
     "remove_output"
    ]
   },
   "outputs": [
    {
     "name": "stdout",
     "output_type": "stream",
     "text": [
      "Requirement already satisfied: pandas-profiling[notebook] in c:\\users\\frinz\\anaconda3\\lib\\site-packages (2.11.0)\n",
      "Requirement already satisfied: mlxtend in c:\\users\\frinz\\anaconda3\\lib\\site-packages (0.18.0)\n",
      "Requirement already satisfied: clusteval in c:\\users\\frinz\\anaconda3\\lib\\site-packages (2.0.0)\n",
      "Requirement already satisfied: attrs>=19.3.0 in c:\\users\\frinz\\anaconda3\\lib\\site-packages (from pandas-profiling[notebook]) (20.3.0)\n",
      "Requirement already satisfied: requests>=2.24.0 in c:\\users\\frinz\\anaconda3\\lib\\site-packages (from pandas-profiling[notebook]) (2.24.0)\n",
      "Requirement already satisfied: confuse>=1.0.0 in c:\\users\\frinz\\anaconda3\\lib\\site-packages (from pandas-profiling[notebook]) (1.4.0)\n",
      "Requirement already satisfied: tqdm>=4.48.2 in c:\\users\\frinz\\anaconda3\\lib\\site-packages (from pandas-profiling[notebook]) (4.50.2)\n",
      "Requirement already satisfied: ipywidgets>=7.5.1 in c:\\users\\frinz\\anaconda3\\lib\\site-packages (from pandas-profiling[notebook]) (7.5.1)\n",
      "Requirement already satisfied: missingno>=0.4.2 in c:\\users\\frinz\\anaconda3\\lib\\site-packages (from pandas-profiling[notebook]) (0.4.2)\n",
      "Requirement already satisfied: jinja2>=2.11.1 in c:\\users\\frinz\\anaconda3\\lib\\site-packages (from pandas-profiling[notebook]) (2.11.2)\n",
      "Requirement already satisfied: seaborn>=0.10.1 in c:\\users\\frinz\\anaconda3\\lib\\site-packages (from pandas-profiling[notebook]) (0.11.1)\n",
      "Requirement already satisfied: numpy>=1.16.0 in c:\\users\\frinz\\anaconda3\\lib\\site-packages (from pandas-profiling[notebook]) (1.19.2)\n",
      "Requirement already satisfied: joblib in c:\\users\\frinz\\anaconda3\\lib\\site-packages (from pandas-profiling[notebook]) (0.17.0)\n",
      "Requirement already satisfied: phik>=0.10.0 in c:\\users\\frinz\\anaconda3\\lib\\site-packages (from pandas-profiling[notebook]) (0.11.2)\n",
      "Requirement already satisfied: tangled-up-in-unicode>=0.0.6 in c:\\users\\frinz\\anaconda3\\lib\\site-packages (from pandas-profiling[notebook]) (0.0.7)\n",
      "Requirement already satisfied: visions[type_image_path]==0.6.0 in c:\\users\\frinz\\anaconda3\\lib\\site-packages (from pandas-profiling[notebook]) (0.6.0)\n",
      "Requirement already satisfied: matplotlib>=3.2.0 in c:\\users\\frinz\\anaconda3\\lib\\site-packages (from pandas-profiling[notebook]) (3.3.2)\n",
      "Requirement already satisfied: scipy>=1.4.1 in c:\\users\\frinz\\anaconda3\\lib\\site-packages (from pandas-profiling[notebook]) (1.5.2)\n",
      "Requirement already satisfied: pandas!=1.0.0,!=1.0.1,!=1.0.2,!=1.1.0,>=0.25.3 in c:\\users\\frinz\\anaconda3\\lib\\site-packages (from pandas-profiling[notebook]) (1.1.3)\n",
      "Requirement already satisfied: htmlmin>=0.1.12 in c:\\users\\frinz\\anaconda3\\lib\\site-packages (from pandas-profiling[notebook]) (0.1.12)\n",
      "Requirement already satisfied: jupyter-client>=6.0.0; extra == \"notebook\" in c:\\users\\frinz\\anaconda3\\lib\\site-packages (from pandas-profiling[notebook]) (6.1.7)\n",
      "Requirement already satisfied: jupyter-core>=4.6.3; extra == \"notebook\" in c:\\users\\frinz\\anaconda3\\lib\\site-packages (from pandas-profiling[notebook]) (4.6.3)\n",
      "Requirement already satisfied: scikit-learn>=0.20.3 in c:\\users\\frinz\\anaconda3\\lib\\site-packages (from mlxtend) (0.23.2)\n",
      "Requirement already satisfied: setuptools in c:\\users\\frinz\\anaconda3\\lib\\site-packages (from mlxtend) (50.3.1.post20201107)\n",
      "Requirement already satisfied: sklearn in c:\\users\\frinz\\anaconda3\\lib\\site-packages (from clusteval) (0.0)\n",
      "Requirement already satisfied: chardet<4,>=3.0.2 in c:\\users\\frinz\\anaconda3\\lib\\site-packages (from requests>=2.24.0->pandas-profiling[notebook]) (3.0.4)\n",
      "Requirement already satisfied: idna<3,>=2.5 in c:\\users\\frinz\\anaconda3\\lib\\site-packages (from requests>=2.24.0->pandas-profiling[notebook]) (2.10)\n",
      "Requirement already satisfied: urllib3!=1.25.0,!=1.25.1,<1.26,>=1.21.1 in c:\\users\\frinz\\anaconda3\\lib\\site-packages (from requests>=2.24.0->pandas-profiling[notebook]) (1.25.11)\n",
      "Requirement already satisfied: certifi>=2017.4.17 in c:\\users\\frinz\\anaconda3\\lib\\site-packages (from requests>=2.24.0->pandas-profiling[notebook]) (2020.6.20)\n",
      "Requirement already satisfied: pyyaml in c:\\users\\frinz\\anaconda3\\lib\\site-packages (from confuse>=1.0.0->pandas-profiling[notebook]) (5.3.1)\n",
      "Requirement already satisfied: ipykernel>=4.5.1 in c:\\users\\frinz\\anaconda3\\lib\\site-packages (from ipywidgets>=7.5.1->pandas-profiling[notebook]) (5.3.4)\n",
      "Requirement already satisfied: widgetsnbextension~=3.5.0 in c:\\users\\frinz\\anaconda3\\lib\\site-packages (from ipywidgets>=7.5.1->pandas-profiling[notebook]) (3.5.1)\n",
      "Requirement already satisfied: ipython>=4.0.0; python_version >= \"3.3\" in c:\\users\\frinz\\anaconda3\\lib\\site-packages (from ipywidgets>=7.5.1->pandas-profiling[notebook]) (7.19.0)\n",
      "Requirement already satisfied: nbformat>=4.2.0 in c:\\users\\frinz\\anaconda3\\lib\\site-packages (from ipywidgets>=7.5.1->pandas-profiling[notebook]) (5.0.8)\n",
      "Requirement already satisfied: traitlets>=4.3.1 in c:\\users\\frinz\\anaconda3\\lib\\site-packages (from ipywidgets>=7.5.1->pandas-profiling[notebook]) (5.0.5)\n",
      "Requirement already satisfied: MarkupSafe>=0.23 in c:\\users\\frinz\\anaconda3\\lib\\site-packages (from jinja2>=2.11.1->pandas-profiling[notebook]) (1.1.1)\n",
      "Requirement already satisfied: networkx>=2.4 in c:\\users\\frinz\\anaconda3\\lib\\site-packages (from visions[type_image_path]==0.6.0->pandas-profiling[notebook]) (2.5)\n",
      "Requirement already satisfied: Pillow; extra == \"type_image_path\" in c:\\users\\frinz\\anaconda3\\lib\\site-packages (from visions[type_image_path]==0.6.0->pandas-profiling[notebook]) (8.0.1)\n",
      "Requirement already satisfied: imagehash; extra == \"type_image_path\" in c:\\users\\frinz\\anaconda3\\lib\\site-packages (from visions[type_image_path]==0.6.0->pandas-profiling[notebook]) (4.2.0)\n",
      "Requirement already satisfied: cycler>=0.10 in c:\\users\\frinz\\anaconda3\\lib\\site-packages (from matplotlib>=3.2.0->pandas-profiling[notebook]) (0.10.0)\n",
      "Requirement already satisfied: python-dateutil>=2.1 in c:\\users\\frinz\\anaconda3\\lib\\site-packages (from matplotlib>=3.2.0->pandas-profiling[notebook]) (2.8.1)\n",
      "Requirement already satisfied: kiwisolver>=1.0.1 in c:\\users\\frinz\\anaconda3\\lib\\site-packages (from matplotlib>=3.2.0->pandas-profiling[notebook]) (1.3.0)\n",
      "Requirement already satisfied: pyparsing!=2.0.4,!=2.1.2,!=2.1.6,>=2.0.3 in c:\\users\\frinz\\anaconda3\\lib\\site-packages (from matplotlib>=3.2.0->pandas-profiling[notebook]) (2.4.7)\n",
      "Requirement already satisfied: pytz>=2017.2 in c:\\users\\frinz\\anaconda3\\lib\\site-packages (from pandas!=1.0.0,!=1.0.1,!=1.0.2,!=1.1.0,>=0.25.3->pandas-profiling[notebook]) (2020.1)\n",
      "Requirement already satisfied: tornado>=4.1 in c:\\users\\frinz\\anaconda3\\lib\\site-packages (from jupyter-client>=6.0.0; extra == \"notebook\"->pandas-profiling[notebook]) (6.0.4)\n",
      "Requirement already satisfied: pyzmq>=13 in c:\\users\\frinz\\anaconda3\\lib\\site-packages (from jupyter-client>=6.0.0; extra == \"notebook\"->pandas-profiling[notebook]) (19.0.2)\n",
      "Requirement already satisfied: pywin32>=1.0; sys_platform == \"win32\" in c:\\users\\frinz\\anaconda3\\lib\\site-packages (from jupyter-core>=4.6.3; extra == \"notebook\"->pandas-profiling[notebook]) (227)\n",
      "Requirement already satisfied: threadpoolctl>=2.0.0 in c:\\users\\frinz\\anaconda3\\lib\\site-packages (from scikit-learn>=0.20.3->mlxtend) (2.1.0)\n",
      "Requirement already satisfied: notebook>=4.4.1 in c:\\users\\frinz\\anaconda3\\lib\\site-packages (from widgetsnbextension~=3.5.0->ipywidgets>=7.5.1->pandas-profiling[notebook]) (6.1.4)\n",
      "Requirement already satisfied: prompt-toolkit!=3.0.0,!=3.0.1,<3.1.0,>=2.0.0 in c:\\users\\frinz\\anaconda3\\lib\\site-packages (from ipython>=4.0.0; python_version >= \"3.3\"->ipywidgets>=7.5.1->pandas-profiling[notebook]) (3.0.8)\n",
      "Requirement already satisfied: jedi>=0.10 in c:\\users\\frinz\\anaconda3\\lib\\site-packages (from ipython>=4.0.0; python_version >= \"3.3\"->ipywidgets>=7.5.1->pandas-profiling[notebook]) (0.17.1)\n",
      "Requirement already satisfied: backcall in c:\\users\\frinz\\anaconda3\\lib\\site-packages (from ipython>=4.0.0; python_version >= \"3.3\"->ipywidgets>=7.5.1->pandas-profiling[notebook]) (0.2.0)\n",
      "Requirement already satisfied: pickleshare in c:\\users\\frinz\\anaconda3\\lib\\site-packages (from ipython>=4.0.0; python_version >= \"3.3\"->ipywidgets>=7.5.1->pandas-profiling[notebook]) (0.7.5)\n",
      "Requirement already satisfied: pygments in c:\\users\\frinz\\anaconda3\\lib\\site-packages (from ipython>=4.0.0; python_version >= \"3.3\"->ipywidgets>=7.5.1->pandas-profiling[notebook]) (2.7.2)\n",
      "Requirement already satisfied: decorator in c:\\users\\frinz\\anaconda3\\lib\\site-packages (from ipython>=4.0.0; python_version >= \"3.3\"->ipywidgets>=7.5.1->pandas-profiling[notebook]) (4.4.2)\n",
      "Requirement already satisfied: colorama; sys_platform == \"win32\" in c:\\users\\frinz\\anaconda3\\lib\\site-packages (from ipython>=4.0.0; python_version >= \"3.3\"->ipywidgets>=7.5.1->pandas-profiling[notebook]) (0.4.4)\n",
      "Requirement already satisfied: jsonschema!=2.5.0,>=2.4 in c:\\users\\frinz\\anaconda3\\lib\\site-packages (from nbformat>=4.2.0->ipywidgets>=7.5.1->pandas-profiling[notebook]) (3.2.0)\n",
      "Requirement already satisfied: ipython-genutils in c:\\users\\frinz\\anaconda3\\lib\\site-packages (from nbformat>=4.2.0->ipywidgets>=7.5.1->pandas-profiling[notebook]) (0.2.0)\n",
      "Requirement already satisfied: six in c:\\users\\frinz\\anaconda3\\lib\\site-packages (from imagehash; extra == \"type_image_path\"->visions[type_image_path]==0.6.0->pandas-profiling[notebook]) (1.15.0)\n",
      "Requirement already satisfied: PyWavelets in c:\\users\\frinz\\anaconda3\\lib\\site-packages (from imagehash; extra == \"type_image_path\"->visions[type_image_path]==0.6.0->pandas-profiling[notebook]) (1.1.1)\n",
      "Requirement already satisfied: prometheus-client in c:\\users\\frinz\\anaconda3\\lib\\site-packages (from notebook>=4.4.1->widgetsnbextension~=3.5.0->ipywidgets>=7.5.1->pandas-profiling[notebook]) (0.8.0)\n",
      "Requirement already satisfied: argon2-cffi in c:\\users\\frinz\\anaconda3\\lib\\site-packages (from notebook>=4.4.1->widgetsnbextension~=3.5.0->ipywidgets>=7.5.1->pandas-profiling[notebook]) (20.1.0)\n",
      "Requirement already satisfied: terminado>=0.8.3 in c:\\users\\frinz\\anaconda3\\lib\\site-packages (from notebook>=4.4.1->widgetsnbextension~=3.5.0->ipywidgets>=7.5.1->pandas-profiling[notebook]) (0.9.1)\n",
      "Requirement already satisfied: nbconvert in c:\\users\\frinz\\anaconda3\\lib\\site-packages (from notebook>=4.4.1->widgetsnbextension~=3.5.0->ipywidgets>=7.5.1->pandas-profiling[notebook]) (6.0.7)\n",
      "Requirement already satisfied: Send2Trash in c:\\users\\frinz\\anaconda3\\lib\\site-packages (from notebook>=4.4.1->widgetsnbextension~=3.5.0->ipywidgets>=7.5.1->pandas-profiling[notebook]) (1.5.0)\n",
      "Requirement already satisfied: wcwidth in c:\\users\\frinz\\anaconda3\\lib\\site-packages (from prompt-toolkit!=3.0.0,!=3.0.1,<3.1.0,>=2.0.0->ipython>=4.0.0; python_version >= \"3.3\"->ipywidgets>=7.5.1->pandas-profiling[notebook]) (0.2.5)\n",
      "Requirement already satisfied: parso<0.8.0,>=0.7.0 in c:\\users\\frinz\\anaconda3\\lib\\site-packages (from jedi>=0.10->ipython>=4.0.0; python_version >= \"3.3\"->ipywidgets>=7.5.1->pandas-profiling[notebook]) (0.7.0)\n",
      "Requirement already satisfied: pyrsistent>=0.14.0 in c:\\users\\frinz\\anaconda3\\lib\\site-packages (from jsonschema!=2.5.0,>=2.4->nbformat>=4.2.0->ipywidgets>=7.5.1->pandas-profiling[notebook]) (0.17.3)\n",
      "Requirement already satisfied: cffi>=1.0.0 in c:\\users\\frinz\\anaconda3\\lib\\site-packages (from argon2-cffi->notebook>=4.4.1->widgetsnbextension~=3.5.0->ipywidgets>=7.5.1->pandas-profiling[notebook]) (1.14.3)\n",
      "Requirement already satisfied: pywinpty>=0.5 in c:\\users\\frinz\\anaconda3\\lib\\site-packages (from terminado>=0.8.3->notebook>=4.4.1->widgetsnbextension~=3.5.0->ipywidgets>=7.5.1->pandas-profiling[notebook]) (0.5.7)\n",
      "Requirement already satisfied: testpath in c:\\users\\frinz\\anaconda3\\lib\\site-packages (from nbconvert->notebook>=4.4.1->widgetsnbextension~=3.5.0->ipywidgets>=7.5.1->pandas-profiling[notebook]) (0.4.4)\n",
      "Requirement already satisfied: entrypoints>=0.2.2 in c:\\users\\frinz\\anaconda3\\lib\\site-packages (from nbconvert->notebook>=4.4.1->widgetsnbextension~=3.5.0->ipywidgets>=7.5.1->pandas-profiling[notebook]) (0.3)\n",
      "Requirement already satisfied: mistune<2,>=0.8.1 in c:\\users\\frinz\\anaconda3\\lib\\site-packages (from nbconvert->notebook>=4.4.1->widgetsnbextension~=3.5.0->ipywidgets>=7.5.1->pandas-profiling[notebook]) (0.8.4)\n",
      "Requirement already satisfied: nbclient<0.6.0,>=0.5.0 in c:\\users\\frinz\\anaconda3\\lib\\site-packages (from nbconvert->notebook>=4.4.1->widgetsnbextension~=3.5.0->ipywidgets>=7.5.1->pandas-profiling[notebook]) (0.5.1)\n",
      "Requirement already satisfied: jupyterlab-pygments in c:\\users\\frinz\\anaconda3\\lib\\site-packages (from nbconvert->notebook>=4.4.1->widgetsnbextension~=3.5.0->ipywidgets>=7.5.1->pandas-profiling[notebook]) (0.1.2)\n",
      "Requirement already satisfied: defusedxml in c:\\users\\frinz\\anaconda3\\lib\\site-packages (from nbconvert->notebook>=4.4.1->widgetsnbextension~=3.5.0->ipywidgets>=7.5.1->pandas-profiling[notebook]) (0.6.0)\n",
      "Requirement already satisfied: bleach in c:\\users\\frinz\\anaconda3\\lib\\site-packages (from nbconvert->notebook>=4.4.1->widgetsnbextension~=3.5.0->ipywidgets>=7.5.1->pandas-profiling[notebook]) (3.2.1)\n",
      "Requirement already satisfied: pandocfilters>=1.4.1 in c:\\users\\frinz\\anaconda3\\lib\\site-packages (from nbconvert->notebook>=4.4.1->widgetsnbextension~=3.5.0->ipywidgets>=7.5.1->pandas-profiling[notebook]) (1.4.3)\n",
      "Requirement already satisfied: pycparser in c:\\users\\frinz\\anaconda3\\lib\\site-packages (from cffi>=1.0.0->argon2-cffi->notebook>=4.4.1->widgetsnbextension~=3.5.0->ipywidgets>=7.5.1->pandas-profiling[notebook]) (2.20)\n",
      "Requirement already satisfied: nest-asyncio in c:\\users\\frinz\\anaconda3\\lib\\site-packages (from nbclient<0.6.0,>=0.5.0->nbconvert->notebook>=4.4.1->widgetsnbextension~=3.5.0->ipywidgets>=7.5.1->pandas-profiling[notebook]) (1.4.2)\n",
      "Requirement already satisfied: async-generator in c:\\users\\frinz\\anaconda3\\lib\\site-packages (from nbclient<0.6.0,>=0.5.0->nbconvert->notebook>=4.4.1->widgetsnbextension~=3.5.0->ipywidgets>=7.5.1->pandas-profiling[notebook]) (1.10)\n",
      "Requirement already satisfied: packaging in c:\\users\\frinz\\anaconda3\\lib\\site-packages (from bleach->nbconvert->notebook>=4.4.1->widgetsnbextension~=3.5.0->ipywidgets>=7.5.1->pandas-profiling[notebook]) (20.4)\n",
      "Requirement already satisfied: webencodings in c:\\users\\frinz\\anaconda3\\lib\\site-packages (from bleach->nbconvert->notebook>=4.4.1->widgetsnbextension~=3.5.0->ipywidgets>=7.5.1->pandas-profiling[notebook]) (0.5.1)\n",
      "Note: you may need to restart the kernel to use updated packages.\n"
     ]
    }
   ],
   "source": [
    "pip install pandas-profiling[notebook] mlxtend clusteval --user"
   ]
  },
  {
   "cell_type": "code",
   "execution_count": 2,
   "metadata": {},
   "outputs": [],
   "source": [
    "# Data analysis, manipulation, and profiling\n",
    "import pandas as pd\n",
    "import numpy as np\n",
    "from pandas_profiling import ProfileReport\n",
    "\n",
    "# Visualization\n",
    "import matplotlib.pyplot as plt\n",
    "import seaborn as sns\n",
    "sns.set_style(\"darkgrid\", {\"axes.facecolor\": \".9\"})\n",
    "\n",
    "# Association Rule Mining\n",
    "from mlxtend.frequent_patterns import apriori, association_rules\n",
    "\n",
    "# Training Setups\n",
    "from sklearn.model_selection import train_test_split\n",
    "from sklearn.pipeline import Pipeline\n",
    "\n",
    "# Preprocessings and Attribute Selections\n",
    "from sklearn.impute import SimpleImputer\n",
    "from sklearn.preprocessing import StandardScaler\n",
    "from sklearn.decomposition import PCA\n",
    "# selection of best attributes from by default using f-score https://scikit-learn.org/stable/modules/generated/sklearn.feature_selection.f_classif.html\n",
    "from sklearn.feature_selection import SelectKBest, mutual_info_classif, f_classif\n",
    "\n",
    "# Classifiers\n",
    "from sklearn.tree import DecisionTreeClassifier, plot_tree\n",
    "from sklearn.svm import SVC # Support Vector Machine Classifier\n",
    "\n",
    "RANDOM_STATE = 1 # Used as a seed value\n",
    "CROSS_VALIDATION_PARTITION = 10\n",
    "NUMBER_OF_BEST_HYPER_PARAMS_TO_SHOW = 5\n",
    "\n",
    "# Optimisation\n",
    "from sklearn.model_selection import GridSearchCV # tuning the model\n",
    "from sklearn.model_selection import cross_val_score, cross_validate\n",
    "\n",
    "# Clustering\n",
    "from clusteval import clusteval\n",
    "from sklearn.preprocessing import MinMaxScaler\n",
    "from sklearn.cluster import KMeans, AgglomerativeClustering\n",
    "from scipy.cluster import hierarchy\n",
    "from scipy.cluster.hierarchy import dendrogram"
   ]
  },
  {
   "cell_type": "markdown",
   "metadata": {},
   "source": [
    "<br >"
   ]
  },
  {
   "cell_type": "markdown",
   "metadata": {},
   "source": [
    "# <u>Data Cleaning and Profiling</u>\n",
    "\n",
    "There are many different ways to perform data cleaning and profiling. For this process (in Project 2) we will be using an IPython Notebook, for the following reasons:\n",
    "\n",
    "- The anaylsts are proficient in Python;\n",
    "- The report can be integrated with code for specific sections of the analysis;\n",
    "- The processes / procedures are highly repeatable and easily automated using scripts;\n",
    "- Data exploration and anomaly detection can easily be performed through a variety of visualizations (charts, graphs, tables, etc);\n",
    "\n",
    "The packages that will be used are built-in the Anaconda package, except for `pandas_profiling` (from https://github.com/pandas-profiling/pandas-profiling, which we used for doing detailed exploratory analysis of data), and `mlxtend` (from https://github.com/rasbt/mlxtend , which we used in our association rule mining).\n",
    "Data profiling is important to measure the quality of data, which in turn assists greately in the determination of data anomalies/inconsistencies, and as such, necessary data transformations.\n",
    "The data profiling reports will be generated with Pandas Profiling. Portions of these reports will be referenced in our project discussion, with the resource/s (data profiling reports) attached as an Appendix.\n"
   ]
  },
  {
   "cell_type": "code",
   "execution_count": 3,
   "metadata": {
    "tags": [
     "remove_input",
     "remove_output"
    ]
   },
   "outputs": [
    {
     "data": {
      "text/html": [
       "<div>\n",
       "<style scoped>\n",
       "    .dataframe tbody tr th:only-of-type {\n",
       "        vertical-align: middle;\n",
       "    }\n",
       "\n",
       "    .dataframe tbody tr th {\n",
       "        vertical-align: top;\n",
       "    }\n",
       "\n",
       "    .dataframe thead th {\n",
       "        text-align: right;\n",
       "    }\n",
       "</style>\n",
       "<table border=\"1\" class=\"dataframe\">\n",
       "  <thead>\n",
       "    <tr style=\"text-align: right;\">\n",
       "      <th></th>\n",
       "      <th>id</th>\n",
       "      <th>battery_power</th>\n",
       "      <th>blue</th>\n",
       "      <th>clock_speed</th>\n",
       "      <th>dual_sim</th>\n",
       "      <th>fc</th>\n",
       "      <th>four_g</th>\n",
       "      <th>int_memory</th>\n",
       "      <th>m_dep</th>\n",
       "      <th>mobile_wt</th>\n",
       "      <th>...</th>\n",
       "      <th>px_height</th>\n",
       "      <th>px_width</th>\n",
       "      <th>ram</th>\n",
       "      <th>sc_h</th>\n",
       "      <th>sc_w</th>\n",
       "      <th>talk_time</th>\n",
       "      <th>three_g</th>\n",
       "      <th>touch_screen</th>\n",
       "      <th>wifi</th>\n",
       "      <th>price_category</th>\n",
       "    </tr>\n",
       "  </thead>\n",
       "  <tbody>\n",
       "    <tr>\n",
       "      <th>0</th>\n",
       "      <td>0</td>\n",
       "      <td>842</td>\n",
       "      <td>no</td>\n",
       "      <td>2.2</td>\n",
       "      <td>no</td>\n",
       "      <td>1</td>\n",
       "      <td>0</td>\n",
       "      <td>7</td>\n",
       "      <td>0.6</td>\n",
       "      <td>188</td>\n",
       "      <td>...</td>\n",
       "      <td>20</td>\n",
       "      <td>756</td>\n",
       "      <td>2549</td>\n",
       "      <td>9</td>\n",
       "      <td>7</td>\n",
       "      <td>19</td>\n",
       "      <td>no</td>\n",
       "      <td>0</td>\n",
       "      <td>yes</td>\n",
       "      <td>0</td>\n",
       "    </tr>\n",
       "    <tr>\n",
       "      <th>1</th>\n",
       "      <td>1</td>\n",
       "      <td>1021</td>\n",
       "      <td>yes</td>\n",
       "      <td>0.5</td>\n",
       "      <td>YES</td>\n",
       "      <td>0</td>\n",
       "      <td>1</td>\n",
       "      <td>53</td>\n",
       "      <td>0.7</td>\n",
       "      <td>136</td>\n",
       "      <td>...</td>\n",
       "      <td>905</td>\n",
       "      <td>1988</td>\n",
       "      <td>2631</td>\n",
       "      <td>17</td>\n",
       "      <td>3</td>\n",
       "      <td>7</td>\n",
       "      <td>yes</td>\n",
       "      <td>1</td>\n",
       "      <td>no</td>\n",
       "      <td>0</td>\n",
       "    </tr>\n",
       "    <tr>\n",
       "      <th>2</th>\n",
       "      <td>2</td>\n",
       "      <td>563</td>\n",
       "      <td>yes</td>\n",
       "      <td>0.5</td>\n",
       "      <td>Yes</td>\n",
       "      <td>2</td>\n",
       "      <td>1</td>\n",
       "      <td>41</td>\n",
       "      <td>0.9</td>\n",
       "      <td>145</td>\n",
       "      <td>...</td>\n",
       "      <td>1263</td>\n",
       "      <td>1716</td>\n",
       "      <td>2603</td>\n",
       "      <td>11</td>\n",
       "      <td>2</td>\n",
       "      <td>9</td>\n",
       "      <td>yes</td>\n",
       "      <td>1</td>\n",
       "      <td>no</td>\n",
       "      <td>0</td>\n",
       "    </tr>\n",
       "    <tr>\n",
       "      <th>3</th>\n",
       "      <td>3</td>\n",
       "      <td>615</td>\n",
       "      <td>has</td>\n",
       "      <td>2.5</td>\n",
       "      <td>no</td>\n",
       "      <td>0</td>\n",
       "      <td>0</td>\n",
       "      <td>10</td>\n",
       "      <td>0.8</td>\n",
       "      <td>131</td>\n",
       "      <td>...</td>\n",
       "      <td>1216</td>\n",
       "      <td>1786</td>\n",
       "      <td>2769</td>\n",
       "      <td>16</td>\n",
       "      <td>8</td>\n",
       "      <td>11</td>\n",
       "      <td>Yes</td>\n",
       "      <td>0</td>\n",
       "      <td>no</td>\n",
       "      <td>0</td>\n",
       "    </tr>\n",
       "    <tr>\n",
       "      <th>4</th>\n",
       "      <td>4</td>\n",
       "      <td>1821</td>\n",
       "      <td>yes</td>\n",
       "      <td>1.2</td>\n",
       "      <td>NO</td>\n",
       "      <td>13</td>\n",
       "      <td>1</td>\n",
       "      <td>44</td>\n",
       "      <td>0.6</td>\n",
       "      <td>141</td>\n",
       "      <td>...</td>\n",
       "      <td>1208</td>\n",
       "      <td>1212</td>\n",
       "      <td>1411</td>\n",
       "      <td>8</td>\n",
       "      <td>2</td>\n",
       "      <td>15</td>\n",
       "      <td>Yes</td>\n",
       "      <td>1</td>\n",
       "      <td>no</td>\n",
       "      <td>0</td>\n",
       "    </tr>\n",
       "    <tr>\n",
       "      <th>...</th>\n",
       "      <td>...</td>\n",
       "      <td>...</td>\n",
       "      <td>...</td>\n",
       "      <td>...</td>\n",
       "      <td>...</td>\n",
       "      <td>...</td>\n",
       "      <td>...</td>\n",
       "      <td>...</td>\n",
       "      <td>...</td>\n",
       "      <td>...</td>\n",
       "      <td>...</td>\n",
       "      <td>...</td>\n",
       "      <td>...</td>\n",
       "      <td>...</td>\n",
       "      <td>...</td>\n",
       "      <td>...</td>\n",
       "      <td>...</td>\n",
       "      <td>...</td>\n",
       "      <td>...</td>\n",
       "      <td>...</td>\n",
       "      <td>...</td>\n",
       "    </tr>\n",
       "    <tr>\n",
       "      <th>1995</th>\n",
       "      <td>1995</td>\n",
       "      <td>794</td>\n",
       "      <td>yes</td>\n",
       "      <td>0.5</td>\n",
       "      <td>yes</td>\n",
       "      <td>0</td>\n",
       "      <td>1</td>\n",
       "      <td>2</td>\n",
       "      <td>0.8</td>\n",
       "      <td>106</td>\n",
       "      <td>...</td>\n",
       "      <td>1222</td>\n",
       "      <td>1890</td>\n",
       "      <td>668</td>\n",
       "      <td>13</td>\n",
       "      <td>4</td>\n",
       "      <td>19</td>\n",
       "      <td>yes</td>\n",
       "      <td>1</td>\n",
       "      <td>No</td>\n",
       "      <td>0</td>\n",
       "    </tr>\n",
       "    <tr>\n",
       "      <th>1996</th>\n",
       "      <td>1996</td>\n",
       "      <td>1965</td>\n",
       "      <td>yes</td>\n",
       "      <td>2.6</td>\n",
       "      <td>yes</td>\n",
       "      <td>0</td>\n",
       "      <td>0</td>\n",
       "      <td>39</td>\n",
       "      <td>0.2</td>\n",
       "      <td>187</td>\n",
       "      <td>...</td>\n",
       "      <td>915</td>\n",
       "      <td>1965</td>\n",
       "      <td>2032</td>\n",
       "      <td>11</td>\n",
       "      <td>10</td>\n",
       "      <td>16</td>\n",
       "      <td>has</td>\n",
       "      <td>1</td>\n",
       "      <td>yes</td>\n",
       "      <td>0</td>\n",
       "    </tr>\n",
       "    <tr>\n",
       "      <th>1997</th>\n",
       "      <td>1997</td>\n",
       "      <td>1911</td>\n",
       "      <td>no</td>\n",
       "      <td>0.9</td>\n",
       "      <td>yes</td>\n",
       "      <td>1</td>\n",
       "      <td>1</td>\n",
       "      <td>36</td>\n",
       "      <td>0.7</td>\n",
       "      <td>108</td>\n",
       "      <td>...</td>\n",
       "      <td>868</td>\n",
       "      <td>1632</td>\n",
       "      <td>3057</td>\n",
       "      <td>9</td>\n",
       "      <td>1</td>\n",
       "      <td>5</td>\n",
       "      <td>yes</td>\n",
       "      <td>1</td>\n",
       "      <td>no</td>\n",
       "      <td>1</td>\n",
       "    </tr>\n",
       "    <tr>\n",
       "      <th>1998</th>\n",
       "      <td>1998</td>\n",
       "      <td>1512</td>\n",
       "      <td>no</td>\n",
       "      <td>0.9</td>\n",
       "      <td>not</td>\n",
       "      <td>4</td>\n",
       "      <td>1</td>\n",
       "      <td>46</td>\n",
       "      <td>0.1</td>\n",
       "      <td>145</td>\n",
       "      <td>...</td>\n",
       "      <td>336</td>\n",
       "      <td>670</td>\n",
       "      <td>869</td>\n",
       "      <td>18</td>\n",
       "      <td>10</td>\n",
       "      <td>19</td>\n",
       "      <td>Yes</td>\n",
       "      <td>1</td>\n",
       "      <td>yes</td>\n",
       "      <td>0</td>\n",
       "    </tr>\n",
       "    <tr>\n",
       "      <th>1999</th>\n",
       "      <td>1999</td>\n",
       "      <td>510</td>\n",
       "      <td>Yes</td>\n",
       "      <td>2.0</td>\n",
       "      <td>yes</td>\n",
       "      <td>5</td>\n",
       "      <td>1</td>\n",
       "      <td>45</td>\n",
       "      <td>0.9</td>\n",
       "      <td>168</td>\n",
       "      <td>...</td>\n",
       "      <td>483</td>\n",
       "      <td>754</td>\n",
       "      <td>3919</td>\n",
       "      <td>19</td>\n",
       "      <td>4</td>\n",
       "      <td>2</td>\n",
       "      <td>yes</td>\n",
       "      <td>1</td>\n",
       "      <td>yes</td>\n",
       "      <td>1</td>\n",
       "    </tr>\n",
       "  </tbody>\n",
       "</table>\n",
       "<p>2000 rows × 22 columns</p>\n",
       "</div>"
      ],
      "text/plain": [
       "        id  battery_power blue  clock_speed dual_sim  fc  four_g  int_memory  \\\n",
       "0        0            842   no          2.2       no   1       0           7   \n",
       "1        1           1021  yes          0.5      YES   0       1          53   \n",
       "2        2            563  yes          0.5      Yes   2       1          41   \n",
       "3        3            615  has          2.5       no   0       0          10   \n",
       "4        4           1821  yes          1.2       NO  13       1          44   \n",
       "...    ...            ...  ...          ...      ...  ..     ...         ...   \n",
       "1995  1995            794  yes          0.5      yes   0       1           2   \n",
       "1996  1996           1965  yes          2.6      yes   0       0          39   \n",
       "1997  1997           1911   no          0.9      yes   1       1          36   \n",
       "1998  1998           1512   no          0.9      not   4       1          46   \n",
       "1999  1999            510  Yes          2.0      yes   5       1          45   \n",
       "\n",
       "      m_dep  mobile_wt  ...  px_height  px_width   ram  sc_h  sc_w  talk_time  \\\n",
       "0       0.6        188  ...         20       756  2549     9     7         19   \n",
       "1       0.7        136  ...        905      1988  2631    17     3          7   \n",
       "2       0.9        145  ...       1263      1716  2603    11     2          9   \n",
       "3       0.8        131  ...       1216      1786  2769    16     8         11   \n",
       "4       0.6        141  ...       1208      1212  1411     8     2         15   \n",
       "...     ...        ...  ...        ...       ...   ...   ...   ...        ...   \n",
       "1995    0.8        106  ...       1222      1890   668    13     4         19   \n",
       "1996    0.2        187  ...        915      1965  2032    11    10         16   \n",
       "1997    0.7        108  ...        868      1632  3057     9     1          5   \n",
       "1998    0.1        145  ...        336       670   869    18    10         19   \n",
       "1999    0.9        168  ...        483       754  3919    19     4          2   \n",
       "\n",
       "      three_g  touch_screen wifi  price_category  \n",
       "0          no             0  yes               0  \n",
       "1         yes             1   no               0  \n",
       "2         yes             1   no               0  \n",
       "3         Yes             0   no               0  \n",
       "4         Yes             1   no               0  \n",
       "...       ...           ...  ...             ...  \n",
       "1995      yes             1   No               0  \n",
       "1996      has             1  yes               0  \n",
       "1997      yes             1   no               1  \n",
       "1998      Yes             1  yes               0  \n",
       "1999      yes             1  yes               1  \n",
       "\n",
       "[2000 rows x 22 columns]"
      ]
     },
     "execution_count": 3,
     "metadata": {},
     "output_type": "execute_result"
    }
   ],
   "source": [
    "raw_data = pd.read_csv(\"./data/raw/mobile_price.csv\")\n",
    "raw_metadata = pd.read_excel(\"./data/raw/ColumnDescription.xlsx\", index_col=\"Column\")\n",
    "\n",
    "raw_data"
   ]
  },
  {
   "cell_type": "code",
   "execution_count": 4,
   "metadata": {
    "tags": [
     "remove_input",
     "remove_output"
    ]
   },
   "outputs": [
    {
     "data": {
      "text/plain": [
       "{'id': 'ID',\n",
       " 'battery_power': 'Total energy a battery can store in one time measured in mAh',\n",
       " 'blue': 'Has bluetooth or not',\n",
       " 'clock_speed': 'speed at which microprocessor executes instructions',\n",
       " 'dual_sim': 'Has dual sim support or not',\n",
       " 'fc': 'Front Camera mega pixels ',\n",
       " 'four_g': 'Has 4G or not. 1 = yes , 0 = no',\n",
       " 'int_memory': 'internal Memory in Gigabytes',\n",
       " 'm_dep': 'Mobile Depth in cm',\n",
       " 'mobile_wt': 'Weight of mobile phone',\n",
       " 'n_cores': 'Number of cores of processor',\n",
       " 'pc': 'Primary Camera mega pixels',\n",
       " 'px_height': 'Pixel Resolution Height',\n",
       " 'px_width': 'Pixel Resolution Width',\n",
       " 'ram': 'Random Access Memory in Mega Bytes',\n",
       " 'sc_h': 'Screen Height of mobile in cm',\n",
       " 'sc_w': 'Screen Width of mobile in cm',\n",
       " 'talk_time': 'longest time that a single battery charge will last when you are',\n",
       " 'three_g': 'Has 3G or not',\n",
       " 'touch_screen': 'Has touch screen or not, 1 = yes, 0 = no',\n",
       " 'wifi': 'Has wifi or not',\n",
       " 'price_category': 'This is the target variable with indicating if the mobile phone got a high price. 1 = yes, 0 = no'}"
      ]
     },
     "execution_count": 4,
     "metadata": {},
     "output_type": "execute_result"
    }
   ],
   "source": [
    "raw_metadata.to_dict()[\"Explaination\"]"
   ]
  },
  {
   "cell_type": "markdown",
   "metadata": {},
   "source": [
    "### Profiling Report\n",
    "\n",
    "With the imported metadata, and raw dataset, we can now populate and generate a `pandas_profiling` report. For reference, see `Raw Data Profiling Report`, in the apendix."
   ]
  },
  {
   "cell_type": "markdown",
   "metadata": {},
   "source": [
    "\n",
    "<br /> "
   ]
  },
  {
   "cell_type": "markdown",
   "metadata": {},
   "source": [
    "## Initial (raw import data) Interpretation, and Cleaning Strategy\n",
    "\n",
    "Here, we will walk through the fields presented in the profile of the raw data, and make the appropriate alterations / assumptions / cleaning steps. In the event of changes, we will apply them to the `staging_data` dataframe, and `staging_metadata` dictionary."
   ]
  },
  {
   "cell_type": "code",
   "execution_count": 5,
   "metadata": {
    "tags": [
     "remove_input",
     "remove_output"
    ]
   },
   "outputs": [],
   "source": [
    "# Clone the raw data & metadata \n",
    "staging_data = raw_data.copy()\n",
    "staging_metadata = raw_metadata.copy()\n",
    "\n",
    "# By default the new_name is the old_name\n",
    "staging_metadata[\"new_name\"] = staging_metadata.index"
   ]
  },
  {
   "cell_type": "code",
   "execution_count": 6,
   "metadata": {
    "tags": [
     "remove_input",
     "remove_output"
    ]
   },
   "outputs": [],
   "source": [
    "# helper functions\n",
    "    \n",
    "def string_to_bool(value):\n",
    "    \"\"\"\n",
    "    Converts String representation of Boolean (\"yes\", \"has\")/(\"no\",\"not\") to True/False\n",
    "    \"\"\"\n",
    "    if value.lower() in [\"yes\",\"has\"]:\n",
    "        return True\n",
    "    elif value.lower() in [\"no\",\"not\"]:\n",
    "        return False\n",
    "    return None\n",
    "\n",
    "\n",
    "def int_to_bool(value):\n",
    "    \"\"\"\n",
    "    Converts int representation of Boolean (1, 0) to True/False\n",
    "    \"\"\"\n",
    "    return value == 1\n",
    "\n",
    "\n",
    "def create_discretized_col(df, target_col, new_col_name=None, is_zero_its_own_category=True):\n",
    "    \"\"\"\n",
    "    This function discretises the column\n",
    "    \"\"\"\n",
    "    # Default value of new col\n",
    "    if new_col_name is None:\n",
    "        new_col_name = f\"{target_col}_category\"\n",
    "        \n",
    "    col_holder = df[target_col]\n",
    "    df[new_col_name] = 0 # Initialise\n",
    "    \n",
    "    if is_zero_its_own_category:\n",
    "        df.loc[col_holder>0, new_col_name] = pd.cut(col_holder[col_holder>0],bins=4,include_lowest=True)\n",
    "    else:\n",
    "        df.loc[:, new_col_name] = pd.cut(col_holder,bins=4,include_lowest=True)\n",
    "    \n",
    "    return df\n"
   ]
  },
  {
   "cell_type": "markdown",
   "metadata": {},
   "source": [
    "_____\n",
    "#### `ID`\n",
    "The id field is unique, and it seems to be a good candidate for primary key.  Note, we will NOT be using ID for any analysis, as it is an irrelevant attribute.\n"
   ]
  },
  {
   "cell_type": "markdown",
   "metadata": {},
   "source": [
    "_______\n",
    "#### `battery_power`\n",
    "The battery_power has 1094 distinct counts, approximately half the distinct counts of id.  This data is continuous, and as such, we shall discretise for the later association rule mining."
   ]
  },
  {
   "cell_type": "code",
   "execution_count": 7,
   "metadata": {
    "tags": [
     "remove_output"
    ]
   },
   "outputs": [],
   "source": [
    "# Discretizing battery_power\n",
    "staging_data = create_discretized_col(staging_data, \"battery_power\", is_zero_its_own_category = False)"
   ]
  },
  {
   "cell_type": "markdown",
   "metadata": {},
   "source": [
    "________\n",
    "\n",
    "#### `blue`\n",
    "This (\"has bluetooth\") field is a categorical data type (*boolean*), expressed (poorly) in string-form with inconsistencies.  We observe 10 distinct values that all refer to either the phone has bluetooth (True) or not (False). The inconsistencies must be attributed to an appropriate boolean value, and as such, this field needs to be cleaned."
   ]
  },
  {
   "cell_type": "code",
   "execution_count": 8,
   "metadata": {
    "tags": [
     "remove_output"
    ]
   },
   "outputs": [],
   "source": [
    "staging_data[\"has_bluetooth\"] = staging_data[\"blue\"].apply(string_to_bool)\n",
    "staging_metadata.loc[\"blue\",\"new_name\"] = \"has_bluetooth\"  # Rename metadata"
   ]
  },
  {
   "cell_type": "markdown",
   "metadata": {},
   "source": [
    "_____\n",
    "#### `clock_speed`\n",
    "The clock_speed attribute has 26 distinct values for which 413 of the records have value 0.5. Hence the distribution of values in the histogram is right skewed.  This data is continuous, and will also need to be discretised if we wish to use it in the association rule mining process."
   ]
  },
  {
   "cell_type": "code",
   "execution_count": 9,
   "metadata": {
    "tags": [
     "remove_output"
    ]
   },
   "outputs": [],
   "source": [
    "# Discretizing clock_speed\n",
    "staging_data = create_discretized_col(staging_data, \"clock_speed\", is_zero_its_own_category = False)"
   ]
  },
  {
   "cell_type": "markdown",
   "metadata": {},
   "source": [
    "_____\n",
    "#### `dual_sim`\n",
    "The dual_sim attirbute is similar to `blue` attribute wherein it is a categorical datatype (*boolean*) with inconsistencies sppread to 10 string distinct values. Hence, the procedure of cleaning will be similar."
   ]
  },
  {
   "cell_type": "code",
   "execution_count": 10,
   "metadata": {
    "tags": [
     "remove_output"
    ]
   },
   "outputs": [],
   "source": [
    "staging_data[\"has_dual_sim\"] = staging_data[\"dual_sim\"].apply(string_to_bool)\n",
    "staging_metadata.loc[\"dual_sim\",\"new_name\"] = \"has_dual_sim\"  # Rename metadata"
   ]
  },
  {
   "cell_type": "markdown",
   "metadata": {},
   "source": [
    "___\n",
    "#### `fc`\n",
    "The (*Front Camera*) `fc` attribute has 474 (23.7% of the dataset) zero values.  We will be interpreting the zero values as \"this phone does not have a front camera\" , (please see the ***Data Privacy Disclaimer*** below).  In addition, this continous data will be discretised, for later (association rule mining) purposes, with the zero values as a seperate category."
   ]
  },
  {
   "cell_type": "code",
   "execution_count": 11,
   "metadata": {
    "tags": [
     "remove_output"
    ]
   },
   "outputs": [],
   "source": [
    "staging_data[\"front_cam_resolution\"] = staging_data[\"fc\"]\n",
    "staging_metadata.loc[\"fc\",\"new_name\"] = \"front_cam_resolution\" # Rename metadata\n",
    "staging_data = create_discretized_col(staging_data, \"front_cam_resolution\", is_zero_its_own_category = True) # Discretizing front_cam_resolution"
   ]
  },
  {
   "cell_type": "markdown",
   "metadata": {},
   "source": [
    "___\n",
    "#### `four_g`\n",
    "The `four_g` attribute is a categorical (*boolean*) attribute indicated by \"yes=1\" and \"no=0\" of having 4G capability. For consistency, this will be converted from numeric (0 or 1) to boolean type."
   ]
  },
  {
   "cell_type": "code",
   "execution_count": 12,
   "metadata": {
    "tags": [
     "remove_output"
    ]
   },
   "outputs": [],
   "source": [
    "staging_data[\"has_four_g\"] = staging_data[\"four_g\"].apply(int_to_bool)\n",
    "staging_metadata.loc[\"four_g\",\"new_name\"] = \"has_four_g\" # Rename metadata"
   ]
  },
  {
   "cell_type": "markdown",
   "metadata": {},
   "source": [
    "_______\n",
    "\n"
   ]
  },
  {
   "cell_type": "markdown",
   "metadata": {},
   "source": [
    "#### `int_memory`\n",
    "The `int_memory` (*Internal Memory*) attribute has 63 distinct values that vary as shown in the *profiling-report* histogram. There are no records of phones having `0 GB` as the storage which would be expected, as phones would require a minimum amount of memory to host their respective operating software/s.  This continuous data will be discretised for later use in the association rule mining."
   ]
  },
  {
   "cell_type": "code",
   "execution_count": 13,
   "metadata": {
    "tags": [
     "remove_output"
    ]
   },
   "outputs": [],
   "source": [
    "staging_data = create_discretized_col(staging_data, \"int_memory\", is_zero_its_own_category = False) # Discretizing int_memory"
   ]
  },
  {
   "cell_type": "markdown",
   "metadata": {},
   "source": [
    "____________\n",
    "\n",
    "#### `m_dep`\n",
    "The `m_dep` (*Mobile Depth*) attribute has 10 distinct values that vary as shown in the *profiling-report* histogram. The minimum values do not make much sense, however, please refer to the ***Data Privacy Disclaimer*** below.  In addition, this continuous data will be discretised for later (association rule mining) purposes."
   ]
  },
  {
   "cell_type": "code",
   "execution_count": 14,
   "metadata": {
    "tags": [
     "remove_output"
    ]
   },
   "outputs": [],
   "source": [
    "staging_data[\"mobile_depth\"] = staging_data[\"m_dep\"]\n",
    "staging_metadata.loc[\"m_dep\",\"new_name\"] = \"mobile_depth\"  # Rename metadata\n",
    "staging_data = create_discretized_col(staging_data, \"mobile_depth\", is_zero_its_own_category = False) # Discretizing mobile_depth"
   ]
  },
  {
   "cell_type": "markdown",
   "metadata": {},
   "source": [
    "______________\n",
    "#### `mobile_wt`\n",
    "The `mobile_wt` (*Mobile Weight*) attribute has 121 distinct values that varies as shown in the *profiling-report* histogram. The minimum is `80` and the maximum is `200`, measured in presumably grams. This continuous data will be discritised for later association rule mining purposes."
   ]
  },
  {
   "cell_type": "code",
   "execution_count": 15,
   "metadata": {
    "tags": [
     "remove_output"
    ]
   },
   "outputs": [],
   "source": [
    "staging_data[\"mobile_weight\"] = staging_data[\"mobile_wt\"] \n",
    "staging_metadata.loc[\"mobile_wt\",\"new_name\"] = \"mobile_weight\" # Rename metadata\n",
    "staging_data = create_discretized_col(staging_data, \"mobile_weight\", is_zero_its_own_category = False) # Discretizing mobile_weight"
   ]
  },
  {
   "cell_type": "markdown",
   "metadata": {},
   "source": [
    "________\n",
    "#### `n_cores`\n",
    "The `n_cores` (*Number of Cores*) attribute looks almost uniform in the range `1-8`. This is categorical (numerical) data."
   ]
  },
  {
   "cell_type": "code",
   "execution_count": 16,
   "metadata": {
    "tags": [
     "remove_output"
    ]
   },
   "outputs": [],
   "source": [
    "staging_data[\"number_of_cores\"] = staging_data[\"n_cores\"]\n",
    "staging_metadata.loc[\"n_cores\",\"new_name\"] = \"number_of_cores\" # Rename metadata"
   ]
  },
  {
   "cell_type": "markdown",
   "metadata": {},
   "source": [
    "________________\n",
    "#### `pc`\n",
    "The `pc` (*Primary Camera Resolution*) attribute has 21 distinct values with 101 (5.1% of the dataset) with zero values. We will be interpreting the zero values as \"this phone does not have a primary camera\", (please see the ***Data Privacy Disclaimer*** below).  In addition, this continous data will be discretised, for later (association rule mining) purposes, with the zero values as a seperate category."
   ]
  },
  {
   "cell_type": "code",
   "execution_count": 17,
   "metadata": {
    "tags": [
     "remove_output"
    ]
   },
   "outputs": [],
   "source": [
    "staging_data[\"primary_cam_resolution\"] = staging_data[\"pc\"]\n",
    "staging_metadata.loc[\"pc\",\"new_name\"] = \"primary_cam_resolution\"\n",
    "staging_data = create_discretized_col(staging_data, \"primary_cam_resolution\", is_zero_its_own_category = True) # Discretizing primary_cam_resolution"
   ]
  },
  {
   "cell_type": "markdown",
   "metadata": {},
   "source": [
    "_____\n",
    "#### `px_height`\n",
    "The `px_height` attribute has a right skewed normal distribution with a mean value of `645` pixels and `443.79` standard deviation in the range `0-1960`.  We will be interpreting the two zero values as *extremely small, but not zero* values, (please see the ***Data Privacy Disclaimer*** below). This notion also applies to the nonsensicle low values. In addition, this continous data will be discretised, for later (association rule mining) purposes."
   ]
  },
  {
   "cell_type": "code",
   "execution_count": 18,
   "metadata": {
    "tags": [
     "remove_output"
    ]
   },
   "outputs": [],
   "source": [
    "# Discretizing px_height\n",
    "staging_data = create_discretized_col(staging_data, \"px_height\", is_zero_its_own_category = False)"
   ]
  },
  {
   "cell_type": "markdown",
   "metadata": {},
   "source": [
    "______\n",
    "#### `px_width`\n",
    "The `px_width` attribute has a varying distribution of values in the range 500 to 1998. This continous data will be discretised, for later (association rule mining) purposes."
   ]
  },
  {
   "cell_type": "code",
   "execution_count": 19,
   "metadata": {
    "tags": [
     "remove_output"
    ]
   },
   "outputs": [],
   "source": [
    "# Discretizing px_width\n",
    "staging_data = create_discretized_col(staging_data, \"px_width\", is_zero_its_own_category = False)"
   ]
  },
  {
   "cell_type": "markdown",
   "metadata": {},
   "source": [
    "_____\n",
    "#### `ram`\n",
    "The `ram` attribute has a varying distribution of values in the range `256-3998`. This continous data will be discretised, for later (association rule mining) purposes."
   ]
  },
  {
   "cell_type": "code",
   "execution_count": 20,
   "metadata": {
    "tags": [
     "remove_output"
    ]
   },
   "outputs": [],
   "source": [
    "# Discretizing ram\n",
    "staging_data = create_discretized_col(staging_data, \"ram\", is_zero_its_own_category = False)"
   ]
  },
  {
   "cell_type": "markdown",
   "metadata": {},
   "source": [
    "_____\n",
    "#### `sc_h`\n",
    "The `sc_h` (*Screen Height*) attributes has 15 distinct values with a range of `5-19`. This continous data will be discretised, for later (association rule mining) purposes."
   ]
  },
  {
   "cell_type": "code",
   "execution_count": 21,
   "metadata": {
    "tags": [
     "remove_output"
    ]
   },
   "outputs": [],
   "source": [
    "staging_data[\"screen_height\"] = staging_data[\"sc_h\"]\n",
    "staging_metadata.loc[\"sc_h\",\"new_name\"] = \"screen_height\" # Rename metadata\n",
    "staging_data = create_discretized_col(staging_data, \"screen_height\", is_zero_its_own_category = False) # Discretizing screen_height"
   ]
  },
  {
   "cell_type": "markdown",
   "metadata": {},
   "source": [
    "______________\n",
    "#### `sc_w`\n",
    "The `sc_w` (*Screen Width*) attribute has 19 distinct values with a range of `0-18` with 180 zero values. These zero values do not make *real world sense*, and so we will be interpreting the zero values as representatives of sensible, lower values (please see the ***Data Privacy Disclaimer*** below). This continous data will be discretised, for later (association rule mining) purposes."
   ]
  },
  {
   "cell_type": "code",
   "execution_count": 22,
   "metadata": {
    "tags": [
     "remove_output"
    ]
   },
   "outputs": [],
   "source": [
    "staging_data[\"screen_width\"] = staging_data[\"sc_w\"]\n",
    "staging_metadata.loc[\"sc_w\",\"new_name\"] = \"screen_width\" # Rename metadata\n",
    "staging_data = create_discretized_col(staging_data, \"screen_width\", is_zero_its_own_category = False) # Discretizing screen_width"
   ]
  },
  {
   "cell_type": "markdown",
   "metadata": {},
   "source": [
    "______\n",
    "#### `talk_time`\n",
    "The `talk_time` attribute has 19 distinct values with a range `2-20`. This continous data will be discretised, for later (association rule mining) purposes."
   ]
  },
  {
   "cell_type": "code",
   "execution_count": 23,
   "metadata": {
    "tags": [
     "remove_output"
    ]
   },
   "outputs": [],
   "source": [
    "# Discretizing talk_time\n",
    "staging_data = create_discretized_col(staging_data, \"talk_time\", is_zero_its_own_category = False)"
   ]
  },
  {
   "cell_type": "markdown",
   "metadata": {},
   "source": [
    "_______\n",
    "#### `three_g`\n",
    "The `three_g` attribute is similar to the `blue` and `dual_sim` attribute wherein it is a categorical (*boolean*) datatype, with inconsistencies spread to 10 (string) distinct values. Hence, the cleaning procedure will be similar."
   ]
  },
  {
   "cell_type": "code",
   "execution_count": 24,
   "metadata": {
    "tags": [
     "remove_output"
    ]
   },
   "outputs": [],
   "source": [
    "staging_data[\"has_three_g\"] = staging_data[\"three_g\"].apply(string_to_bool)\n",
    "staging_metadata.loc[\"three_g\",\"new_name\"] = \"has_three_g\" # Rename metadata"
   ]
  },
  {
   "cell_type": "markdown",
   "metadata": {},
   "source": [
    "_____\n",
    "#### `touch_screen`\n",
    "The `touch_screen` attribute is a categorical (*boolean*) attribute ,similar to the representation of `four_g`. Hence, the cleaning procedure is similar."
   ]
  },
  {
   "cell_type": "code",
   "execution_count": 25,
   "metadata": {
    "tags": [
     "remove_output"
    ]
   },
   "outputs": [],
   "source": [
    "staging_data[\"has_touch_screen\"] = staging_data[\"touch_screen\"].apply(int_to_bool)\n",
    "staging_metadata.loc[\"touch_screen\",\"new_name\"] = \"has_touch_screen\" # Rename metadata"
   ]
  },
  {
   "cell_type": "markdown",
   "metadata": {},
   "source": [
    "_____\n",
    "#### `wifi`\n",
    "The `wifi` attirbute is similar to `blue`,`dual_sim` and `three_g` attribute wherein it is a boolean datatype with inconsistencies spread to 10 (string) distinct values. Hence, the procedure of cleaning will be similar."
   ]
  },
  {
   "cell_type": "code",
   "execution_count": 26,
   "metadata": {
    "tags": [
     "remove_output"
    ]
   },
   "outputs": [],
   "source": [
    "staging_data[\"has_wifi\"] = staging_data[\"wifi\"].apply(string_to_bool)\n",
    "staging_metadata.loc[\"wifi\",\"new_name\"] = \"has_wifi\" # Rename metadata"
   ]
  },
  {
   "cell_type": "markdown",
   "metadata": {},
   "source": [
    "________\n",
    "#### `price_category`\n",
    "The `price_category` attribute is a categorical (*boolean*) attribute, similar to the representation of `four_g` and `touch_screen`. Hence, the cleaning procedure is similar."
   ]
  },
  {
   "cell_type": "code",
   "execution_count": 27,
   "metadata": {
    "tags": [
     "remove_output"
    ]
   },
   "outputs": [],
   "source": [
    "staging_data[\"is_expensive\"] = staging_data[\"price_category\"].apply(int_to_bool)\n",
    "staging_metadata.loc[\"price_category\",\"new_name\"] = \"is_expensive\" # Rename metadata"
   ]
  },
  {
   "cell_type": "markdown",
   "metadata": {},
   "source": [
    "__________"
   ]
  },
  {
   "cell_type": "markdown",
   "metadata": {},
   "source": [
    "### ***Data Privacy Disclaimer***\n",
    "\n",
    "The data provided (`mobile_prices.csv`) has had some of it's *real world* values altered, for privacy/legal reasons.  As such, decisions were made on how to best interpret unusual / nonsensicle `zero` values.\n",
    "\n",
    "\n",
    "#### **Appropriate zero values** (`primary_camera_resolution`, `front_camera_resolution`)\n",
    "Zero values for these attributes can be observed as the phone not having the attribute. This makes sense, as not all phones have a front camera, or primary camera.\n",
    "\n",
    "\n",
    "#### Inappropriate zero values (`px_height`, `screen_width`)\n",
    "Zero values for these attributes can be observed as **values altered for privacy reasons**, and should be interpreted as a representation of a low value (but **NOT** zero).\n",
    "\n",
    "\n",
    "<br>"
   ]
  },
  {
   "cell_type": "markdown",
   "metadata": {},
   "source": [
    "### Set `cleaned_data`\n",
    "\n",
    "- Declare our `cleaned_data`, `discretised_data` and `cleaned_metadata`;\n",
    "- Generate \"clean\" pandas-profiling report;\n",
    "- Export these to files;"
   ]
  },
  {
   "cell_type": "code",
   "execution_count": 28,
   "metadata": {
    "tags": [
     "remove_output"
    ]
   },
   "outputs": [],
   "source": [
    "cleaned_data = staging_data[[\"id\",\"battery_power\",\"has_bluetooth\",\n",
    "                             \"clock_speed\",\"has_dual_sim\",\"front_cam_resolution\",\n",
    "                             \"has_four_g\",\n",
    "                            \"int_memory\",\"mobile_depth\",\"mobile_weight\",\n",
    "                             \"number_of_cores\", \"primary_cam_resolution\", \"px_height\",\n",
    "                             \"px_width\", \"ram\", \"screen_height\",\n",
    "                             \"screen_width\", \"talk_time\", \"has_three_g\",\n",
    "                             \"has_touch_screen\", \"has_wifi\", \"is_expensive\"\n",
    "                            ]]\n",
    "discretised_data = staging_data[[\"battery_power_category\",\"has_bluetooth\",\n",
    "                             \"clock_speed_category\",\"has_dual_sim\",\"front_cam_resolution_category\", \"has_four_g\",\n",
    "                            \"int_memory_category\",\"mobile_depth_category\",\"mobile_weight_category\",\n",
    "                             \"number_of_cores\", \"primary_cam_resolution_category\", \"px_height_category\",\n",
    "                             \"px_width_category\", \"ram_category\", \"screen_height_category\",\n",
    "                             \"screen_width_category\", \"talk_time_category\", \"has_three_g\",\n",
    "                             \"has_touch_screen\", \"has_wifi\", \"is_expensive\"\n",
    "                            ]]"
   ]
  },
  {
   "cell_type": "markdown",
   "metadata": {},
   "source": [
    "#### Updated Metadata:"
   ]
  },
  {
   "cell_type": "code",
   "execution_count": 29,
   "metadata": {
    "tags": [
     "remove_input"
    ]
   },
   "outputs": [
    {
     "data": {
      "text/html": [
       "<div>\n",
       "<style scoped>\n",
       "    .dataframe tbody tr th:only-of-type {\n",
       "        vertical-align: middle;\n",
       "    }\n",
       "\n",
       "    .dataframe tbody tr th {\n",
       "        vertical-align: top;\n",
       "    }\n",
       "\n",
       "    .dataframe thead th {\n",
       "        text-align: right;\n",
       "    }\n",
       "</style>\n",
       "<table border=\"1\" class=\"dataframe\">\n",
       "  <thead>\n",
       "    <tr style=\"text-align: right;\">\n",
       "      <th></th>\n",
       "      <th>Explaination</th>\n",
       "    </tr>\n",
       "    <tr>\n",
       "      <th>new_name</th>\n",
       "      <th></th>\n",
       "    </tr>\n",
       "  </thead>\n",
       "  <tbody>\n",
       "    <tr>\n",
       "      <th>id</th>\n",
       "      <td>ID</td>\n",
       "    </tr>\n",
       "    <tr>\n",
       "      <th>battery_power</th>\n",
       "      <td>Total energy a battery can store in one time m...</td>\n",
       "    </tr>\n",
       "    <tr>\n",
       "      <th>has_bluetooth</th>\n",
       "      <td>Has bluetooth or not</td>\n",
       "    </tr>\n",
       "    <tr>\n",
       "      <th>clock_speed</th>\n",
       "      <td>speed at which microprocessor executes instruc...</td>\n",
       "    </tr>\n",
       "    <tr>\n",
       "      <th>has_dual_sim</th>\n",
       "      <td>Has dual sim support or not</td>\n",
       "    </tr>\n",
       "    <tr>\n",
       "      <th>front_cam_resolution</th>\n",
       "      <td>Front Camera mega pixels</td>\n",
       "    </tr>\n",
       "    <tr>\n",
       "      <th>has_four_g</th>\n",
       "      <td>Has 4G or not. 1 = yes , 0 = no</td>\n",
       "    </tr>\n",
       "    <tr>\n",
       "      <th>int_memory</th>\n",
       "      <td>internal Memory in Gigabytes</td>\n",
       "    </tr>\n",
       "    <tr>\n",
       "      <th>mobile_depth</th>\n",
       "      <td>Mobile Depth in cm</td>\n",
       "    </tr>\n",
       "    <tr>\n",
       "      <th>mobile_weight</th>\n",
       "      <td>Weight of mobile phone</td>\n",
       "    </tr>\n",
       "    <tr>\n",
       "      <th>number_of_cores</th>\n",
       "      <td>Number of cores of processor</td>\n",
       "    </tr>\n",
       "    <tr>\n",
       "      <th>primary_cam_resolution</th>\n",
       "      <td>Primary Camera mega pixels</td>\n",
       "    </tr>\n",
       "    <tr>\n",
       "      <th>px_height</th>\n",
       "      <td>Pixel Resolution Height</td>\n",
       "    </tr>\n",
       "    <tr>\n",
       "      <th>px_width</th>\n",
       "      <td>Pixel Resolution Width</td>\n",
       "    </tr>\n",
       "    <tr>\n",
       "      <th>ram</th>\n",
       "      <td>Random Access Memory in Mega Bytes</td>\n",
       "    </tr>\n",
       "    <tr>\n",
       "      <th>screen_height</th>\n",
       "      <td>Screen Height of mobile in cm</td>\n",
       "    </tr>\n",
       "    <tr>\n",
       "      <th>screen_width</th>\n",
       "      <td>Screen Width of mobile in cm</td>\n",
       "    </tr>\n",
       "    <tr>\n",
       "      <th>talk_time</th>\n",
       "      <td>longest time that a single battery charge will...</td>\n",
       "    </tr>\n",
       "    <tr>\n",
       "      <th>has_three_g</th>\n",
       "      <td>Has 3G or not</td>\n",
       "    </tr>\n",
       "    <tr>\n",
       "      <th>has_touch_screen</th>\n",
       "      <td>Has touch screen or not, 1 = yes, 0 = no</td>\n",
       "    </tr>\n",
       "    <tr>\n",
       "      <th>has_wifi</th>\n",
       "      <td>Has wifi or not</td>\n",
       "    </tr>\n",
       "    <tr>\n",
       "      <th>is_expensive</th>\n",
       "      <td>This is the target variable with indicating if...</td>\n",
       "    </tr>\n",
       "  </tbody>\n",
       "</table>\n",
       "</div>"
      ],
      "text/plain": [
       "                                                             Explaination\n",
       "new_name                                                                 \n",
       "id                                                                     ID\n",
       "battery_power           Total energy a battery can store in one time m...\n",
       "has_bluetooth                                        Has bluetooth or not\n",
       "clock_speed             speed at which microprocessor executes instruc...\n",
       "has_dual_sim                                  Has dual sim support or not\n",
       "front_cam_resolution                            Front Camera mega pixels \n",
       "has_four_g                                Has 4G or not. 1 = yes , 0 = no\n",
       "int_memory                                   internal Memory in Gigabytes\n",
       "mobile_depth                                           Mobile Depth in cm\n",
       "mobile_weight                                      Weight of mobile phone\n",
       "number_of_cores                              Number of cores of processor\n",
       "primary_cam_resolution                         Primary Camera mega pixels\n",
       "px_height                                         Pixel Resolution Height\n",
       "px_width                                           Pixel Resolution Width\n",
       "ram                                    Random Access Memory in Mega Bytes\n",
       "screen_height                               Screen Height of mobile in cm\n",
       "screen_width                                 Screen Width of mobile in cm\n",
       "talk_time               longest time that a single battery charge will...\n",
       "has_three_g                                                 Has 3G or not\n",
       "has_touch_screen                 Has touch screen or not, 1 = yes, 0 = no\n",
       "has_wifi                                                  Has wifi or not\n",
       "is_expensive            This is the target variable with indicating if..."
      ]
     },
     "execution_count": 29,
     "metadata": {},
     "output_type": "execute_result"
    }
   ],
   "source": [
    "# Cleaned metadata\n",
    "cleaned_metadata = staging_metadata.set_index(\"new_name\")\n",
    "cleaned_metadata_dict = cleaned_metadata.to_dict()[\"Explaination\"]\n",
    "cleaned_metadata"
   ]
  },
  {
   "cell_type": "code",
   "execution_count": 30,
   "metadata": {
    "tags": [
     "remove_input",
     "remove_output"
    ]
   },
   "outputs": [],
   "source": [
    "cleaned_data.to_csv(\"./data/cleaned/mobile_price.csv\",index=False) # Export cleaned_data\n",
    "discretised_data.to_csv(\"./data/cleaned/mobile_price_discretised.csv\",index=False) # Export discretised_data"
   ]
  },
  {
   "cell_type": "markdown",
   "metadata": {},
   "source": [
    "<br />\n",
    "\n",
    "### Pandas-Profiling (`cleaned_data` and `discretised_data`) Reports\n",
    "\n",
    "See `Clean Data Profiling Report`, and `Discretised Data Profiling Report` (in appendix)."
   ]
  },
  {
   "cell_type": "code",
   "execution_count": 31,
   "metadata": {
    "tags": [
     "remove_output"
    ]
   },
   "outputs": [
    {
     "data": {
      "text/html": [
       "<div>\n",
       "<style scoped>\n",
       "    .dataframe tbody tr th:only-of-type {\n",
       "        vertical-align: middle;\n",
       "    }\n",
       "\n",
       "    .dataframe tbody tr th {\n",
       "        vertical-align: top;\n",
       "    }\n",
       "\n",
       "    .dataframe thead th {\n",
       "        text-align: right;\n",
       "    }\n",
       "</style>\n",
       "<table border=\"1\" class=\"dataframe\">\n",
       "  <thead>\n",
       "    <tr style=\"text-align: right;\">\n",
       "      <th></th>\n",
       "      <th>battery_power_category</th>\n",
       "      <th>has_bluetooth</th>\n",
       "      <th>clock_speed_category</th>\n",
       "      <th>has_dual_sim</th>\n",
       "      <th>front_cam_resolution_category</th>\n",
       "      <th>has_four_g</th>\n",
       "      <th>int_memory_category</th>\n",
       "      <th>mobile_depth_category</th>\n",
       "      <th>mobile_weight_category</th>\n",
       "      <th>number_of_cores</th>\n",
       "      <th>...</th>\n",
       "      <th>px_height_category</th>\n",
       "      <th>px_width_category</th>\n",
       "      <th>ram_category</th>\n",
       "      <th>screen_height_category</th>\n",
       "      <th>screen_width_category</th>\n",
       "      <th>talk_time_category</th>\n",
       "      <th>has_three_g</th>\n",
       "      <th>has_touch_screen</th>\n",
       "      <th>has_wifi</th>\n",
       "      <th>is_expensive</th>\n",
       "    </tr>\n",
       "  </thead>\n",
       "  <tbody>\n",
       "    <tr>\n",
       "      <th>0</th>\n",
       "      <td>2</td>\n",
       "      <td>0</td>\n",
       "      <td>2</td>\n",
       "      <td>0</td>\n",
       "      <td>0</td>\n",
       "      <td>0</td>\n",
       "      <td>0</td>\n",
       "      <td>2</td>\n",
       "      <td>2</td>\n",
       "      <td>1</td>\n",
       "      <td>...</td>\n",
       "      <td>0</td>\n",
       "      <td>2</td>\n",
       "      <td>1</td>\n",
       "      <td>3</td>\n",
       "      <td>2</td>\n",
       "      <td>2</td>\n",
       "      <td>0</td>\n",
       "      <td>0</td>\n",
       "      <td>1</td>\n",
       "      <td>False</td>\n",
       "    </tr>\n",
       "    <tr>\n",
       "      <th>1</th>\n",
       "      <td>3</td>\n",
       "      <td>1</td>\n",
       "      <td>0</td>\n",
       "      <td>1</td>\n",
       "      <td>4</td>\n",
       "      <td>1</td>\n",
       "      <td>3</td>\n",
       "      <td>2</td>\n",
       "      <td>0</td>\n",
       "      <td>2</td>\n",
       "      <td>...</td>\n",
       "      <td>2</td>\n",
       "      <td>1</td>\n",
       "      <td>1</td>\n",
       "      <td>1</td>\n",
       "      <td>0</td>\n",
       "      <td>3</td>\n",
       "      <td>1</td>\n",
       "      <td>1</td>\n",
       "      <td>0</td>\n",
       "      <td>False</td>\n",
       "    </tr>\n",
       "    <tr>\n",
       "      <th>2</th>\n",
       "      <td>2</td>\n",
       "      <td>1</td>\n",
       "      <td>0</td>\n",
       "      <td>1</td>\n",
       "      <td>0</td>\n",
       "      <td>1</td>\n",
       "      <td>2</td>\n",
       "      <td>3</td>\n",
       "      <td>1</td>\n",
       "      <td>4</td>\n",
       "      <td>...</td>\n",
       "      <td>3</td>\n",
       "      <td>1</td>\n",
       "      <td>1</td>\n",
       "      <td>3</td>\n",
       "      <td>0</td>\n",
       "      <td>3</td>\n",
       "      <td>1</td>\n",
       "      <td>1</td>\n",
       "      <td>0</td>\n",
       "      <td>False</td>\n",
       "    </tr>\n",
       "    <tr>\n",
       "      <th>3</th>\n",
       "      <td>2</td>\n",
       "      <td>1</td>\n",
       "      <td>3</td>\n",
       "      <td>0</td>\n",
       "      <td>4</td>\n",
       "      <td>0</td>\n",
       "      <td>0</td>\n",
       "      <td>3</td>\n",
       "      <td>0</td>\n",
       "      <td>5</td>\n",
       "      <td>...</td>\n",
       "      <td>3</td>\n",
       "      <td>1</td>\n",
       "      <td>1</td>\n",
       "      <td>1</td>\n",
       "      <td>2</td>\n",
       "      <td>3</td>\n",
       "      <td>1</td>\n",
       "      <td>0</td>\n",
       "      <td>0</td>\n",
       "      <td>False</td>\n",
       "    </tr>\n",
       "    <tr>\n",
       "      <th>4</th>\n",
       "      <td>1</td>\n",
       "      <td>1</td>\n",
       "      <td>1</td>\n",
       "      <td>0</td>\n",
       "      <td>1</td>\n",
       "      <td>1</td>\n",
       "      <td>2</td>\n",
       "      <td>2</td>\n",
       "      <td>1</td>\n",
       "      <td>1</td>\n",
       "      <td>...</td>\n",
       "      <td>3</td>\n",
       "      <td>3</td>\n",
       "      <td>0</td>\n",
       "      <td>2</td>\n",
       "      <td>0</td>\n",
       "      <td>1</td>\n",
       "      <td>1</td>\n",
       "      <td>1</td>\n",
       "      <td>0</td>\n",
       "      <td>False</td>\n",
       "    </tr>\n",
       "    <tr>\n",
       "      <th>...</th>\n",
       "      <td>...</td>\n",
       "      <td>...</td>\n",
       "      <td>...</td>\n",
       "      <td>...</td>\n",
       "      <td>...</td>\n",
       "      <td>...</td>\n",
       "      <td>...</td>\n",
       "      <td>...</td>\n",
       "      <td>...</td>\n",
       "      <td>...</td>\n",
       "      <td>...</td>\n",
       "      <td>...</td>\n",
       "      <td>...</td>\n",
       "      <td>...</td>\n",
       "      <td>...</td>\n",
       "      <td>...</td>\n",
       "      <td>...</td>\n",
       "      <td>...</td>\n",
       "      <td>...</td>\n",
       "      <td>...</td>\n",
       "      <td>...</td>\n",
       "    </tr>\n",
       "    <tr>\n",
       "      <th>1995</th>\n",
       "      <td>2</td>\n",
       "      <td>1</td>\n",
       "      <td>0</td>\n",
       "      <td>1</td>\n",
       "      <td>4</td>\n",
       "      <td>1</td>\n",
       "      <td>0</td>\n",
       "      <td>3</td>\n",
       "      <td>3</td>\n",
       "      <td>5</td>\n",
       "      <td>...</td>\n",
       "      <td>3</td>\n",
       "      <td>1</td>\n",
       "      <td>2</td>\n",
       "      <td>0</td>\n",
       "      <td>0</td>\n",
       "      <td>2</td>\n",
       "      <td>1</td>\n",
       "      <td>1</td>\n",
       "      <td>0</td>\n",
       "      <td>False</td>\n",
       "    </tr>\n",
       "    <tr>\n",
       "      <th>1996</th>\n",
       "      <td>1</td>\n",
       "      <td>1</td>\n",
       "      <td>3</td>\n",
       "      <td>1</td>\n",
       "      <td>4</td>\n",
       "      <td>0</td>\n",
       "      <td>2</td>\n",
       "      <td>0</td>\n",
       "      <td>2</td>\n",
       "      <td>3</td>\n",
       "      <td>...</td>\n",
       "      <td>2</td>\n",
       "      <td>1</td>\n",
       "      <td>0</td>\n",
       "      <td>3</td>\n",
       "      <td>3</td>\n",
       "      <td>2</td>\n",
       "      <td>1</td>\n",
       "      <td>1</td>\n",
       "      <td>1</td>\n",
       "      <td>False</td>\n",
       "    </tr>\n",
       "    <tr>\n",
       "      <th>1997</th>\n",
       "      <td>1</td>\n",
       "      <td>0</td>\n",
       "      <td>0</td>\n",
       "      <td>1</td>\n",
       "      <td>0</td>\n",
       "      <td>1</td>\n",
       "      <td>2</td>\n",
       "      <td>2</td>\n",
       "      <td>3</td>\n",
       "      <td>7</td>\n",
       "      <td>...</td>\n",
       "      <td>2</td>\n",
       "      <td>1</td>\n",
       "      <td>1</td>\n",
       "      <td>3</td>\n",
       "      <td>0</td>\n",
       "      <td>0</td>\n",
       "      <td>1</td>\n",
       "      <td>1</td>\n",
       "      <td>0</td>\n",
       "      <td>True</td>\n",
       "    </tr>\n",
       "    <tr>\n",
       "      <th>1998</th>\n",
       "      <td>0</td>\n",
       "      <td>0</td>\n",
       "      <td>0</td>\n",
       "      <td>0</td>\n",
       "      <td>0</td>\n",
       "      <td>1</td>\n",
       "      <td>2</td>\n",
       "      <td>0</td>\n",
       "      <td>1</td>\n",
       "      <td>4</td>\n",
       "      <td>...</td>\n",
       "      <td>0</td>\n",
       "      <td>2</td>\n",
       "      <td>2</td>\n",
       "      <td>1</td>\n",
       "      <td>3</td>\n",
       "      <td>2</td>\n",
       "      <td>1</td>\n",
       "      <td>1</td>\n",
       "      <td>1</td>\n",
       "      <td>False</td>\n",
       "    </tr>\n",
       "    <tr>\n",
       "      <th>1999</th>\n",
       "      <td>2</td>\n",
       "      <td>1</td>\n",
       "      <td>2</td>\n",
       "      <td>1</td>\n",
       "      <td>0</td>\n",
       "      <td>1</td>\n",
       "      <td>2</td>\n",
       "      <td>3</td>\n",
       "      <td>1</td>\n",
       "      <td>5</td>\n",
       "      <td>...</td>\n",
       "      <td>0</td>\n",
       "      <td>2</td>\n",
       "      <td>3</td>\n",
       "      <td>1</td>\n",
       "      <td>0</td>\n",
       "      <td>0</td>\n",
       "      <td>1</td>\n",
       "      <td>1</td>\n",
       "      <td>1</td>\n",
       "      <td>True</td>\n",
       "    </tr>\n",
       "  </tbody>\n",
       "</table>\n",
       "<p>2000 rows × 21 columns</p>\n",
       "</div>"
      ],
      "text/plain": [
       "     battery_power_category  has_bluetooth clock_speed_category  has_dual_sim  \\\n",
       "0                         2              0                    2             0   \n",
       "1                         3              1                    0             1   \n",
       "2                         2              1                    0             1   \n",
       "3                         2              1                    3             0   \n",
       "4                         1              1                    1             0   \n",
       "...                     ...            ...                  ...           ...   \n",
       "1995                      2              1                    0             1   \n",
       "1996                      1              1                    3             1   \n",
       "1997                      1              0                    0             1   \n",
       "1998                      0              0                    0             0   \n",
       "1999                      2              1                    2             1   \n",
       "\n",
       "      front_cam_resolution_category  has_four_g int_memory_category  \\\n",
       "0                                 0           0                   0   \n",
       "1                                 4           1                   3   \n",
       "2                                 0           1                   2   \n",
       "3                                 4           0                   0   \n",
       "4                                 1           1                   2   \n",
       "...                             ...         ...                 ...   \n",
       "1995                              4           1                   0   \n",
       "1996                              4           0                   2   \n",
       "1997                              0           1                   2   \n",
       "1998                              0           1                   2   \n",
       "1999                              0           1                   2   \n",
       "\n",
       "     mobile_depth_category mobile_weight_category  number_of_cores  ...  \\\n",
       "0                        2                      2                1  ...   \n",
       "1                        2                      0                2  ...   \n",
       "2                        3                      1                4  ...   \n",
       "3                        3                      0                5  ...   \n",
       "4                        2                      1                1  ...   \n",
       "...                    ...                    ...              ...  ...   \n",
       "1995                     3                      3                5  ...   \n",
       "1996                     0                      2                3  ...   \n",
       "1997                     2                      3                7  ...   \n",
       "1998                     0                      1                4  ...   \n",
       "1999                     3                      1                5  ...   \n",
       "\n",
       "      px_height_category px_width_category ram_category  \\\n",
       "0                      0                 2            1   \n",
       "1                      2                 1            1   \n",
       "2                      3                 1            1   \n",
       "3                      3                 1            1   \n",
       "4                      3                 3            0   \n",
       "...                  ...               ...          ...   \n",
       "1995                   3                 1            2   \n",
       "1996                   2                 1            0   \n",
       "1997                   2                 1            1   \n",
       "1998                   0                 2            2   \n",
       "1999                   0                 2            3   \n",
       "\n",
       "     screen_height_category screen_width_category talk_time_category  \\\n",
       "0                         3                     2                  2   \n",
       "1                         1                     0                  3   \n",
       "2                         3                     0                  3   \n",
       "3                         1                     2                  3   \n",
       "4                         2                     0                  1   \n",
       "...                     ...                   ...                ...   \n",
       "1995                      0                     0                  2   \n",
       "1996                      3                     3                  2   \n",
       "1997                      3                     0                  0   \n",
       "1998                      1                     3                  2   \n",
       "1999                      1                     0                  0   \n",
       "\n",
       "     has_three_g  has_touch_screen  has_wifi  is_expensive  \n",
       "0              0                 0         1         False  \n",
       "1              1                 1         0         False  \n",
       "2              1                 1         0         False  \n",
       "3              1                 0         0         False  \n",
       "4              1                 1         0         False  \n",
       "...          ...               ...       ...           ...  \n",
       "1995           1                 1         0         False  \n",
       "1996           1                 1         1         False  \n",
       "1997           1                 1         0          True  \n",
       "1998           1                 1         1         False  \n",
       "1999           1                 1         1          True  \n",
       "\n",
       "[2000 rows x 21 columns]"
      ]
     },
     "execution_count": 31,
     "metadata": {},
     "output_type": "execute_result"
    }
   ],
   "source": [
    "# Sort all the columns based on value (this will determine the Ordinal Encoder)\n",
    "\n",
    "discretised_ordered_data = discretised_data.copy()\n",
    "for column in discretised_data.columns:\n",
    "    if column != 'is_expensive':\n",
    "        unique_sorted_values =np.sort(np.unique(discretised_data[column].astype(str)))\n",
    "        dictionary = {}\n",
    "        for numeric_value in range(len(unique_sorted_values)):\n",
    "            dictionary[unique_sorted_values[numeric_value]] = numeric_value\n",
    "        discretised_ordered_data[column] = discretised_data[column].apply(lambda value: dictionary[str(value)])\n",
    "    \n",
    "discretised_ordered_data"
   ]
  },
  {
   "cell_type": "code",
   "execution_count": 32,
   "metadata": {},
   "outputs": [
    {
     "data": {
      "image/png": "[encoded data removed]",
      "text/plain": [
       "<Figure size 1080x864 with 20 Axes>"
      ]
     },
     "metadata": {},
     "output_type": "display_data"
    }
   ],
   "source": [
    "melted_data = pd.melt(discretised_ordered_data, \"is_expensive\", discretised_ordered_data.drop([\"is_expensive\"],axis=\"columns\"), value_name=\"Ordinal Value\",)\n",
    "g = sns.FacetGrid(melted_data, col=\"variable\", hue=\"is_expensive\", col_wrap=5)\n",
    "g.map(sns.kdeplot, \"Ordinal Value\", shade=True)\n",
    "g.set_axis_labels(\"Ordinal Values\", \"Mystery y-axis\")\n",
    "plt.xlim(0,5)\n",
    "plt.legend()\n",
    "plt.show()"
   ]
  },
  {
   "cell_type": "markdown",
   "metadata": {},
   "source": [
    "This shows the relative frequency graph of the discretised data, in ordinal form, split by the `is_expensive` field.  The variable `ram_category` displays a strong variance, regarding its seperation with the `is_expensive` field."
   ]
  },
  {
   "cell_type": "markdown",
   "metadata": {},
   "source": [
    "<br />"
   ]
  },
  {
   "cell_type": "markdown",
   "metadata": {},
   "source": [
    "# <u>Association rule mining</u>\n",
    "\n",
    "\n",
    "The idea of association rule mining (ARM) is to gather the characteristics that occurs frequently. Our approach is to take the characteristics of each of the phone atrributes (in the record) with the following strategy:\n",
    "\n",
    "- keep the current cleaned data especially the boolean values;\n",
    "- discretise the numeric values;\n",
    "\n",
    "Before the \"apriori\" runs, the data should be in the form similar to:\n",
    "\n",
    "\n",
    "|has_bluetooth|has_dual_sim|battery_power_0-100|...|\n",
    "|---\t|---\t|---\t|---\t|\n",
    "|True|False|True|True|\n",
    "|True|True|False|True|\n",
    "|False|True|True|False|"
   ]
  },
  {
   "cell_type": "markdown",
   "metadata": {},
   "source": [
    "### ARM Pre-Processing"
   ]
  },
  {
   "cell_type": "code",
   "execution_count": 33,
   "metadata": {},
   "outputs": [
    {
     "data": {
      "text/html": [
       "<div>\n",
       "<style scoped>\n",
       "    .dataframe tbody tr th:only-of-type {\n",
       "        vertical-align: middle;\n",
       "    }\n",
       "\n",
       "    .dataframe tbody tr th {\n",
       "        vertical-align: top;\n",
       "    }\n",
       "\n",
       "    .dataframe thead th {\n",
       "        text-align: right;\n",
       "    }\n",
       "</style>\n",
       "<table border=\"1\" class=\"dataframe\">\n",
       "  <thead>\n",
       "    <tr style=\"text-align: right;\">\n",
       "      <th></th>\n",
       "      <th>has_bluetooth</th>\n",
       "      <th>has_dual_sim</th>\n",
       "      <th>has_four_g</th>\n",
       "      <th>has_three_g</th>\n",
       "      <th>has_touch_screen</th>\n",
       "      <th>has_wifi</th>\n",
       "      <th>is_expensive</th>\n",
       "      <th>battery_power_category_(499.502, 875.25]</th>\n",
       "      <th>battery_power_category_(875.25, 1249.5]</th>\n",
       "      <th>battery_power_category_(1623.75, 1998.0]</th>\n",
       "      <th>...</th>\n",
       "      <th>screen_height_category_(4.984999999999999, 8.5]</th>\n",
       "      <th>screen_height_category_(12.0, 15.5]</th>\n",
       "      <th>screen_width_category_(4.5, 9.0]</th>\n",
       "      <th>screen_width_category_(-0.019, 4.5]</th>\n",
       "      <th>screen_width_category_(9.0, 13.5]</th>\n",
       "      <th>screen_width_category_(13.5, 18.0]</th>\n",
       "      <th>talk_time_category_(15.5, 20.0]</th>\n",
       "      <th>talk_time_category_(6.5, 11.0]</th>\n",
       "      <th>talk_time_category_(11.0, 15.5]</th>\n",
       "      <th>talk_time_category_(1.981, 6.5]</th>\n",
       "    </tr>\n",
       "  </thead>\n",
       "  <tbody>\n",
       "    <tr>\n",
       "      <th>0</th>\n",
       "      <td>False</td>\n",
       "      <td>False</td>\n",
       "      <td>False</td>\n",
       "      <td>False</td>\n",
       "      <td>False</td>\n",
       "      <td>True</td>\n",
       "      <td>False</td>\n",
       "      <td>True</td>\n",
       "      <td>False</td>\n",
       "      <td>False</td>\n",
       "      <td>...</td>\n",
       "      <td>False</td>\n",
       "      <td>False</td>\n",
       "      <td>True</td>\n",
       "      <td>False</td>\n",
       "      <td>False</td>\n",
       "      <td>False</td>\n",
       "      <td>True</td>\n",
       "      <td>False</td>\n",
       "      <td>False</td>\n",
       "      <td>False</td>\n",
       "    </tr>\n",
       "    <tr>\n",
       "      <th>1</th>\n",
       "      <td>True</td>\n",
       "      <td>True</td>\n",
       "      <td>True</td>\n",
       "      <td>True</td>\n",
       "      <td>True</td>\n",
       "      <td>False</td>\n",
       "      <td>False</td>\n",
       "      <td>False</td>\n",
       "      <td>True</td>\n",
       "      <td>False</td>\n",
       "      <td>...</td>\n",
       "      <td>False</td>\n",
       "      <td>False</td>\n",
       "      <td>False</td>\n",
       "      <td>True</td>\n",
       "      <td>False</td>\n",
       "      <td>False</td>\n",
       "      <td>False</td>\n",
       "      <td>True</td>\n",
       "      <td>False</td>\n",
       "      <td>False</td>\n",
       "    </tr>\n",
       "    <tr>\n",
       "      <th>2</th>\n",
       "      <td>True</td>\n",
       "      <td>True</td>\n",
       "      <td>True</td>\n",
       "      <td>True</td>\n",
       "      <td>True</td>\n",
       "      <td>False</td>\n",
       "      <td>False</td>\n",
       "      <td>True</td>\n",
       "      <td>False</td>\n",
       "      <td>False</td>\n",
       "      <td>...</td>\n",
       "      <td>False</td>\n",
       "      <td>False</td>\n",
       "      <td>False</td>\n",
       "      <td>True</td>\n",
       "      <td>False</td>\n",
       "      <td>False</td>\n",
       "      <td>False</td>\n",
       "      <td>True</td>\n",
       "      <td>False</td>\n",
       "      <td>False</td>\n",
       "    </tr>\n",
       "  </tbody>\n",
       "</table>\n",
       "<p>3 rows × 69 columns</p>\n",
       "</div>"
      ],
      "text/plain": [
       "   has_bluetooth  has_dual_sim  has_four_g  has_three_g  has_touch_screen  \\\n",
       "0          False         False       False        False             False   \n",
       "1           True          True        True         True              True   \n",
       "2           True          True        True         True              True   \n",
       "\n",
       "   has_wifi  is_expensive  battery_power_category_(499.502, 875.25]  \\\n",
       "0      True         False                                      True   \n",
       "1     False         False                                     False   \n",
       "2     False         False                                      True   \n",
       "\n",
       "   battery_power_category_(875.25, 1249.5]  \\\n",
       "0                                    False   \n",
       "1                                     True   \n",
       "2                                    False   \n",
       "\n",
       "   battery_power_category_(1623.75, 1998.0]  ...  \\\n",
       "0                                     False  ...   \n",
       "1                                     False  ...   \n",
       "2                                     False  ...   \n",
       "\n",
       "   screen_height_category_(4.984999999999999, 8.5]  \\\n",
       "0                                            False   \n",
       "1                                            False   \n",
       "2                                            False   \n",
       "\n",
       "   screen_height_category_(12.0, 15.5]  screen_width_category_(4.5, 9.0]  \\\n",
       "0                                False                              True   \n",
       "1                                False                             False   \n",
       "2                                False                             False   \n",
       "\n",
       "   screen_width_category_(-0.019, 4.5]  screen_width_category_(9.0, 13.5]  \\\n",
       "0                                False                              False   \n",
       "1                                 True                              False   \n",
       "2                                 True                              False   \n",
       "\n",
       "   screen_width_category_(13.5, 18.0]  talk_time_category_(15.5, 20.0]  \\\n",
       "0                               False                             True   \n",
       "1                               False                            False   \n",
       "2                               False                            False   \n",
       "\n",
       "   talk_time_category_(6.5, 11.0]  talk_time_category_(11.0, 15.5]  \\\n",
       "0                           False                            False   \n",
       "1                            True                            False   \n",
       "2                            True                            False   \n",
       "\n",
       "   talk_time_category_(1.981, 6.5]  \n",
       "0                            False  \n",
       "1                            False  \n",
       "2                            False  \n",
       "\n",
       "[3 rows x 69 columns]"
      ]
     },
     "execution_count": 33,
     "metadata": {},
     "output_type": "execute_result"
    }
   ],
   "source": [
    "# restructuring cleaned_data for association rule mining\n",
    "ARM_data = discretised_data\n",
    "\n",
    "# Boolean Tables\n",
    "ARM_structured_data = ARM_data.copy()[[item[0] for item in zip(ARM_data.columns,ARM_data.dtypes) if item[1] == np.bool]]\n",
    "\n",
    "# Discretise data\n",
    "non_boolean_values = ARM_data[[item[0] for item in zip(ARM_data.columns,ARM_data.dtypes) if item[1] != np.bool]]\n",
    "\n",
    "# Adding extra columns from discretise data into columns\n",
    "for non_boolean_column in non_boolean_values.columns:\n",
    "    unique_values_in_column = ARM_data[non_boolean_column].unique()\n",
    "    for category_name in unique_values_in_column:\n",
    "        \n",
    "        # Assign true if the current category name matches the data\n",
    "        ARM_structured_data[f\"{non_boolean_column}_{category_name}\"] = ARM_data[non_boolean_column]==category_name\n",
    "        \n",
    "ARM_structured_data.head(3)"
   ]
  },
  {
   "cell_type": "markdown",
   "metadata": {},
   "source": [
    "This is what the data looks like (above), after pre-processing for association rule mining."
   ]
  },
  {
   "cell_type": "code",
   "execution_count": 34,
   "metadata": {
    "tags": [
     "remove_input",
     "remove_output"
    ]
   },
   "outputs": [],
   "source": [
    "ARM_structured_data.to_csv(\"./data/cleaned/ARM_item_characteristics.csv\", index=False) # export to csv"
   ]
  },
  {
   "cell_type": "markdown",
   "metadata": {},
   "source": [
    "### Frequent Pattern Mining: Apriori Algorithm\n",
    "\n",
    "- Explination (apriori algo)\n",
    "\n",
    "\n",
    "- Minimum support (expln) -> min amount for a rule to be considered a frequent (our case 10%). Probably not something that is good, but putting min support low, allows us to encompass ALL the rules (there are too many rules), whilst also allowing us to filter rules. If we set the support too high, then the program mines a stricter, limited amount of rules.\n",
    "\n",
    "\n",
    "- Lift (expln)\n",
    "\n",
    "- Confidence (expln)\n",
    "\n",
    "\n",
    "- Belo"
   ]
  },
  {
   "cell_type": "code",
   "execution_count": 35,
   "metadata": {},
   "outputs": [
    {
     "name": "stdout",
     "output_type": "stream",
     "text": [
      "Processing 570 combinations | Sampling itemset size 5 4\n"
     ]
    },
    {
     "data": {
      "text/html": [
       "<div>\n",
       "<style scoped>\n",
       "    .dataframe tbody tr th:only-of-type {\n",
       "        vertical-align: middle;\n",
       "    }\n",
       "\n",
       "    .dataframe tbody tr th {\n",
       "        vertical-align: top;\n",
       "    }\n",
       "\n",
       "    .dataframe thead th {\n",
       "        text-align: right;\n",
       "    }\n",
       "</style>\n",
       "<table border=\"1\" class=\"dataframe\">\n",
       "  <thead>\n",
       "    <tr style=\"text-align: right;\">\n",
       "      <th></th>\n",
       "      <th>support</th>\n",
       "      <th>itemsets</th>\n",
       "    </tr>\n",
       "  </thead>\n",
       "  <tbody>\n",
       "    <tr>\n",
       "      <th>0</th>\n",
       "      <td>0.4950</td>\n",
       "      <td>(has_bluetooth)</td>\n",
       "    </tr>\n",
       "    <tr>\n",
       "      <th>1</th>\n",
       "      <td>0.5095</td>\n",
       "      <td>(has_dual_sim)</td>\n",
       "    </tr>\n",
       "    <tr>\n",
       "      <th>2</th>\n",
       "      <td>0.5215</td>\n",
       "      <td>(has_four_g)</td>\n",
       "    </tr>\n",
       "    <tr>\n",
       "      <th>3</th>\n",
       "      <td>0.7615</td>\n",
       "      <td>(has_three_g)</td>\n",
       "    </tr>\n",
       "    <tr>\n",
       "      <th>4</th>\n",
       "      <td>0.5030</td>\n",
       "      <td>(has_touch_screen)</td>\n",
       "    </tr>\n",
       "    <tr>\n",
       "      <th>...</th>\n",
       "      <td>...</td>\n",
       "      <td>...</td>\n",
       "    </tr>\n",
       "    <tr>\n",
       "      <th>712</th>\n",
       "      <td>0.1165</td>\n",
       "      <td>(has_three_g, has_four_g, screen_width_categor...</td>\n",
       "    </tr>\n",
       "    <tr>\n",
       "      <th>713</th>\n",
       "      <td>0.1165</td>\n",
       "      <td>(has_three_g, ram_category_(3062.5, 3998.0], h...</td>\n",
       "    </tr>\n",
       "    <tr>\n",
       "      <th>714</th>\n",
       "      <td>0.1000</td>\n",
       "      <td>(has_three_g, clock_speed_category_(0.497, 1.1...</td>\n",
       "    </tr>\n",
       "    <tr>\n",
       "      <th>715</th>\n",
       "      <td>0.1100</td>\n",
       "      <td>(has_three_g, front_cam_resolution_category_(0...</td>\n",
       "    </tr>\n",
       "    <tr>\n",
       "      <th>716</th>\n",
       "      <td>0.1050</td>\n",
       "      <td>(has_three_g, px_height_category_(-1.960999999...</td>\n",
       "    </tr>\n",
       "  </tbody>\n",
       "</table>\n",
       "<p>717 rows × 2 columns</p>\n",
       "</div>"
      ],
      "text/plain": [
       "     support                                           itemsets\n",
       "0     0.4950                                    (has_bluetooth)\n",
       "1     0.5095                                     (has_dual_sim)\n",
       "2     0.5215                                       (has_four_g)\n",
       "3     0.7615                                      (has_three_g)\n",
       "4     0.5030                                 (has_touch_screen)\n",
       "..       ...                                                ...\n",
       "712   0.1165  (has_three_g, has_four_g, screen_width_categor...\n",
       "713   0.1165  (has_three_g, ram_category_(3062.5, 3998.0], h...\n",
       "714   0.1000  (has_three_g, clock_speed_category_(0.497, 1.1...\n",
       "715   0.1100  (has_three_g, front_cam_resolution_category_(0...\n",
       "716   0.1050  (has_three_g, px_height_category_(-1.960999999...\n",
       "\n",
       "[717 rows x 2 columns]"
      ]
     },
     "execution_count": 35,
     "metadata": {},
     "output_type": "execute_result"
    }
   ],
   "source": [
    "# This defines what is considered as a minimum item\n",
    "MINIMUM_SUPPORT = 0.1\n",
    "frequent_items = apriori(ARM_structured_data,min_support=MINIMUM_SUPPORT,use_colnames=True, verbose=True)\n",
    "frequent_items"
   ]
  },
  {
   "cell_type": "markdown",
   "metadata": {},
   "source": [
    "The (above) table demonstrates the item sets that meet the minimum defined support (`0.1`).\n",
    "\n",
    "<br />"
   ]
  },
  {
   "cell_type": "markdown",
   "metadata": {},
   "source": [
    "### Rules by 'Minimum Confidence'"
   ]
  },
  {
   "cell_type": "code",
   "execution_count": 36,
   "metadata": {},
   "outputs": [
    {
     "data": {
      "text/html": [
       "<div>\n",
       "<style scoped>\n",
       "    .dataframe tbody tr th:only-of-type {\n",
       "        vertical-align: middle;\n",
       "    }\n",
       "\n",
       "    .dataframe tbody tr th {\n",
       "        vertical-align: top;\n",
       "    }\n",
       "\n",
       "    .dataframe thead th {\n",
       "        text-align: right;\n",
       "    }\n",
       "</style>\n",
       "<table border=\"1\" class=\"dataframe\">\n",
       "  <thead>\n",
       "    <tr style=\"text-align: right;\">\n",
       "      <th></th>\n",
       "      <th>antecedents</th>\n",
       "      <th>consequents</th>\n",
       "      <th>antecedent support</th>\n",
       "      <th>consequent support</th>\n",
       "      <th>support</th>\n",
       "      <th>confidence</th>\n",
       "      <th>lift</th>\n",
       "      <th>leverage</th>\n",
       "      <th>conviction</th>\n",
       "    </tr>\n",
       "  </thead>\n",
       "  <tbody>\n",
       "    <tr>\n",
       "      <th>1552</th>\n",
       "      <td>(ram_category_(3062.5, 3998.0], has_four_g)</td>\n",
       "      <td>(is_expensive)</td>\n",
       "      <td>0.1360</td>\n",
       "      <td>0.2500</td>\n",
       "      <td>0.1165</td>\n",
       "      <td>0.856618</td>\n",
       "      <td>3.426471</td>\n",
       "      <td>0.082500</td>\n",
       "      <td>5.230769</td>\n",
       "    </tr>\n",
       "    <tr>\n",
       "      <th>2226</th>\n",
       "      <td>(ram_category_(3062.5, 3998.0], has_four_g)</td>\n",
       "      <td>(has_three_g, is_expensive)</td>\n",
       "      <td>0.1360</td>\n",
       "      <td>0.1925</td>\n",
       "      <td>0.1165</td>\n",
       "      <td>0.856618</td>\n",
       "      <td>4.449962</td>\n",
       "      <td>0.090320</td>\n",
       "      <td>5.631795</td>\n",
       "    </tr>\n",
       "    <tr>\n",
       "      <th>2219</th>\n",
       "      <td>(has_three_g, ram_category_(3062.5, 3998.0], h...</td>\n",
       "      <td>(is_expensive)</td>\n",
       "      <td>0.1360</td>\n",
       "      <td>0.2500</td>\n",
       "      <td>0.1165</td>\n",
       "      <td>0.856618</td>\n",
       "      <td>3.426471</td>\n",
       "      <td>0.082500</td>\n",
       "      <td>5.230769</td>\n",
       "    </tr>\n",
       "    <tr>\n",
       "      <th>1882</th>\n",
       "      <td>(ram_category_(3062.5, 3998.0], has_touch_screen)</td>\n",
       "      <td>(is_expensive)</td>\n",
       "      <td>0.1215</td>\n",
       "      <td>0.2500</td>\n",
       "      <td>0.1030</td>\n",
       "      <td>0.847737</td>\n",
       "      <td>3.390947</td>\n",
       "      <td>0.072625</td>\n",
       "      <td>4.925676</td>\n",
       "    </tr>\n",
       "    <tr>\n",
       "      <th>1756</th>\n",
       "      <td>(has_three_g, ram_category_(3062.5, 3998.0])</td>\n",
       "      <td>(is_expensive)</td>\n",
       "      <td>0.1935</td>\n",
       "      <td>0.2500</td>\n",
       "      <td>0.1635</td>\n",
       "      <td>0.844961</td>\n",
       "      <td>3.379845</td>\n",
       "      <td>0.115125</td>\n",
       "      <td>4.837500</td>\n",
       "    </tr>\n",
       "    <tr>\n",
       "      <th>1889</th>\n",
       "      <td>(ram_category_(3062.5, 3998.0], has_wifi)</td>\n",
       "      <td>(is_expensive)</td>\n",
       "      <td>0.1285</td>\n",
       "      <td>0.2500</td>\n",
       "      <td>0.1080</td>\n",
       "      <td>0.840467</td>\n",
       "      <td>3.361868</td>\n",
       "      <td>0.075875</td>\n",
       "      <td>4.701220</td>\n",
       "    </tr>\n",
       "    <tr>\n",
       "      <th>1020</th>\n",
       "      <td>(has_bluetooth, ram_category_(3062.5, 3998.0])</td>\n",
       "      <td>(is_expensive)</td>\n",
       "      <td>0.1300</td>\n",
       "      <td>0.2500</td>\n",
       "      <td>0.1090</td>\n",
       "      <td>0.838462</td>\n",
       "      <td>3.353846</td>\n",
       "      <td>0.076500</td>\n",
       "      <td>4.642857</td>\n",
       "    </tr>\n",
       "    <tr>\n",
       "      <th>572</th>\n",
       "      <td>(ram_category_(3062.5, 3998.0])</td>\n",
       "      <td>(is_expensive)</td>\n",
       "      <td>0.2510</td>\n",
       "      <td>0.2500</td>\n",
       "      <td>0.2090</td>\n",
       "      <td>0.832669</td>\n",
       "      <td>3.330677</td>\n",
       "      <td>0.146250</td>\n",
       "      <td>4.482143</td>\n",
       "    </tr>\n",
       "    <tr>\n",
       "      <th>1230</th>\n",
       "      <td>(has_dual_sim, ram_category_(3062.5, 3998.0])</td>\n",
       "      <td>(is_expensive)</td>\n",
       "      <td>0.1395</td>\n",
       "      <td>0.2500</td>\n",
       "      <td>0.1150</td>\n",
       "      <td>0.824373</td>\n",
       "      <td>3.297491</td>\n",
       "      <td>0.080125</td>\n",
       "      <td>4.270408</td>\n",
       "    </tr>\n",
       "    <tr>\n",
       "      <th>1760</th>\n",
       "      <td>(ram_category_(3062.5, 3998.0])</td>\n",
       "      <td>(has_three_g, is_expensive)</td>\n",
       "      <td>0.2510</td>\n",
       "      <td>0.1925</td>\n",
       "      <td>0.1635</td>\n",
       "      <td>0.651394</td>\n",
       "      <td>3.383867</td>\n",
       "      <td>0.115183</td>\n",
       "      <td>2.316371</td>\n",
       "    </tr>\n",
       "  </tbody>\n",
       "</table>\n",
       "</div>"
      ],
      "text/plain": [
       "                                            antecedents  \\\n",
       "1552        (ram_category_(3062.5, 3998.0], has_four_g)   \n",
       "2226        (ram_category_(3062.5, 3998.0], has_four_g)   \n",
       "2219  (has_three_g, ram_category_(3062.5, 3998.0], h...   \n",
       "1882  (ram_category_(3062.5, 3998.0], has_touch_screen)   \n",
       "1756       (has_three_g, ram_category_(3062.5, 3998.0])   \n",
       "1889          (ram_category_(3062.5, 3998.0], has_wifi)   \n",
       "1020     (has_bluetooth, ram_category_(3062.5, 3998.0])   \n",
       "572                     (ram_category_(3062.5, 3998.0])   \n",
       "1230      (has_dual_sim, ram_category_(3062.5, 3998.0])   \n",
       "1760                    (ram_category_(3062.5, 3998.0])   \n",
       "\n",
       "                      consequents  antecedent support  consequent support  \\\n",
       "1552               (is_expensive)              0.1360              0.2500   \n",
       "2226  (has_three_g, is_expensive)              0.1360              0.1925   \n",
       "2219               (is_expensive)              0.1360              0.2500   \n",
       "1882               (is_expensive)              0.1215              0.2500   \n",
       "1756               (is_expensive)              0.1935              0.2500   \n",
       "1889               (is_expensive)              0.1285              0.2500   \n",
       "1020               (is_expensive)              0.1300              0.2500   \n",
       "572                (is_expensive)              0.2510              0.2500   \n",
       "1230               (is_expensive)              0.1395              0.2500   \n",
       "1760  (has_three_g, is_expensive)              0.2510              0.1925   \n",
       "\n",
       "      support  confidence      lift  leverage  conviction  \n",
       "1552   0.1165    0.856618  3.426471  0.082500    5.230769  \n",
       "2226   0.1165    0.856618  4.449962  0.090320    5.631795  \n",
       "2219   0.1165    0.856618  3.426471  0.082500    5.230769  \n",
       "1882   0.1030    0.847737  3.390947  0.072625    4.925676  \n",
       "1756   0.1635    0.844961  3.379845  0.115125    4.837500  \n",
       "1889   0.1080    0.840467  3.361868  0.075875    4.701220  \n",
       "1020   0.1090    0.838462  3.353846  0.076500    4.642857  \n",
       "572    0.2090    0.832669  3.330677  0.146250    4.482143  \n",
       "1230   0.1150    0.824373  3.297491  0.080125    4.270408  \n",
       "1760   0.1635    0.651394  3.383867  0.115183    2.316371  "
      ]
     },
     "execution_count": 36,
     "metadata": {},
     "output_type": "execute_result"
    }
   ],
   "source": [
    "MINIMUM_CONFIDENCE_THRESHOLD = 0.20 # this is the minimum confidence threshold to mine\n",
    "rules_by_confidence = association_rules(frequent_items, metric=\"confidence\", min_threshold=MINIMUM_CONFIDENCE_THRESHOLD)\n",
    "\n",
    "# Get all the rules that has mobile price\n",
    "rules = rules_by_confidence[rules_by_confidence[\"consequents\"].map(set(['is_expensive']).issubset)].sort_values(\"confidence\",ascending=False)\n",
    "rules.head(10)"
   ]
  },
  {
   "cell_type": "markdown",
   "metadata": {},
   "source": [
    "The above shows a min-confidence threshold of `0.65`, for the top 10 k-rules, and `0.43` for the top 16 k-rules (we have omitted 6, however see `association_rule_mining/rules_by_confidence_minimum_threshold_0.20.csv` for details.\n",
    "\n",
    "<br />\n",
    "\n",
    "### What are `K-rules`??\n",
    "\n",
    "K rules are the rules that defines a certain frequently appearing item set, to define another attribute/group of attributes.\n",
    "\n",
    "\n",
    "For example, according to the k=1 rule (sorted by `confidence`), if the phone has a `ram_category` that belongs in the range `3062.5 - 3998.0`, and ALSO has 4G (`has_four_g = True`), then there is a probability of 86% that this phone is expensive (`is_expensive = True`).\n",
    "\n",
    "It should also be noted that the top 16 rules (`k=16`) all have an antecedent that contains `ram_category` in the aformentioned (`3062.5 - 3998.0`) range.\n",
    "\n",
    "<br />"
   ]
  },
  {
   "cell_type": "code",
   "execution_count": 37,
   "metadata": {
    "tags": [
     "remove_input"
    ]
   },
   "outputs": [
    {
     "data": {
      "text/html": [
       "<div>\n",
       "<style scoped>\n",
       "    .dataframe tbody tr th:only-of-type {\n",
       "        vertical-align: middle;\n",
       "    }\n",
       "\n",
       "    .dataframe tbody tr th {\n",
       "        vertical-align: top;\n",
       "    }\n",
       "\n",
       "    .dataframe thead th {\n",
       "        text-align: right;\n",
       "    }\n",
       "</style>\n",
       "<table border=\"1\" class=\"dataframe\">\n",
       "  <thead>\n",
       "    <tr style=\"text-align: right;\">\n",
       "      <th></th>\n",
       "      <th>antecedents</th>\n",
       "      <th>consequents</th>\n",
       "      <th>antecedent support</th>\n",
       "      <th>consequent support</th>\n",
       "      <th>support</th>\n",
       "      <th>confidence</th>\n",
       "      <th>lift</th>\n",
       "      <th>leverage</th>\n",
       "      <th>conviction</th>\n",
       "    </tr>\n",
       "  </thead>\n",
       "  <tbody>\n",
       "    <tr>\n",
       "      <th>570</th>\n",
       "      <td>(front_cam_resolution_category_(0.981, 5.5])</td>\n",
       "      <td>(is_expensive)</td>\n",
       "      <td>0.4380</td>\n",
       "      <td>0.2500</td>\n",
       "      <td>0.1160</td>\n",
       "      <td>0.264840</td>\n",
       "      <td>1.059361</td>\n",
       "      <td>0.006500</td>\n",
       "      <td>1.020186</td>\n",
       "    </tr>\n",
       "    <tr>\n",
       "      <th>1266</th>\n",
       "      <td>(has_three_g, has_four_g)</td>\n",
       "      <td>(is_expensive)</td>\n",
       "      <td>0.5215</td>\n",
       "      <td>0.2500</td>\n",
       "      <td>0.1375</td>\n",
       "      <td>0.263663</td>\n",
       "      <td>1.054650</td>\n",
       "      <td>0.007125</td>\n",
       "      <td>1.018555</td>\n",
       "    </tr>\n",
       "    <tr>\n",
       "      <th>1269</th>\n",
       "      <td>(has_four_g)</td>\n",
       "      <td>(has_three_g, is_expensive)</td>\n",
       "      <td>0.5215</td>\n",
       "      <td>0.1925</td>\n",
       "      <td>0.1375</td>\n",
       "      <td>0.263663</td>\n",
       "      <td>1.369675</td>\n",
       "      <td>0.037111</td>\n",
       "      <td>1.096644</td>\n",
       "    </tr>\n",
       "    <tr>\n",
       "      <th>201</th>\n",
       "      <td>(has_four_g)</td>\n",
       "      <td>(is_expensive)</td>\n",
       "      <td>0.5215</td>\n",
       "      <td>0.2500</td>\n",
       "      <td>0.1375</td>\n",
       "      <td>0.263663</td>\n",
       "      <td>1.054650</td>\n",
       "      <td>0.007125</td>\n",
       "      <td>1.018555</td>\n",
       "    </tr>\n",
       "  </tbody>\n",
       "</table>\n",
       "</div>"
      ],
      "text/plain": [
       "                                       antecedents  \\\n",
       "570   (front_cam_resolution_category_(0.981, 5.5])   \n",
       "1266                     (has_three_g, has_four_g)   \n",
       "1269                                  (has_four_g)   \n",
       "201                                   (has_four_g)   \n",
       "\n",
       "                      consequents  antecedent support  consequent support  \\\n",
       "570                (is_expensive)              0.4380              0.2500   \n",
       "1266               (is_expensive)              0.5215              0.2500   \n",
       "1269  (has_three_g, is_expensive)              0.5215              0.1925   \n",
       "201                (is_expensive)              0.5215              0.2500   \n",
       "\n",
       "      support  confidence      lift  leverage  conviction  \n",
       "570    0.1160    0.264840  1.059361  0.006500    1.020186  \n",
       "1266   0.1375    0.263663  1.054650  0.007125    1.018555  \n",
       "1269   0.1375    0.263663  1.369675  0.037111    1.096644  \n",
       "201    0.1375    0.263663  1.054650  0.007125    1.018555  "
      ]
     },
     "execution_count": 37,
     "metadata": {},
     "output_type": "execute_result"
    }
   ],
   "source": [
    "rules.iloc[17:21]"
   ]
  },
  {
   "cell_type": "code",
   "execution_count": 38,
   "metadata": {
    "tags": [
     "remove_output",
     "remove_input"
    ]
   },
   "outputs": [],
   "source": [
    "rules.to_csv(\"association_rule_mining/rules_by_confidence_minimum_threshold_0.20.csv\")"
   ]
  },
  {
   "cell_type": "markdown",
   "metadata": {},
   "source": [
    "Above shows the 17th to the 20th rules, it can be seen that the minimum confidence threshold confidence is `0.26`:\n",
    "\n",
    "- These show rules that do not reference `ram_category`, showing other attributes that can predict is_expensive"
   ]
  },
  {
   "cell_type": "markdown",
   "metadata": {},
   "source": [
    "<br />\n",
    "\n",
    "### Rules by 'Lift'"
   ]
  },
  {
   "cell_type": "code",
   "execution_count": 39,
   "metadata": {},
   "outputs": [],
   "source": [
    "MINIMUM_LIFT_THRESHOLD = -5\n",
    "\n",
    "rules_by_lift = association_rules(frequent_items, metric=\"lift\", min_threshold=MINIMUM_LIFT_THRESHOLD)\n",
    "rules_by_lift[\"translated_lift\"] = rules_by_lift[\"lift\"] - 1\n",
    "rules_by_lift[\"is_translated_lift_negative\"] = rules_by_lift[\"translated_lift\"] < 0\n",
    "rules_by_lift[\"absolute_value_of_translated_lift\"] = np.abs(rules_by_lift[\"translated_lift\"])\n",
    "\n",
    "# Get all the rules that has mobile price\n",
    "rules = rules_by_lift[rules_by_lift[\"consequents\"].map(set(['is_expensive']).issubset)].sort_values(\"absolute_value_of_translated_lift\",ascending=False)"
   ]
  },
  {
   "cell_type": "code",
   "execution_count": 40,
   "metadata": {
    "tags": [
     "remove_output",
     "remove_input"
    ]
   },
   "outputs": [],
   "source": [
    "rules.to_csv(\"association_rule_mining/rules_by_lift_sorted_by_absolute_value_of_translated_lift.csv\")"
   ]
  },
  {
   "cell_type": "code",
   "execution_count": 41,
   "metadata": {
    "tags": [
     "remove_input"
    ]
   },
   "outputs": [
    {
     "data": {
      "text/html": [
       "<div>\n",
       "<style scoped>\n",
       "    .dataframe tbody tr th:only-of-type {\n",
       "        vertical-align: middle;\n",
       "    }\n",
       "\n",
       "    .dataframe tbody tr th {\n",
       "        vertical-align: top;\n",
       "    }\n",
       "\n",
       "    .dataframe thead th {\n",
       "        text-align: right;\n",
       "    }\n",
       "</style>\n",
       "<table border=\"1\" class=\"dataframe\">\n",
       "  <thead>\n",
       "    <tr style=\"text-align: right;\">\n",
       "      <th></th>\n",
       "      <th>antecedents</th>\n",
       "      <th>consequents</th>\n",
       "      <th>antecedent support</th>\n",
       "      <th>consequent support</th>\n",
       "      <th>support</th>\n",
       "      <th>confidence</th>\n",
       "      <th>lift</th>\n",
       "      <th>leverage</th>\n",
       "      <th>conviction</th>\n",
       "      <th>translated_lift</th>\n",
       "      <th>is_translated_lift_negative</th>\n",
       "      <th>absolute_value_of_translated_lift</th>\n",
       "    </tr>\n",
       "  </thead>\n",
       "  <tbody>\n",
       "    <tr>\n",
       "      <th>2405</th>\n",
       "      <td>(ram_category_(3062.5, 3998.0], has_four_g)</td>\n",
       "      <td>(has_three_g, is_expensive)</td>\n",
       "      <td>0.1360</td>\n",
       "      <td>0.1925</td>\n",
       "      <td>0.1165</td>\n",
       "      <td>0.856618</td>\n",
       "      <td>4.449962</td>\n",
       "      <td>0.090320</td>\n",
       "      <td>5.631795</td>\n",
       "      <td>3.449962</td>\n",
       "      <td>False</td>\n",
       "      <td>3.449962</td>\n",
       "    </tr>\n",
       "    <tr>\n",
       "      <th>2402</th>\n",
       "      <td>(has_three_g, ram_category_(3062.5, 3998.0])</td>\n",
       "      <td>(has_four_g, is_expensive)</td>\n",
       "      <td>0.1935</td>\n",
       "      <td>0.1375</td>\n",
       "      <td>0.1165</td>\n",
       "      <td>0.602067</td>\n",
       "      <td>4.378670</td>\n",
       "      <td>0.089894</td>\n",
       "      <td>2.167451</td>\n",
       "      <td>3.378670</td>\n",
       "      <td>False</td>\n",
       "      <td>3.378670</td>\n",
       "    </tr>\n",
       "    <tr>\n",
       "      <th>1276</th>\n",
       "      <td>(ram_category_(3062.5, 3998.0])</td>\n",
       "      <td>(has_dual_sim, is_expensive)</td>\n",
       "      <td>0.2510</td>\n",
       "      <td>0.1325</td>\n",
       "      <td>0.1150</td>\n",
       "      <td>0.458167</td>\n",
       "      <td>3.457867</td>\n",
       "      <td>0.081742</td>\n",
       "      <td>1.601048</td>\n",
       "      <td>2.457867</td>\n",
       "      <td>False</td>\n",
       "      <td>2.457867</td>\n",
       "    </tr>\n",
       "    <tr>\n",
       "      <th>1644</th>\n",
       "      <td>(ram_category_(3062.5, 3998.0], has_four_g)</td>\n",
       "      <td>(is_expensive)</td>\n",
       "      <td>0.1360</td>\n",
       "      <td>0.2500</td>\n",
       "      <td>0.1165</td>\n",
       "      <td>0.856618</td>\n",
       "      <td>3.426471</td>\n",
       "      <td>0.082500</td>\n",
       "      <td>5.230769</td>\n",
       "      <td>2.426471</td>\n",
       "      <td>False</td>\n",
       "      <td>2.426471</td>\n",
       "    </tr>\n",
       "    <tr>\n",
       "      <th>2398</th>\n",
       "      <td>(has_three_g, ram_category_(3062.5, 3998.0], h...</td>\n",
       "      <td>(is_expensive)</td>\n",
       "      <td>0.1360</td>\n",
       "      <td>0.2500</td>\n",
       "      <td>0.1165</td>\n",
       "      <td>0.856618</td>\n",
       "      <td>3.426471</td>\n",
       "      <td>0.082500</td>\n",
       "      <td>5.230769</td>\n",
       "      <td>2.426471</td>\n",
       "      <td>False</td>\n",
       "      <td>2.426471</td>\n",
       "    </tr>\n",
       "    <tr>\n",
       "      <th>2022</th>\n",
       "      <td>(ram_category_(3062.5, 3998.0], has_touch_screen)</td>\n",
       "      <td>(is_expensive)</td>\n",
       "      <td>0.1215</td>\n",
       "      <td>0.2500</td>\n",
       "      <td>0.1030</td>\n",
       "      <td>0.847737</td>\n",
       "      <td>3.390947</td>\n",
       "      <td>0.072625</td>\n",
       "      <td>4.925676</td>\n",
       "      <td>2.390947</td>\n",
       "      <td>False</td>\n",
       "      <td>2.390947</td>\n",
       "    </tr>\n",
       "    <tr>\n",
       "      <th>1882</th>\n",
       "      <td>(ram_category_(3062.5, 3998.0])</td>\n",
       "      <td>(has_three_g, is_expensive)</td>\n",
       "      <td>0.2510</td>\n",
       "      <td>0.1925</td>\n",
       "      <td>0.1635</td>\n",
       "      <td>0.651394</td>\n",
       "      <td>3.383867</td>\n",
       "      <td>0.115183</td>\n",
       "      <td>2.316371</td>\n",
       "      <td>2.383867</td>\n",
       "      <td>False</td>\n",
       "      <td>2.383867</td>\n",
       "    </tr>\n",
       "    <tr>\n",
       "      <th>1878</th>\n",
       "      <td>(has_three_g, ram_category_(3062.5, 3998.0])</td>\n",
       "      <td>(is_expensive)</td>\n",
       "      <td>0.1935</td>\n",
       "      <td>0.2500</td>\n",
       "      <td>0.1635</td>\n",
       "      <td>0.844961</td>\n",
       "      <td>3.379845</td>\n",
       "      <td>0.115125</td>\n",
       "      <td>4.837500</td>\n",
       "      <td>2.379845</td>\n",
       "      <td>False</td>\n",
       "      <td>2.379845</td>\n",
       "    </tr>\n",
       "    <tr>\n",
       "      <th>2409</th>\n",
       "      <td>(ram_category_(3062.5, 3998.0])</td>\n",
       "      <td>(has_three_g, has_four_g, is_expensive)</td>\n",
       "      <td>0.2510</td>\n",
       "      <td>0.1375</td>\n",
       "      <td>0.1165</td>\n",
       "      <td>0.464143</td>\n",
       "      <td>3.375589</td>\n",
       "      <td>0.081988</td>\n",
       "      <td>1.609572</td>\n",
       "      <td>2.375589</td>\n",
       "      <td>False</td>\n",
       "      <td>2.375589</td>\n",
       "    </tr>\n",
       "    <tr>\n",
       "      <th>1647</th>\n",
       "      <td>(ram_category_(3062.5, 3998.0])</td>\n",
       "      <td>(has_four_g, is_expensive)</td>\n",
       "      <td>0.2510</td>\n",
       "      <td>0.1375</td>\n",
       "      <td>0.1165</td>\n",
       "      <td>0.464143</td>\n",
       "      <td>3.375589</td>\n",
       "      <td>0.081988</td>\n",
       "      <td>1.609572</td>\n",
       "      <td>2.375589</td>\n",
       "      <td>False</td>\n",
       "      <td>2.375589</td>\n",
       "    </tr>\n",
       "  </tbody>\n",
       "</table>\n",
       "</div>"
      ],
      "text/plain": [
       "                                            antecedents  \\\n",
       "2405        (ram_category_(3062.5, 3998.0], has_four_g)   \n",
       "2402       (has_three_g, ram_category_(3062.5, 3998.0])   \n",
       "1276                    (ram_category_(3062.5, 3998.0])   \n",
       "1644        (ram_category_(3062.5, 3998.0], has_four_g)   \n",
       "2398  (has_three_g, ram_category_(3062.5, 3998.0], h...   \n",
       "2022  (ram_category_(3062.5, 3998.0], has_touch_screen)   \n",
       "1882                    (ram_category_(3062.5, 3998.0])   \n",
       "1878       (has_three_g, ram_category_(3062.5, 3998.0])   \n",
       "2409                    (ram_category_(3062.5, 3998.0])   \n",
       "1647                    (ram_category_(3062.5, 3998.0])   \n",
       "\n",
       "                                  consequents  antecedent support  \\\n",
       "2405              (has_three_g, is_expensive)              0.1360   \n",
       "2402               (has_four_g, is_expensive)              0.1935   \n",
       "1276             (has_dual_sim, is_expensive)              0.2510   \n",
       "1644                           (is_expensive)              0.1360   \n",
       "2398                           (is_expensive)              0.1360   \n",
       "2022                           (is_expensive)              0.1215   \n",
       "1882              (has_three_g, is_expensive)              0.2510   \n",
       "1878                           (is_expensive)              0.1935   \n",
       "2409  (has_three_g, has_four_g, is_expensive)              0.2510   \n",
       "1647               (has_four_g, is_expensive)              0.2510   \n",
       "\n",
       "      consequent support  support  confidence      lift  leverage  conviction  \\\n",
       "2405              0.1925   0.1165    0.856618  4.449962  0.090320    5.631795   \n",
       "2402              0.1375   0.1165    0.602067  4.378670  0.089894    2.167451   \n",
       "1276              0.1325   0.1150    0.458167  3.457867  0.081742    1.601048   \n",
       "1644              0.2500   0.1165    0.856618  3.426471  0.082500    5.230769   \n",
       "2398              0.2500   0.1165    0.856618  3.426471  0.082500    5.230769   \n",
       "2022              0.2500   0.1030    0.847737  3.390947  0.072625    4.925676   \n",
       "1882              0.1925   0.1635    0.651394  3.383867  0.115183    2.316371   \n",
       "1878              0.2500   0.1635    0.844961  3.379845  0.115125    4.837500   \n",
       "2409              0.1375   0.1165    0.464143  3.375589  0.081988    1.609572   \n",
       "1647              0.1375   0.1165    0.464143  3.375589  0.081988    1.609572   \n",
       "\n",
       "      translated_lift  is_translated_lift_negative  \\\n",
       "2405         3.449962                        False   \n",
       "2402         3.378670                        False   \n",
       "1276         2.457867                        False   \n",
       "1644         2.426471                        False   \n",
       "2398         2.426471                        False   \n",
       "2022         2.390947                        False   \n",
       "1882         2.383867                        False   \n",
       "1878         2.379845                        False   \n",
       "2409         2.375589                        False   \n",
       "1647         2.375589                        False   \n",
       "\n",
       "      absolute_value_of_translated_lift  \n",
       "2405                           3.449962  \n",
       "2402                           3.378670  \n",
       "1276                           2.457867  \n",
       "1644                           2.426471  \n",
       "2398                           2.426471  \n",
       "2022                           2.390947  \n",
       "1882                           2.383867  \n",
       "1878                           2.379845  \n",
       "2409                           2.375589  \n",
       "1647                           2.375589  "
      ]
     },
     "execution_count": 41,
     "metadata": {},
     "output_type": "execute_result"
    }
   ],
   "source": [
    "rules.head(10)"
   ]
  },
  {
   "cell_type": "markdown",
   "metadata": {},
   "source": [
    "Above shows top (k-10) rules, and they all show the `ram_category` as the antecedent.\n",
    "\n",
    "- Note: see `association_rule_mining/rules_by_lift_sorted_by_absolute_value_of_translated_lift.csv` for the full list of rules.\n",
    "\n",
    "\n",
    "\n",
    "- top 1 k-rule states that when a phone has ram category in the range `3062.5- 3998.0` and has four g, then there is a very strong positive correlation that \n",
    "- explain that the rules are sorted by the absolute_value_of_translated_lift in order to show sorted strength of correlation\n",
    "- top 17 the rules here shows that ram category in the range `3062.5- 3998.0`\n"
   ]
  },
  {
   "cell_type": "code",
   "execution_count": 42,
   "metadata": {
    "tags": [
     "remove_input"
    ]
   },
   "outputs": [
    {
     "data": {
      "text/html": [
       "<div>\n",
       "<style scoped>\n",
       "    .dataframe tbody tr th:only-of-type {\n",
       "        vertical-align: middle;\n",
       "    }\n",
       "\n",
       "    .dataframe tbody tr th {\n",
       "        vertical-align: top;\n",
       "    }\n",
       "\n",
       "    .dataframe thead th {\n",
       "        text-align: right;\n",
       "    }\n",
       "</style>\n",
       "<table border=\"1\" class=\"dataframe\">\n",
       "  <thead>\n",
       "    <tr style=\"text-align: right;\">\n",
       "      <th></th>\n",
       "      <th>antecedents</th>\n",
       "      <th>consequents</th>\n",
       "      <th>antecedent support</th>\n",
       "      <th>consequent support</th>\n",
       "      <th>support</th>\n",
       "      <th>confidence</th>\n",
       "      <th>lift</th>\n",
       "      <th>leverage</th>\n",
       "      <th>conviction</th>\n",
       "      <th>translated_lift</th>\n",
       "      <th>is_translated_lift_negative</th>\n",
       "      <th>absolute_value_of_translated_lift</th>\n",
       "    </tr>\n",
       "  </thead>\n",
       "  <tbody>\n",
       "    <tr>\n",
       "      <th>2410</th>\n",
       "      <td>(has_four_g)</td>\n",
       "      <td>(has_three_g, ram_category_(3062.5, 3998.0], i...</td>\n",
       "      <td>0.5215</td>\n",
       "      <td>0.1635</td>\n",
       "      <td>0.1165</td>\n",
       "      <td>0.223394</td>\n",
       "      <td>1.366324</td>\n",
       "      <td>0.031235</td>\n",
       "      <td>1.077123</td>\n",
       "      <td>0.366324</td>\n",
       "      <td>False</td>\n",
       "      <td>0.366324</td>\n",
       "    </tr>\n",
       "    <tr>\n",
       "      <th>1311</th>\n",
       "      <td>(has_three_g)</td>\n",
       "      <td>(has_four_g, is_expensive)</td>\n",
       "      <td>0.7615</td>\n",
       "      <td>0.1375</td>\n",
       "      <td>0.1375</td>\n",
       "      <td>0.180565</td>\n",
       "      <td>1.313198</td>\n",
       "      <td>0.032794</td>\n",
       "      <td>1.052554</td>\n",
       "      <td>0.313198</td>\n",
       "      <td>False</td>\n",
       "      <td>0.313198</td>\n",
       "    </tr>\n",
       "    <tr>\n",
       "      <th>2408</th>\n",
       "      <td>(has_three_g)</td>\n",
       "      <td>(ram_category_(3062.5, 3998.0], has_four_g, is...</td>\n",
       "      <td>0.7615</td>\n",
       "      <td>0.1165</td>\n",
       "      <td>0.1165</td>\n",
       "      <td>0.152988</td>\n",
       "      <td>1.313198</td>\n",
       "      <td>0.027785</td>\n",
       "      <td>1.043078</td>\n",
       "      <td>0.313198</td>\n",
       "      <td>False</td>\n",
       "      <td>0.313198</td>\n",
       "    </tr>\n",
       "  </tbody>\n",
       "</table>\n",
       "</div>"
      ],
      "text/plain": [
       "        antecedents                                        consequents  \\\n",
       "2410   (has_four_g)  (has_three_g, ram_category_(3062.5, 3998.0], i...   \n",
       "1311  (has_three_g)                         (has_four_g, is_expensive)   \n",
       "2408  (has_three_g)  (ram_category_(3062.5, 3998.0], has_four_g, is...   \n",
       "\n",
       "      antecedent support  consequent support  support  confidence      lift  \\\n",
       "2410              0.5215              0.1635   0.1165    0.223394  1.366324   \n",
       "1311              0.7615              0.1375   0.1375    0.180565  1.313198   \n",
       "2408              0.7615              0.1165   0.1165    0.152988  1.313198   \n",
       "\n",
       "      leverage  conviction  translated_lift  is_translated_lift_negative  \\\n",
       "2410  0.031235    1.077123         0.366324                        False   \n",
       "1311  0.032794    1.052554         0.313198                        False   \n",
       "2408  0.027785    1.043078         0.313198                        False   \n",
       "\n",
       "      absolute_value_of_translated_lift  \n",
       "2410                           0.366324  \n",
       "1311                           0.313198  \n",
       "2408                           0.313198  "
      ]
     },
     "execution_count": 42,
     "metadata": {},
     "output_type": "execute_result"
    }
   ],
   "source": [
    "rules[18:21]"
   ]
  },
  {
   "cell_type": "markdown",
   "metadata": {},
   "source": [
    "- the 18th up to the 20th show different attribute with a lift that is positively correlated, but not as strong as the previous the rules."
   ]
  },
  {
   "cell_type": "markdown",
   "metadata": {},
   "source": [
    "<br />\n",
    "\n",
    "## Recommendation (from ARM)\n",
    "- According ARM\n",
    "1. RAM category belong between `3062.5- 3998.0`\n",
    "2. four G\n",
    "3. touch scren\n",
    "4. threeg\n",
    "4. wifi\n",
    "5. bluetooth\n",
    "\n",
    "- ranked by the strongest defining confidence"
   ]
  },
  {
   "cell_type": "markdown",
   "metadata": {},
   "source": [
    "<br />\n",
    "\n",
    "# Classification\n",
    "\n",
    "- brief explanation of classification\n",
    "- talk a little bit about cross validation of folds of 10 (avoiding overfitting by using different parts of the data)\n",
    "- talk a little bit about the RANDOM_STATE seeding (seed is defined to prevent uncontrolled changing of results)\n",
    "- we will do it in Decision Tree and SVM\n",
    "- the metric that will be used is accuracy (is_expensive and not expensive is equal in weighting)\n",
    "- cleaned_data of continuous (not discrete). Methods such as SVM and Decision Trees are better at separating continuous attributes."
   ]
  },
  {
   "cell_type": "code",
   "execution_count": 43,
   "metadata": {},
   "outputs": [],
   "source": [
    "# Preprocessing of Cleaned Data\n",
    "learning_data = cleaned_data.drop(\"id\",axis=\"columns\")\n",
    "target_data = learning_data[\"is_expensive\"]\n",
    "feature_data = learning_data.drop(\"is_expensive\",axis=\"columns\")"
   ]
  },
  {
   "cell_type": "code",
   "execution_count": 44,
   "metadata": {},
   "outputs": [],
   "source": [
    "# classification helpers\n",
    "\n",
    "def show_top_results( gridsearch, target_results=[\"rank_test_score\", \"mean_test_score\", \"params\"], number_of_params=5 ):\n",
    "    filtered = pd.DataFrame(gridsearch.cv_results_).sort_values(by=\"mean_test_score\",ascending=False)[target_results].head(number_of_params)\n",
    "    print(filtered)\n",
    "    "
   ]
  },
  {
   "cell_type": "markdown",
   "metadata": {},
   "source": [
    "## Decision Tree\n",
    "- brief explanation what decision tree is decision on (gini index and information gain)"
   ]
  },
  {
   "cell_type": "code",
   "execution_count": 45,
   "metadata": {},
   "outputs": [],
   "source": [
    "dt_pipeline_1 = Pipeline([\n",
    "    (\"dt_classifier\",DecisionTreeClassifier(random_state=RANDOM_STATE))\n",
    "])\n",
    "# Grid Search\n",
    "param_grid = {\n",
    "    'dt_classifier__criterion': [\"gini\", \"entropy\"],\n",
    "    'dt_classifier__max_depth': [None] + list(range(1,len(feature_data.columns)))\n",
    "}"
   ]
  },
  {
   "cell_type": "code",
   "execution_count": 46,
   "metadata": {
    "tags": [
     "remove_output"
    ]
   },
   "outputs": [
    {
     "data": {
      "text/plain": [
       "GridSearchCV(cv=10,\n",
       "             estimator=Pipeline(steps=[('dt_classifier',\n",
       "                                        DecisionTreeClassifier(random_state=1))]),\n",
       "             n_jobs=-1,\n",
       "             param_grid={'dt_classifier__criterion': ['gini', 'entropy'],\n",
       "                         'dt_classifier__max_depth': [None, 1, 2, 3, 4, 5, 6, 7,\n",
       "                                                      8, 9, 10, 11, 12, 13, 14,\n",
       "                                                      15, 16, 17, 18, 19]})"
      ]
     },
     "execution_count": 46,
     "metadata": {},
     "output_type": "execute_result"
    }
   ],
   "source": [
    "dt_pipeline_1_search = GridSearchCV(dt_pipeline_1, param_grid, n_jobs=-1, cv=CROSS_VALIDATION_PARTITION)\n",
    "dt_pipeline_1_search.fit(feature_data,target_data)"
   ]
  },
  {
   "cell_type": "code",
   "execution_count": 47,
   "metadata": {
    "tags": [
     "remove_input"
    ]
   },
   "outputs": [
    {
     "name": "stdout",
     "output_type": "stream",
     "text": [
      "    rank_test_score  mean_test_score  \\\n",
      "26                1           0.9475   \n",
      "28                2           0.9435   \n",
      "29                3           0.9415   \n",
      "27                4           0.9405   \n",
      "20                5           0.9400   \n",
      "\n",
      "                                               params  \n",
      "26  {'dt_classifier__criterion': 'entropy', 'dt_cl...  \n",
      "28  {'dt_classifier__criterion': 'entropy', 'dt_cl...  \n",
      "29  {'dt_classifier__criterion': 'entropy', 'dt_cl...  \n",
      "27  {'dt_classifier__criterion': 'entropy', 'dt_cl...  \n",
      "20  {'dt_classifier__criterion': 'entropy', 'dt_cl...  \n"
     ]
    }
   ],
   "source": [
    "show_top_results(dt_pipeline_1_search)"
   ]
  },
  {
   "cell_type": "code",
   "execution_count": 48,
   "metadata": {
    "tags": [
     "remove_input"
    ]
   },
   "outputs": [
    {
     "name": "stdout",
     "output_type": "stream",
     "text": [
      "Best Test Scores: 0.9475\n",
      "Best Params: {'dt_classifier__criterion': 'entropy', 'dt_classifier__max_depth': 6}\n"
     ]
    }
   ],
   "source": [
    "print(f\"Best Test Scores: {dt_pipeline_1_search.best_score_}\")\n",
    "print(f\"Best Params: {dt_pipeline_1_search.best_params_}\")"
   ]
  },
  {
   "cell_type": "markdown",
   "metadata": {},
   "source": [
    "- Table above shows the top 5 hyper-parameters of the decision tree\n",
    "\n",
    "- talk about the best test score, the params (information gain) and compare the result with gini index"
   ]
  },
  {
   "cell_type": "markdown",
   "metadata": {},
   "source": [
    "# Support Vector Machine"
   ]
  },
  {
   "cell_type": "markdown",
   "metadata": {},
   "source": [
    "attribute reuction good with svm, not so great with the PCa -> Select k best..."
   ]
  },
  {
   "cell_type": "code",
   "execution_count": 49,
   "metadata": {},
   "outputs": [],
   "source": [
    "svm_pipeline_2 = Pipeline([\n",
    "    (\"svm_classifier\",SVC())\n",
    "])\n",
    "\n",
    "# Grid Search\n",
    "param_grid = {\n",
    "    'svm_classifier__kernel': ['linear', 'poly', 'rbf', 'sigmoid']\n",
    "}"
   ]
  },
  {
   "cell_type": "code",
   "execution_count": 50,
   "metadata": {
    "tags": [
     "remove_output"
    ]
   },
   "outputs": [
    {
     "data": {
      "text/plain": [
       "GridSearchCV(cv=10, estimator=Pipeline(steps=[('svm_classifier', SVC())]),\n",
       "             n_jobs=-1,\n",
       "             param_grid={'svm_classifier__kernel': ['linear', 'poly', 'rbf',\n",
       "                                                    'sigmoid']})"
      ]
     },
     "execution_count": 50,
     "metadata": {},
     "output_type": "execute_result"
    }
   ],
   "source": [
    "svm_pipeline_2_search = GridSearchCV(svm_pipeline_2, param_grid, n_jobs=-1, cv=CROSS_VALIDATION_PARTITION)\n",
    "svm_pipeline_2_search.fit(feature_data,target_data)"
   ]
  },
  {
   "cell_type": "code",
   "execution_count": 51,
   "metadata": {
    "tags": [
     "remove_input"
    ]
   },
   "outputs": [
    {
     "name": "stdout",
     "output_type": "stream",
     "text": [
      "   rank_test_score  mean_test_score                                 params\n",
      "0                1           0.9895   {'svm_classifier__kernel': 'linear'}\n",
      "1                2           0.9825     {'svm_classifier__kernel': 'poly'}\n",
      "2                3           0.9785      {'svm_classifier__kernel': 'rbf'}\n",
      "3                4           0.5300  {'svm_classifier__kernel': 'sigmoid'}\n"
     ]
    }
   ],
   "source": [
    "show_top_results(svm_pipeline_2_search)"
   ]
  },
  {
   "cell_type": "code",
   "execution_count": 52,
   "metadata": {
    "tags": [
     "remove_input"
    ]
   },
   "outputs": [
    {
     "name": "stdout",
     "output_type": "stream",
     "text": [
      "Best Mean Test Scores of different Parameters: 0.9894999999999999\n",
      "Best Params: {'svm_classifier__kernel': 'linear'}\n"
     ]
    }
   ],
   "source": [
    "print(f\"Best Mean Test Scores of different Parameters: {svm_pipeline_2_search.best_score_}\")\n",
    "print(f\"Best Params: {svm_pipeline_2_search.best_params_}\")"
   ]
  },
  {
   "cell_type": "markdown",
   "metadata": {},
   "source": [
    "- Talk about the top 5 best algorithm with their difference in parameters with emphasis on the best score "
   ]
  },
  {
   "cell_type": "markdown",
   "metadata": {},
   "source": [
    "## Comparison between DC and SVM\n",
    "- Say that SVM is Chad between the two\n",
    "- in terms of reasoning, it may be because SVM is robust to noise and outliers, hnece having a strong generalisation ability compared to a decision tree that fits better??"
   ]
  },
  {
   "cell_type": "markdown",
   "metadata": {},
   "source": [
    "<br />\n",
    "\n",
    "# Clustering\n",
    "- explain a little bit about clustering\n"
   ]
  },
  {
   "cell_type": "markdown",
   "metadata": {},
   "source": [
    "## Cluster of Size 2\n",
    "- explain that we would expect that there are 2 groups and that is ideal for comparison with `is_expensive` field\n",
    "\n",
    "### Kmeans\n",
    "- short explanation of what kmeans\n",
    "\n",
    "#### Confusion Table"
   ]
  },
  {
   "cell_type": "code",
   "execution_count": 53,
   "metadata": {},
   "outputs": [],
   "source": [
    "kmeans_model = KMeans(n_clusters=2, random_state=RANDOM_STATE)\n",
    "kmeans_model.fit(feature_data)\n",
    "kmeans_prediction = kmeans_model.labels_"
   ]
  },
  {
   "cell_type": "code",
   "execution_count": 54,
   "metadata": {
    "tags": [
     "remove_input"
    ]
   },
   "outputs": [
    {
     "name": "stdout",
     "output_type": "stream",
     "text": [
      "prediction    0    1\n",
      "target              \n",
      "False       977  523\n",
      "True          0  500\n",
      "Accuracy: 0.7385\n"
     ]
    }
   ],
   "source": [
    "confusion_matrix = pd.DataFrame()\n",
    "# target_data\n",
    "confusion_matrix[\"target\"] = target_data\n",
    "confusion_matrix[\"prediction\"] = kmeans_prediction\n",
    "crosstab = pd.crosstab(confusion_matrix['target'], confusion_matrix['prediction'])\n",
    "print(crosstab)\n",
    "\n",
    "accuracy = np.diagonal(crosstab).sum() / crosstab.to_numpy().sum()\n",
    "print(f\"Accuracy: {accuracy}\")"
   ]
  },
  {
   "cell_type": "markdown",
   "metadata": {},
   "source": [
    "- explain that the clustering has 73.85% accuracy wherein the other 26.15% inaccuracy is attributed to kmeans predicting a phone `is_expensive` when it is not (false positive), and 0% for false negative."
   ]
  },
  {
   "cell_type": "markdown",
   "metadata": {},
   "source": [
    "### Aglomerative Hierahical Clustering\n",
    "- short explanation of what it is about"
   ]
  },
  {
   "cell_type": "code",
   "execution_count": 55,
   "metadata": {},
   "outputs": [],
   "source": [
    "ac_pipeline = Pipeline([\n",
    "    (\"ac\", AgglomerativeClustering(distance_threshold=0,n_clusters=None)) # Compute distances\n",
    "])"
   ]
  },
  {
   "cell_type": "code",
   "execution_count": 56,
   "metadata": {
    "tags": [
     "remove_output"
    ]
   },
   "outputs": [
    {
     "data": {
      "text/plain": [
       "Pipeline(steps=[('ac',\n",
       "                 AgglomerativeClustering(distance_threshold=0,\n",
       "                                         n_clusters=None))])"
      ]
     },
     "execution_count": 56,
     "metadata": {},
     "output_type": "execute_result"
    }
   ],
   "source": [
    "ac_pipeline.fit(feature_data)"
   ]
  },
  {
   "cell_type": "markdown",
   "metadata": {},
   "source": [
    "#### Dendrogram"
   ]
  },
  {
   "cell_type": "code",
   "execution_count": 57,
   "metadata": {
    "tags": [
     "remove_input",
     "remove_output"
    ]
   },
   "outputs": [],
   "source": [
    "def plot_dendrogram(model, **kwargs):\n",
    "    # Create linkage matrix and then plot the dendrogram\n",
    "\n",
    "    # create the counts of samples under each node\n",
    "    counts = np.zeros(model.children_.shape[0])\n",
    "    n_samples = len(model.labels_)\n",
    "    for i, merge in enumerate(model.children_):\n",
    "        current_count = 0\n",
    "        for child_idx in merge:\n",
    "            if child_idx < n_samples:\n",
    "                current_count += 1  # leaf node\n",
    "            else:\n",
    "                current_count += counts[child_idx - n_samples]\n",
    "        counts[i] = current_count\n",
    "\n",
    "    linkage_matrix = np.column_stack([model.children_, model.distances_,\n",
    "                                      counts]).astype(float)\n",
    "\n",
    "    # Plot the corresponding dendrogram\n",
    "    dendrogram(linkage_matrix, **kwargs)\n",
    "    return linkage_matrix"
   ]
  },
  {
   "cell_type": "code",
   "execution_count": 58,
   "metadata": {
    "tags": [
     "remove_input"
    ]
   },
   "outputs": [
    {
     "data": {
      "image/png": "[encoded data removed]",
      "text/plain": [
       "<Figure size 432x288 with 1 Axes>"
      ]
     },
     "metadata": {},
     "output_type": "display_data"
    }
   ],
   "source": [
    "# plot the top three levels of the dendrogram\n",
    "mat = plot_dendrogram(ac_pipeline[0], truncate_mode='level', p=1)\n",
    "plt.title('Hierarchical Clustering Dendrogram')\n",
    "plt.xlabel(\"Number of points in node (or index of point if no parenthesis).\")\n",
    "plt.show()"
   ]
  },
  {
   "cell_type": "markdown",
   "metadata": {},
   "source": [
    "- short explanation of the splitting of hierarchy into 4 parts, and also mentioning the size of 2 clusters (219+514) + (507+760)"
   ]
  },
  {
   "cell_type": "markdown",
   "metadata": {},
   "source": [
    "#### Confusion Table"
   ]
  },
  {
   "cell_type": "code",
   "execution_count": 59,
   "metadata": {
    "tags": [
     "remove_input"
    ]
   },
   "outputs": [
    {
     "name": "stdout",
     "output_type": "stream",
     "text": [
      "prediction    0    1\n",
      "target              \n",
      "False       733  767\n",
      "True          0  500\n",
      "0.6165\n"
     ]
    }
   ],
   "source": [
    "ac_model = AgglomerativeClustering(n_clusters=2)\n",
    "ac_model.fit(feature_data)\n",
    "ac_prediction = ac_model.labels_\n",
    "\n",
    "confusion_matrix = pd.DataFrame()\n",
    "# target_data\n",
    "confusion_matrix[\"target\"] = target_data\n",
    "confusion_matrix[\"prediction\"] =(ac_prediction+1)%2 # flip the predictions, clustering comparison to class always shifts to the bigger proportion\n",
    "crosstab = pd.crosstab(confusion_matrix['target'], confusion_matrix['prediction'])\n",
    "print(crosstab)\n",
    "\n",
    "accuracy = np.diagonal(crosstab).sum() / crosstab.to_numpy().sum()\n",
    "print(accuracy)"
   ]
  },
  {
   "cell_type": "markdown",
   "metadata": {},
   "source": [
    "- explain hierarchical is not as great as kmeans. Although kmeans is sensitive to noise and outliers, agglometive is more sensitive as it can classify an outlier as its own hierachy or category."
   ]
  },
  {
   "cell_type": "markdown",
   "metadata": {},
   "source": [
    "### Validation of Two Cluster Size\n",
    "- in the previous heading, it is assumed that cluster of size 2 is expected. This is an extra exploratory to validate whether a cluster of size 2 is the best way to split the data."
   ]
  },
  {
   "cell_type": "code",
   "execution_count": 60,
   "metadata": {
    "tags": [
     "remove_input"
    ]
   },
   "outputs": [
    {
     "name": "stderr",
     "output_type": "stream",
     "text": [
      "  4%|█▎                            | 1/23 [00:00<00:03,  6.84it/s]"
     ]
    },
    {
     "name": "stdout",
     "output_type": "stream",
     "text": [
      "\n",
      "[clusteval] >Fit using kmeans with metric: euclidean, and linkage: ward\n",
      "[clusteval] >Evaluate using silhouette.\n"
     ]
    },
    {
     "name": "stderr",
     "output_type": "stream",
     "text": [
      "100%|█████████████████████████████| 23/23 [00:09<00:00,  2.51it/s]\n"
     ]
    },
    {
     "name": "stdout",
     "output_type": "stream",
     "text": [
      "[clusteval] >Optimal number clusters detected: [2].\n",
      "[clusteval] >Fin.\n"
     ]
    },
    {
     "data": {
      "image/png": "[encoded data removed]",
      "text/plain": [
       "<Figure size 1080x576 with 1 Axes>"
      ]
     },
     "metadata": {},
     "output_type": "display_data"
    },
    {
     "data": {
      "text/plain": [
       "(<Figure size 1080x576 with 1 Axes>,\n",
       " <AxesSubplot:title={'center':'silhouette score versus number of clusters'}, xlabel='#Clusters', ylabel='Score'>)"
      ]
     },
     "execution_count": 60,
     "metadata": {},
     "output_type": "execute_result"
    }
   ],
   "source": [
    "cluster_evaluation = clusteval(method='silhouette',cluster=\"kmeans\") \n",
    "cluster_evaluation.fit(np.array(feature_data))\n",
    "cluster_evaluation.plot()"
   ]
  },
  {
   "cell_type": "markdown",
   "metadata": {},
   "source": [
    "- explain silhouette score in the number of cluster\n",
    "- say that 2 cluster is best according to silhouette score"
   ]
  },
  {
   "cell_type": "markdown",
   "metadata": {},
   "source": [
    "<br />\n",
    "\n",
    "# Data Reduction\n",
    "- quick explanation data reduction and importance\n",
    "\n",
    "## Numerosity Reduction\n",
    "- quick explanation to remove rows refers to like outliers or incomplete data\n",
    "\n"
   ]
  },
  {
   "cell_type": "code",
   "execution_count": 61,
   "metadata": {},
   "outputs": [],
   "source": [
    "# To be done by Frinze using DBScan"
   ]
  },
  {
   "cell_type": "markdown",
   "metadata": {},
   "source": [
    "## Attribute Reduction"
   ]
  },
  {
   "cell_type": "markdown",
   "metadata": {},
   "source": [
    "### Principal Component Analysis (PCA)\n",
    "- quick explanation of PCA\n",
    "- need scaling before doing PCA"
   ]
  },
  {
   "cell_type": "markdown",
   "metadata": {},
   "source": [
    "#### Decision Tree with PCA"
   ]
  },
  {
   "cell_type": "code",
   "execution_count": 62,
   "metadata": {
    "tags": [
     "remove_output"
    ]
   },
   "outputs": [],
   "source": [
    "dt_pipeline_3 = Pipeline([\n",
    "    (\"scale\", StandardScaler()),\n",
    "    (\"pca\", PCA()),\n",
    "    (\"dt_classifier\",DecisionTreeClassifier(random_state=RANDOM_STATE))\n",
    "])\n",
    "# Grid Search\n",
    "param_grid = {\n",
    "    'pca__n_components': range(1,len(feature_data.columns)),\n",
    "    'dt_classifier__criterion': [\"gini\", \"entropy\"],\n",
    "    'dt_classifier__max_depth': [None] + list(range(1,len(feature_data.columns)))\n",
    "}"
   ]
  },
  {
   "cell_type": "code",
   "execution_count": null,
   "metadata": {
    "tags": [
     "remove_output"
    ]
   },
   "outputs": [],
   "source": [
    "dt_pipeline_3_search = GridSearchCV(dt_pipeline_3, param_grid, n_jobs=-1, cv=CROSS_VALIDATION_PARTITION)\n",
    "dt_pipeline_3_search.fit(feature_data,target_data)"
   ]
  },
  {
   "cell_type": "code",
   "execution_count": null,
   "metadata": {
    "tags": [
     "remove_input"
    ]
   },
   "outputs": [],
   "source": [
    "show_top_results(dt_pipeline_3_search)"
   ]
  },
  {
   "cell_type": "code",
   "execution_count": null,
   "metadata": {
    "tags": [
     "remove_input"
    ]
   },
   "outputs": [],
   "source": [
    "print(f\"Best Test Scores: {dt_pipeline_3_search.best_score_}\")\n",
    "print(f\"Best Params: {dt_pipeline_3_search.best_params_}\")"
   ]
  },
  {
   "cell_type": "markdown",
   "metadata": {},
   "source": [
    "- explain PCA worsened Decision Tree Classifier from 94.75% amount to 84% accuracy"
   ]
  },
  {
   "cell_type": "markdown",
   "metadata": {},
   "source": [
    "#### SVM with PCA"
   ]
  },
  {
   "cell_type": "code",
   "execution_count": null,
   "metadata": {
    "tags": [
     "remove_output"
    ]
   },
   "outputs": [],
   "source": [
    "svm_pipeline_3 = Pipeline([\n",
    "    (\"scale\", StandardScaler()),\n",
    "    (\"pca\", PCA()),\n",
    "    (\"svm_classifier\",SVC())\n",
    "])\n",
    "\n",
    "# Grid Search\n",
    "param_grid = {\n",
    "    'pca__n_components': range(1,len(feature_data.columns)),\n",
    "    'svm_classifier__kernel': ['linear', 'poly', 'rbf', 'sigmoid', 'precomputed']\n",
    "}"
   ]
  },
  {
   "cell_type": "code",
   "execution_count": null,
   "metadata": {
    "tags": [
     "remove_output"
    ]
   },
   "outputs": [],
   "source": [
    "svm_pipeline_3_search = GridSearchCV(svm_pipeline_3, param_grid, n_jobs=-1, cv=CROSS_VALIDATION_PARTITION)\n",
    "svm_pipeline_3_search.fit(feature_data,target_data)"
   ]
  },
  {
   "cell_type": "code",
   "execution_count": null,
   "metadata": {
    "tags": [
     "remove_input"
    ]
   },
   "outputs": [],
   "source": [
    "show_top_results(svm_pipeline_3_search)"
   ]
  },
  {
   "cell_type": "code",
   "execution_count": null,
   "metadata": {
    "tags": [
     "remove_input"
    ]
   },
   "outputs": [],
   "source": [
    "print(f\"Best Test Scores: {svm_pipeline_3_search.best_score_}\")\n",
    "print(f\"Best Params: {svm_pipeline_3_search.best_params_}\")\n",
    "print(f\"Best CV Index: {svm_pipeline_3_search.best_index_}\")"
   ]
  },
  {
   "cell_type": "markdown",
   "metadata": {},
   "source": [
    "- PCA improved SVM from 98.95 to 99.1%"
   ]
  },
  {
   "cell_type": "markdown",
   "metadata": {},
   "source": [
    "### Select K-Best with Information Gain (Entropy) and ANOVA F-statistic\n",
    "- quick explanation information gain (used in decision trees) and ANOVA looking at variance for forward and backward selection"
   ]
  },
  {
   "cell_type": "markdown",
   "metadata": {},
   "source": [
    "#### Decision Tree with Select K-Best"
   ]
  },
  {
   "cell_type": "code",
   "execution_count": null,
   "metadata": {},
   "outputs": [],
   "source": [
    "dt_pipeline_4 = Pipeline([\n",
    "    (\"select_kbest\", SelectKBest()),\n",
    "    (\"dt_classifier\",DecisionTreeClassifier(random_state=RANDOM_STATE))\n",
    "])\n",
    "# Grid Search\n",
    "param_grid = {\n",
    "    'select_kbest__k': range(1,len(feature_data.columns)),\n",
    "    'select_kbest__score_func': [f_classif,mutual_info_classif], # F-value statistic and Information Gain (entropy)\n",
    "    'dt_classifier__criterion': [\"entropy\"], # - Entropy is better than GINI from previous results\n",
    "    'dt_classifier__max_depth': [None] + list(range(1,len(feature_data.columns)))\n",
    "}"
   ]
  },
  {
   "cell_type": "code",
   "execution_count": null,
   "metadata": {
    "tags": [
     "remove_output"
    ]
   },
   "outputs": [],
   "source": [
    "dt_pipeline_4_search = GridSearchCV(dt_pipeline_4, param_grid, n_jobs=-1, cv=CROSS_VALIDATION_PARTITION)\n",
    "dt_pipeline_4_search.fit(feature_data,target_data)"
   ]
  },
  {
   "cell_type": "code",
   "execution_count": null,
   "metadata": {
    "tags": [
     "remove_input"
    ]
   },
   "outputs": [],
   "source": [
    "show_top_results(dt_pipeline_4_search)"
   ]
  },
  {
   "cell_type": "code",
   "execution_count": null,
   "metadata": {
    "tags": [
     "remove_input"
    ]
   },
   "outputs": [],
   "source": [
    "print(f\"Best Test Scores: {dt_pipeline_4_search.best_score_}\")\n",
    "print(f\"Best Params: {dt_pipeline_4_search.best_params_}\")\n",
    "print(f\"Best CV Index: {dt_pipeline_4_search.best_index_}\")"
   ]
  },
  {
   "cell_type": "code",
   "execution_count": null,
   "metadata": {
    "tags": [
     "remove_input"
    ]
   },
   "outputs": [],
   "source": [
    "select_k_best = dt_pipeline_4_search.best_estimator_[0]\n",
    "attributes_df = pd.DataFrame({\"attribute_name\": feature_data.columns[select_k_best.get_support()],\"score\": select_k_best.scores_[select_k_best.get_support()]})\n",
    "attributes_df.sort_values(\"score\").plot(x=\"attribute_name\",y=\"score\",kind=\"barh\", logx=True)\n",
    "print(f\"Number of Attributes: {len(attributes_df)}\")"
   ]
  },
  {
   "cell_type": "markdown",
   "metadata": {},
   "source": [
    "- explanation on the attributes (some comparison from the earlier exploratory data analaysis), explain there are 15 attributes\n",
    "- improvement from 94.75% to 95.15% accuracy\n",
    "- explain that in this scenario F-statistic is better than information gain in the transformation, but information gain is later used for the decision tree classifier"
   ]
  },
  {
   "cell_type": "markdown",
   "metadata": {},
   "source": [
    "#### SVM with Select K-Best"
   ]
  },
  {
   "cell_type": "code",
   "execution_count": null,
   "metadata": {},
   "outputs": [],
   "source": [
    "svm_pipeline_4 = Pipeline([  \n",
    "    (\"select_kbest\", SelectKBest()),\n",
    "    (\"svm_classifier\",SVC())\n",
    "])\n",
    "\n",
    "# Grid Search\n",
    "param_grid = {\n",
    "    'select_kbest__k': range(10, 18),\n",
    "    'select_kbest__score_func': [f_classif,mutual_info_classif], # F-value statistic and Information Gain (entropy)\n",
    "    'svm_classifier__kernel': ['linear', 'rbf'] # removed other attributes that seems to be inaccurate\n",
    "}"
   ]
  },
  {
   "cell_type": "code",
   "execution_count": null,
   "metadata": {
    "tags": [
     "remove_output"
    ]
   },
   "outputs": [],
   "source": [
    "svm_pipeline_4_search = GridSearchCV(svm_pipeline_4, param_grid, n_jobs=-1, cv=CROSS_VALIDATION_PARTITION)\n",
    "svm_pipeline_4_search.fit(feature_data,target_data)"
   ]
  },
  {
   "cell_type": "code",
   "execution_count": null,
   "metadata": {
    "tags": [
     "remove_input"
    ]
   },
   "outputs": [],
   "source": [
    "show_top_results(svm_pipeline_4_search)"
   ]
  },
  {
   "cell_type": "code",
   "execution_count": null,
   "metadata": {
    "tags": [
     "remove_input"
    ]
   },
   "outputs": [],
   "source": [
    "print(f\"Best Test Scores: {svm_pipeline_4_search.best_score_}\")\n",
    "print(f\"Best Params: {svm_pipeline_4_search.best_params_}\")\n",
    "print(f\"Best CV Index: {svm_pipeline_4_search.best_index_}\")"
   ]
  },
  {
   "cell_type": "code",
   "execution_count": null,
   "metadata": {
    "tags": [
     "remove_input"
    ]
   },
   "outputs": [],
   "source": [
    "select_k_best = svm_pipeline_4_search.best_estimator_[0]\n",
    "attributes_df = pd.DataFrame({\"attribute_name\": feature_data.columns[select_k_best.get_support()],\"score\": select_k_best.scores_[select_k_best.get_support()]})\n",
    "attributes_df.sort_values(\"score\").plot(x=\"attribute_name\",y=\"score\",kind=\"barh\", logx=True)\n",
    "print(f\"Number of Attributes: {len(attributes_df)}\")"
   ]
  },
  {
   "cell_type": "markdown",
   "metadata": {},
   "source": [
    "- improvement 98.95% to 99.1% (0.04% better than PCA)\n",
    "- compare the previous attribute selection if it is the same"
   ]
  },
  {
   "cell_type": "markdown",
   "metadata": {},
   "source": [
    "# Attribute Selection\n",
    "- do manual selection of attribute\n",
    "- compare to previous \n",
    "- also refer to the decision tree"
   ]
  },
  {
   "cell_type": "code",
   "execution_count": null,
   "metadata": {},
   "outputs": [],
   "source": [
    "MANUALLY_SELECTED_ATTRIBUTES = [\n",
    "    \"ram\",\n",
    "    \"has_four_g\",\n",
    "    \"mobile_depth\",\n",
    "    \"screen_width\",\n",
    "    \"screen_height\",\n",
    "    \"primary_cam_resolution\",\n",
    "    \"number_of_cores\",\n",
    "    \"int_memory\",\n",
    "    \"px_width\",\n",
    "    \"px_height\",\n",
    "] # based on domain-specific knowledge and the exploratory plots\n",
    "feature_data_manually_selected = learning_data.drop(\"is_expensive\",axis=\"columns\")[MANUALLY_SELECTED_ATTRIBUTES]"
   ]
  },
  {
   "cell_type": "markdown",
   "metadata": {},
   "source": [
    "## Decision Tree with Manually Selected Attribute"
   ]
  },
  {
   "cell_type": "code",
   "execution_count": null,
   "metadata": {},
   "outputs": [],
   "source": [
    "dt_pipeline_1 = Pipeline([\n",
    "    (\"dt_classifier\",DecisionTreeClassifier(random_state=RANDOM_STATE))\n",
    "])\n",
    "# Grid Search\n",
    "param_grid = {\n",
    "    'dt_classifier__criterion': [\"gini\", \"entropy\"],\n",
    "    'dt_classifier__max_depth': [None] + list(range(1,len(feature_data.columns)))\n",
    "}"
   ]
  },
  {
   "cell_type": "code",
   "execution_count": null,
   "metadata": {
    "tags": [
     "remove_output"
    ]
   },
   "outputs": [],
   "source": [
    "dt_pipeline_1_search = GridSearchCV(dt_pipeline_1, param_grid, n_jobs=-1, cv=CROSS_VALIDATION_PARTITION)\n",
    "dt_pipeline_1_search.fit(feature_data_manually_selected,target_data)"
   ]
  },
  {
   "cell_type": "code",
   "execution_count": null,
   "metadata": {
    "tags": [
     "remove_input"
    ]
   },
   "outputs": [],
   "source": [
    "show_top_results(dt_pipeline_1_search)"
   ]
  },
  {
   "cell_type": "code",
   "execution_count": null,
   "metadata": {
    "tags": [
     "remove_input"
    ]
   },
   "outputs": [],
   "source": [
    "print(f\"Best Test Scores: {dt_pipeline_1_search.best_score_}\")\n",
    "print(f\"Best Params: {dt_pipeline_1_search.best_params_}\")"
   ]
  },
  {
   "cell_type": "markdown",
   "metadata": {},
   "source": [
    "- discuss manually selected attribute lowered from 94.75% to 92.35%"
   ]
  },
  {
   "cell_type": "markdown",
   "metadata": {},
   "source": [
    "## SVM with Manually Selected Attributes"
   ]
  },
  {
   "cell_type": "code",
   "execution_count": null,
   "metadata": {},
   "outputs": [],
   "source": [
    "svm_pipeline_2 = Pipeline([\n",
    "    (\"svm_classifier\",SVC())\n",
    "])\n",
    "\n",
    "# Grid Search\n",
    "param_grid = {\n",
    "    'svm_classifier__kernel': ['linear', 'poly', 'rbf', 'sigmoid']\n",
    "}"
   ]
  },
  {
   "cell_type": "code",
   "execution_count": null,
   "metadata": {
    "tags": [
     "remove_output"
    ]
   },
   "outputs": [],
   "source": [
    "svm_pipeline_2_search = GridSearchCV(svm_pipeline_2, param_grid, n_jobs=-1, cv=CROSS_VALIDATION_PARTITION)\n",
    "svm_pipeline_2_search.fit(feature_data_manually_selected,target_data)"
   ]
  },
  {
   "cell_type": "code",
   "execution_count": null,
   "metadata": {
    "tags": [
     "remove_input"
    ]
   },
   "outputs": [],
   "source": [
    "show_top_results(svm_pipeline_2_search)"
   ]
  },
  {
   "cell_type": "code",
   "execution_count": null,
   "metadata": {
    "tags": [
     "remove_input"
    ]
   },
   "outputs": [],
   "source": [
    "print(f\"Best Test Scores: {svm_pipeline_2_search.best_score_}\")\n",
    "print(f\"Best Params: {svm_pipeline_2_search.best_params_}\")"
   ]
  },
  {
   "cell_type": "markdown",
   "metadata": {},
   "source": [
    "- discuss lowered accuracy from 98.95% to 92.95%"
   ]
  },
  {
   "cell_type": "markdown",
   "metadata": {},
   "source": [
    "# <u>Appendix</u>"
   ]
  },
  {
   "cell_type": "markdown",
   "metadata": {},
   "source": [
    "#### Raw Data Profiling Report"
   ]
  },
  {
   "cell_type": "code",
   "execution_count": null,
   "metadata": {
    "tags": [
     "remove_output"
    ]
   },
   "outputs": [],
   "source": [
    "raw_profile = ProfileReport(raw_data, explorative=True, orange_mode=True, title=\"Raw Data Profiling Report\")\n",
    "\n",
    "# set the Metadata\n",
    "metadata_dict = raw_metadata.to_dict()[\"Explaination\"]\n",
    "\n",
    "raw_profile.set_variable(\"variables.descriptions\",metadata_dict)\n",
    "raw_profile.to_file(\"./profile_reports/raw_data_profile.html\")\n",
    "# raw_profile"
   ]
  },
  {
   "cell_type": "markdown",
   "metadata": {},
   "source": [
    "#### Clean Data Profiling Report"
   ]
  },
  {
   "cell_type": "code",
   "execution_count": null,
   "metadata": {
    "tags": [
     "remove_output"
    ]
   },
   "outputs": [],
   "source": [
    "# Generate new pandas-profiling \n",
    "cleaned_data_profile = ProfileReport(cleaned_data, explorative=True, orange_mode=True, title=\"Clean Data Profiling Report\")\n",
    "cleaned_data_profile.set_variable(\"variables.descriptions\",cleaned_metadata_dict) # Set Metadata                  \n",
    "cleaned_data_profile.to_file(\"./profile_reports/cleaned_data_profile.html\")\n",
    "# cleaned_data_profile"
   ]
  },
  {
   "cell_type": "markdown",
   "metadata": {},
   "source": [
    "#### Discretised Data Profiling Report"
   ]
  },
  {
   "cell_type": "code",
   "execution_count": null,
   "metadata": {
    "tags": [
     "remove_output"
    ]
   },
   "outputs": [],
   "source": [
    "# Generate new pandas-profiling \n",
    "discretised_data_profile = ProfileReport(discretised_data, explorative=True, orange_mode=True, title=\"Discretised Data Profiling Report\")\n",
    "discretised_data_profile.set_variable(\"variables.descriptions\",cleaned_metadata_dict) # Set Metadata                  \n",
    "discretised_data_profile.to_file(\"./profile_reports/discretised_data_profile.html\")\n",
    "# discretised_data_profile"
   ]
  },
  {
   "cell_type": "code",
   "execution_count": null,
   "metadata": {},
   "outputs": [],
   "source": []
  }
 ],
 "metadata": {
  "authors": [
   {
    "name": "Max Matthews"
   },
   {
    "name": "Frinze Erin Lapuz (22711649)"
   }
  ],
  "kernelspec": {
   "display_name": "Python 3",
   "language": "python",
   "name": "python3"
  },
  "language_info": {
   "codemirror_mode": {
    "name": "ipython",
    "version": 3
   },
   "file_extension": ".py",
   "mimetype": "text/x-python",
   "name": "python",
   "nbconvert_exporter": "python",
   "pygments_lexer": "ipython3",
   "version": "3.8.5"
  },
  "nbformat": 5,
  "title": "CITS3401 - Data Warehousing - Project 2: Pattern Discovery and Building Predictive Models of Mobile Phone Price"
 },
 "nbformat": 4,
 "nbformat_minor": 4
}
