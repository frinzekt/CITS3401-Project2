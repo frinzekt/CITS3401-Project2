{
 "cells": [
  {
   "cell_type": "markdown",
   "metadata": {
    "tags": [
     "remove_input",
     "remove_output"
    ]
   },
   "source": [
    "Author: Max Matthews and Frinze Erin Lapuz (22711649)\n",
    "\n",
    "This is the IPython Jupyter Notebook for generating the PDF report, documentation, and generating the staging_data.\n",
    "\n",
    "To generate html, pdf and tex file, run the following command `generate_report.bat` in the command line. You may need to have Anaconda activated, Jupyter NBconvert, and LaTex renderer (eg. MikTex) in your environment to do this."
   ]
  },
  {
   "cell_type": "markdown",
   "metadata": {},
   "source": [
    "\n",
    "# Introduction\n",
    "\n",
    "For this project, we would like to use the mobile price classification dataset as the source of data. The target of this project is to predict whether the price of a mobile phone is high or not.\n"
   ]
  },
  {
   "cell_type": "markdown",
   "metadata": {},
   "source": [
    "## Tasks and Scope\n",
    "\n",
    "### 1) Data cleaning and analysis\n",
    "\n",
    "  - Read through the table and the table column descriptions. Understand the meaning of each column in the table.\n",
    "  - Distinguish the type of each attribute (e.g., nominal/categorical, numerical). You may need to discretise some attributes, when completing Task 2, 3 or 4.\n",
    "  - Determine whether an attribute is relevant to your target variable. You may remove some attributes if they are not helpful for Task 2, 3, or 4. You might create separate data files for Task 2, 3 and 4.\n",
    "  - Identify inconsistent data and take actions using the knowledge you have learnt in this unit.\n",
    "\n",
    "### 2) Association rule mining\n",
    "  - Select a subset of the attributes (or all the attributes) to mine interesting patterns. To rank the degree of interesting of the rules extracted, use support, confidence and lift.\n",
    "  - Explain the top k rules (according to lift or confidence) that have the \"price_category” on the right-hand-side, where k >= 1.\n",
    "  - Explain the meaning of the k rules in plain English.\n",
    "  - Given the rules, what recommendation will you give to a company willing to design a high price mobile phone (e.g., should the mobile phone equipped with bluetooth)?\n",
    "\n",
    "### 3) Classification\n",
    "  - Use the \"price_category\" as the target variable and train two classifiers based on different machine learning algorithms (e.g. classifier 1 based on a decision tree; classifier 2 based on SVMs).\n",
    "  - Evaluate the classifiers based on some evaluation metrics (e.g., accuracy). You may use 10-fold cross-validation for the evaluation.\n",
    "\n",
    "### 4) Clustering\n",
    "  - Run a clustering algorithm of your choice and explain how the results can be interpreted with respect to the target variable.\n",
    "\n",
    "### 5) Data reduction\n",
    "  - Perform numerosity reduction and perform attribute reduction.\n",
    "  - Train the two classifiers in Task 3 on the reduced data.\n",
    "  - Answer the question: \"Does data reduction improve the quality of the classifiers\"?\n",
    "\n",
    "### 6) Attribute selection\n",
    "  - Select the top-10 most important attributes manually based on your understanding of the problem; select the top-10 most important attributes based on Information Gain.\n",
    "  - Which attribute selection method is better and why?\n",
    "\n",
    "\n",
    "## **Marking Scheme**\n",
    "[5 marks]   Explain the data processing operations (e.g., remove some attributes and action on inconsistent data) that you have done.\n",
    "\n",
    "[5 marks]   Explain and interpret the top k association rules mined; based on the association rules, provide a recommendation for a company willing \n",
    "            to design a high price mobile phone.\n",
    "            \n",
    "[5 marks]   Explain how you train the classifiers and your evaluation results.\n",
    "\n",
    "[5 marks]   Clustering and interpretation of the clustering result (with respect to the target variable).\n",
    "\n",
    "[5 marks]   Explain the data reduction you have performed; compare the classifiers trained on reduced data with the classifiers trained on the original data.\n",
    "\n",
    "[5 marks]   Your answer to Task 6."
   ]
  },
  {
   "cell_type": "markdown",
   "metadata": {},
   "source": [
    "## Tools, Libraries and Packages\n",
    "\n",
    "Python - Used throughout the project for data cleaning, data processing, and modelling.\n",
    "\n",
    "### Imports"
   ]
  },
  {
   "cell_type": "markdown",
   "metadata": {},
   "source": [
    "https://graphviz.org/download/"
   ]
  },
  {
   "cell_type": "code",
   "execution_count": 1,
   "metadata": {
    "tags": [
     "remove_output"
    ]
   },
   "outputs": [
    {
     "name": "stdout",
     "output_type": "stream",
     "text": [
      "Requirement already satisfied: pandas-profiling[notebook] in c:\\users\\frinz\\anaconda3\\lib\\site-packages (2.11.0)\n",
      "Requirement already satisfied: mlxtend in c:\\users\\frinz\\anaconda3\\lib\\site-packages (0.18.0)\n",
      "Requirement already satisfied: clusteval in c:\\users\\frinz\\anaconda3\\lib\\site-packages (2.0.0)\n",
      "Requirement already satisfied: pca in c:\\users\\frinz\\anaconda3\\lib\\site-packages (1.5.0)\n",
      "Requirement already satisfied: graphviz in c:\\users\\frinz\\anaconda3\\lib\\site-packages (0.16)\n",
      "Requirement already satisfied: dtreeviz in c:\\users\\frinz\\anaconda3\\lib\\site-packages (1.3)\n",
      "Requirement already satisfied: tabulate in c:\\users\\frinz\\anaconda3\\lib\\site-packages (0.8.9)\n",
      "Requirement already satisfied: pandas!=1.0.0,!=1.0.1,!=1.0.2,!=1.1.0,>=0.25.3 in c:\\users\\frinz\\anaconda3\\lib\\site-packages (from pandas-profiling[notebook]) (1.1.3)\n",
      "Requirement already satisfied: phik>=0.10.0 in c:\\users\\frinz\\anaconda3\\lib\\site-packages (from pandas-profiling[notebook]) (0.11.2)\n",
      "Requirement already satisfied: tqdm>=4.48.2 in c:\\users\\frinz\\anaconda3\\lib\\site-packages (from pandas-profiling[notebook]) (4.50.2)\n",
      "Requirement already satisfied: scipy>=1.4.1 in c:\\users\\frinz\\anaconda3\\lib\\site-packages (from pandas-profiling[notebook]) (1.5.2)\n",
      "Requirement already satisfied: joblib in c:\\users\\frinz\\anaconda3\\lib\\site-packages (from pandas-profiling[notebook]) (0.17.0)\n",
      "Requirement already satisfied: tangled-up-in-unicode>=0.0.6 in c:\\users\\frinz\\anaconda3\\lib\\site-packages (from pandas-profiling[notebook]) (0.0.7)\n",
      "Requirement already satisfied: visions[type_image_path]==0.6.0 in c:\\users\\frinz\\anaconda3\\lib\\site-packages (from pandas-profiling[notebook]) (0.6.0)\n",
      "Requirement already satisfied: seaborn>=0.10.1 in c:\\users\\frinz\\anaconda3\\lib\\site-packages (from pandas-profiling[notebook]) (0.11.1)\n",
      "Requirement already satisfied: numpy>=1.16.0 in c:\\users\\frinz\\anaconda3\\lib\\site-packages (from pandas-profiling[notebook]) (1.19.2)\n",
      "Requirement already satisfied: missingno>=0.4.2 in c:\\users\\frinz\\anaconda3\\lib\\site-packages (from pandas-profiling[notebook]) (0.4.2)\n",
      "Requirement already satisfied: jinja2>=2.11.1 in c:\\users\\frinz\\anaconda3\\lib\\site-packages (from pandas-profiling[notebook]) (2.11.2)\n",
      "Requirement already satisfied: attrs>=19.3.0 in c:\\users\\frinz\\anaconda3\\lib\\site-packages (from pandas-profiling[notebook]) (20.3.0)\n",
      "Requirement already satisfied: matplotlib>=3.2.0 in c:\\users\\frinz\\anaconda3\\lib\\site-packages (from pandas-profiling[notebook]) (3.3.2)\n",
      "Requirement already satisfied: requests>=2.24.0 in c:\\users\\frinz\\anaconda3\\lib\\site-packages (from pandas-profiling[notebook]) (2.24.0)\n",
      "Requirement already satisfied: ipywidgets>=7.5.1 in c:\\users\\frinz\\anaconda3\\lib\\site-packages (from pandas-profiling[notebook]) (7.5.1)\n",
      "Requirement already satisfied: htmlmin>=0.1.12 in c:\\users\\frinz\\anaconda3\\lib\\site-packages (from pandas-profiling[notebook]) (0.1.12)\n",
      "Requirement already satisfied: confuse>=1.0.0 in c:\\users\\frinz\\anaconda3\\lib\\site-packages (from pandas-profiling[notebook]) (1.4.0)\n",
      "Requirement already satisfied: jupyter-client>=6.0.0; extra == \"notebook\" in c:\\users\\frinz\\anaconda3\\lib\\site-packages (from pandas-profiling[notebook]) (6.1.7)\n",
      "Requirement already satisfied: jupyter-core>=4.6.3; extra == \"notebook\" in c:\\users\\frinz\\anaconda3\\lib\\site-packages (from pandas-profiling[notebook]) (4.6.3)\n",
      "Requirement already satisfied: scikit-learn>=0.20.3 in c:\\users\\frinz\\anaconda3\\lib\\site-packages (from mlxtend) (0.23.2)\n",
      "Requirement already satisfied: setuptools in c:\\users\\frinz\\anaconda3\\lib\\site-packages (from mlxtend) (50.3.1.post20201107)\n",
      "Requirement already satisfied: sklearn in c:\\users\\frinz\\anaconda3\\lib\\site-packages (from clusteval) (0.0)\n",
      "Requirement already satisfied: colourmap in c:\\users\\frinz\\anaconda3\\lib\\site-packages (from pca) (0.1.1)\n",
      "Requirement already satisfied: wget in c:\\users\\frinz\\anaconda3\\lib\\site-packages (from pca) (3.2)\n",
      "Requirement already satisfied: pytest in c:\\users\\frinz\\anaconda3\\lib\\site-packages (from dtreeviz) (0.0.0)\n",
      "Requirement already satisfied: colour in c:\\users\\frinz\\anaconda3\\lib\\site-packages (from dtreeviz) (0.1.5)\n",
      "Requirement already satisfied: python-dateutil>=2.7.3 in c:\\users\\frinz\\anaconda3\\lib\\site-packages (from pandas!=1.0.0,!=1.0.1,!=1.0.2,!=1.1.0,>=0.25.3->pandas-profiling[notebook]) (2.8.1)\n",
      "Requirement already satisfied: pytz>=2017.2 in c:\\users\\frinz\\anaconda3\\lib\\site-packages (from pandas!=1.0.0,!=1.0.1,!=1.0.2,!=1.1.0,>=0.25.3->pandas-profiling[notebook]) (2020.1)\n",
      "Requirement already satisfied: networkx>=2.4 in c:\\users\\frinz\\anaconda3\\lib\\site-packages (from visions[type_image_path]==0.6.0->pandas-profiling[notebook]) (2.5)\n",
      "Requirement already satisfied: Pillow; extra == \"type_image_path\" in c:\\users\\frinz\\anaconda3\\lib\\site-packages (from visions[type_image_path]==0.6.0->pandas-profiling[notebook]) (8.0.1)\n",
      "Requirement already satisfied: imagehash; extra == \"type_image_path\" in c:\\users\\frinz\\anaconda3\\lib\\site-packages (from visions[type_image_path]==0.6.0->pandas-profiling[notebook]) (4.2.0)\n",
      "Requirement already satisfied: MarkupSafe>=0.23 in c:\\users\\frinz\\anaconda3\\lib\\site-packages (from jinja2>=2.11.1->pandas-profiling[notebook]) (1.1.1)\n",
      "Requirement already satisfied: pyparsing!=2.0.4,!=2.1.2,!=2.1.6,>=2.0.3 in c:\\users\\frinz\\anaconda3\\lib\\site-packages (from matplotlib>=3.2.0->pandas-profiling[notebook]) (2.4.7)\n",
      "Requirement already satisfied: certifi>=2020.06.20 in c:\\users\\frinz\\anaconda3\\lib\\site-packages (from matplotlib>=3.2.0->pandas-profiling[notebook]) (2020.6.20)\n",
      "Requirement already satisfied: cycler>=0.10 in c:\\users\\frinz\\anaconda3\\lib\\site-packages (from matplotlib>=3.2.0->pandas-profiling[notebook]) (0.10.0)\n",
      "Requirement already satisfied: kiwisolver>=1.0.1 in c:\\users\\frinz\\anaconda3\\lib\\site-packages (from matplotlib>=3.2.0->pandas-profiling[notebook]) (1.3.0)\n",
      "Requirement already satisfied: urllib3!=1.25.0,!=1.25.1,<1.26,>=1.21.1 in c:\\users\\frinz\\anaconda3\\lib\\site-packages (from requests>=2.24.0->pandas-profiling[notebook]) (1.25.11)\n",
      "Requirement already satisfied: idna<3,>=2.5 in c:\\users\\frinz\\anaconda3\\lib\\site-packages (from requests>=2.24.0->pandas-profiling[notebook]) (2.10)\n",
      "Requirement already satisfied: chardet<4,>=3.0.2 in c:\\users\\frinz\\anaconda3\\lib\\site-packages (from requests>=2.24.0->pandas-profiling[notebook]) (3.0.4)\n",
      "Requirement already satisfied: ipython>=4.0.0; python_version >= \"3.3\" in c:\\users\\frinz\\anaconda3\\lib\\site-packages (from ipywidgets>=7.5.1->pandas-profiling[notebook]) (7.19.0)\n",
      "Requirement already satisfied: ipykernel>=4.5.1 in c:\\users\\frinz\\anaconda3\\lib\\site-packages (from ipywidgets>=7.5.1->pandas-profiling[notebook]) (5.3.4)\n",
      "Requirement already satisfied: widgetsnbextension~=3.5.0 in c:\\users\\frinz\\anaconda3\\lib\\site-packages (from ipywidgets>=7.5.1->pandas-profiling[notebook]) (3.5.1)\n",
      "Requirement already satisfied: nbformat>=4.2.0 in c:\\users\\frinz\\anaconda3\\lib\\site-packages (from ipywidgets>=7.5.1->pandas-profiling[notebook]) (5.0.8)\n",
      "Requirement already satisfied: traitlets>=4.3.1 in c:\\users\\frinz\\anaconda3\\lib\\site-packages (from ipywidgets>=7.5.1->pandas-profiling[notebook]) (5.0.5)\n",
      "Requirement already satisfied: pyyaml in c:\\users\\frinz\\anaconda3\\lib\\site-packages (from confuse>=1.0.0->pandas-profiling[notebook]) (5.3.1)\n",
      "Requirement already satisfied: pyzmq>=13 in c:\\users\\frinz\\anaconda3\\lib\\site-packages (from jupyter-client>=6.0.0; extra == \"notebook\"->pandas-profiling[notebook]) (19.0.2)\n",
      "Requirement already satisfied: tornado>=4.1 in c:\\users\\frinz\\anaconda3\\lib\\site-packages (from jupyter-client>=6.0.0; extra == \"notebook\"->pandas-profiling[notebook]) (6.0.4)\n",
      "Requirement already satisfied: pywin32>=1.0; sys_platform == \"win32\" in c:\\users\\frinz\\anaconda3\\lib\\site-packages (from jupyter-core>=4.6.3; extra == \"notebook\"->pandas-profiling[notebook]) (227)\n",
      "Requirement already satisfied: threadpoolctl>=2.0.0 in c:\\users\\frinz\\anaconda3\\lib\\site-packages (from scikit-learn>=0.20.3->mlxtend) (2.1.0)\n",
      "Requirement already satisfied: iniconfig in c:\\users\\frinz\\anaconda3\\lib\\site-packages (from pytest->dtreeviz) (1.1.1)\n",
      "Requirement already satisfied: packaging in c:\\users\\frinz\\anaconda3\\lib\\site-packages (from pytest->dtreeviz) (20.4)\n",
      "Requirement already satisfied: pluggy<1.0,>=0.12 in c:\\users\\frinz\\anaconda3\\lib\\site-packages (from pytest->dtreeviz) (0.13.1)\n",
      "Requirement already satisfied: py>=1.8.2 in c:\\users\\frinz\\anaconda3\\lib\\site-packages (from pytest->dtreeviz) (1.9.0)\n",
      "Requirement already satisfied: toml in c:\\users\\frinz\\anaconda3\\lib\\site-packages (from pytest->dtreeviz) (0.10.1)\n",
      "Requirement already satisfied: atomicwrites>=1.0 in c:\\users\\frinz\\anaconda3\\lib\\site-packages (from pytest->dtreeviz) (1.4.0)\n",
      "Requirement already satisfied: colorama in c:\\users\\frinz\\anaconda3\\lib\\site-packages (from pytest->dtreeviz) (0.4.4)\n",
      "Requirement already satisfied: six>=1.5 in c:\\users\\frinz\\anaconda3\\lib\\site-packages (from python-dateutil>=2.7.3->pandas!=1.0.0,!=1.0.1,!=1.0.2,!=1.1.0,>=0.25.3->pandas-profiling[notebook]) (1.15.0)\n",
      "Requirement already satisfied: decorator>=4.3.0 in c:\\users\\frinz\\anaconda3\\lib\\site-packages (from networkx>=2.4->visions[type_image_path]==0.6.0->pandas-profiling[notebook]) (4.4.2)\n",
      "Requirement already satisfied: PyWavelets in c:\\users\\frinz\\anaconda3\\lib\\site-packages (from imagehash; extra == \"type_image_path\"->visions[type_image_path]==0.6.0->pandas-profiling[notebook]) (1.1.1)\n",
      "Requirement already satisfied: pickleshare in c:\\users\\frinz\\anaconda3\\lib\\site-packages (from ipython>=4.0.0; python_version >= \"3.3\"->ipywidgets>=7.5.1->pandas-profiling[notebook]) (0.7.5)\n",
      "Requirement already satisfied: pygments in c:\\users\\frinz\\anaconda3\\lib\\site-packages (from ipython>=4.0.0; python_version >= \"3.3\"->ipywidgets>=7.5.1->pandas-profiling[notebook]) (2.7.2)\n",
      "Requirement already satisfied: backcall in c:\\users\\frinz\\anaconda3\\lib\\site-packages (from ipython>=4.0.0; python_version >= \"3.3\"->ipywidgets>=7.5.1->pandas-profiling[notebook]) (0.2.0)\n",
      "Requirement already satisfied: prompt-toolkit!=3.0.0,!=3.0.1,<3.1.0,>=2.0.0 in c:\\users\\frinz\\anaconda3\\lib\\site-packages (from ipython>=4.0.0; python_version >= \"3.3\"->ipywidgets>=7.5.1->pandas-profiling[notebook]) (3.0.8)\n",
      "Requirement already satisfied: jedi>=0.10 in c:\\users\\frinz\\anaconda3\\lib\\site-packages (from ipython>=4.0.0; python_version >= \"3.3\"->ipywidgets>=7.5.1->pandas-profiling[notebook]) (0.17.1)\n",
      "Requirement already satisfied: notebook>=4.4.1 in c:\\users\\frinz\\anaconda3\\lib\\site-packages (from widgetsnbextension~=3.5.0->ipywidgets>=7.5.1->pandas-profiling[notebook]) (6.1.4)\n",
      "Requirement already satisfied: jsonschema!=2.5.0,>=2.4 in c:\\users\\frinz\\anaconda3\\lib\\site-packages (from nbformat>=4.2.0->ipywidgets>=7.5.1->pandas-profiling[notebook]) (3.2.0)\n",
      "Requirement already satisfied: ipython-genutils in c:\\users\\frinz\\anaconda3\\lib\\site-packages (from nbformat>=4.2.0->ipywidgets>=7.5.1->pandas-profiling[notebook]) (0.2.0)\n",
      "Requirement already satisfied: wcwidth in c:\\users\\frinz\\anaconda3\\lib\\site-packages (from prompt-toolkit!=3.0.0,!=3.0.1,<3.1.0,>=2.0.0->ipython>=4.0.0; python_version >= \"3.3\"->ipywidgets>=7.5.1->pandas-profiling[notebook]) (0.2.5)\n",
      "Requirement already satisfied: parso<0.8.0,>=0.7.0 in c:\\users\\frinz\\anaconda3\\lib\\site-packages (from jedi>=0.10->ipython>=4.0.0; python_version >= \"3.3\"->ipywidgets>=7.5.1->pandas-profiling[notebook]) (0.7.0)\n",
      "Requirement already satisfied: terminado>=0.8.3 in c:\\users\\frinz\\anaconda3\\lib\\site-packages (from notebook>=4.4.1->widgetsnbextension~=3.5.0->ipywidgets>=7.5.1->pandas-profiling[notebook]) (0.9.1)\n",
      "Requirement already satisfied: nbconvert in c:\\users\\frinz\\anaconda3\\lib\\site-packages (from notebook>=4.4.1->widgetsnbextension~=3.5.0->ipywidgets>=7.5.1->pandas-profiling[notebook]) (6.0.7)\n",
      "Requirement already satisfied: prometheus-client in c:\\users\\frinz\\anaconda3\\lib\\site-packages (from notebook>=4.4.1->widgetsnbextension~=3.5.0->ipywidgets>=7.5.1->pandas-profiling[notebook]) (0.8.0)\n",
      "Requirement already satisfied: Send2Trash in c:\\users\\frinz\\anaconda3\\lib\\site-packages (from notebook>=4.4.1->widgetsnbextension~=3.5.0->ipywidgets>=7.5.1->pandas-profiling[notebook]) (1.5.0)\n",
      "Requirement already satisfied: argon2-cffi in c:\\users\\frinz\\anaconda3\\lib\\site-packages (from notebook>=4.4.1->widgetsnbextension~=3.5.0->ipywidgets>=7.5.1->pandas-profiling[notebook]) (20.1.0)\n",
      "Requirement already satisfied: pyrsistent>=0.14.0 in c:\\users\\frinz\\anaconda3\\lib\\site-packages (from jsonschema!=2.5.0,>=2.4->nbformat>=4.2.0->ipywidgets>=7.5.1->pandas-profiling[notebook]) (0.17.3)\n",
      "Requirement already satisfied: pywinpty>=0.5 in c:\\users\\frinz\\anaconda3\\lib\\site-packages (from terminado>=0.8.3->notebook>=4.4.1->widgetsnbextension~=3.5.0->ipywidgets>=7.5.1->pandas-profiling[notebook]) (0.5.7)\n",
      "Requirement already satisfied: testpath in c:\\users\\frinz\\anaconda3\\lib\\site-packages (from nbconvert->notebook>=4.4.1->widgetsnbextension~=3.5.0->ipywidgets>=7.5.1->pandas-profiling[notebook]) (0.4.4)\n",
      "Requirement already satisfied: mistune<2,>=0.8.1 in c:\\users\\frinz\\anaconda3\\lib\\site-packages (from nbconvert->notebook>=4.4.1->widgetsnbextension~=3.5.0->ipywidgets>=7.5.1->pandas-profiling[notebook]) (0.8.4)\n",
      "Requirement already satisfied: defusedxml in c:\\users\\frinz\\anaconda3\\lib\\site-packages (from nbconvert->notebook>=4.4.1->widgetsnbextension~=3.5.0->ipywidgets>=7.5.1->pandas-profiling[notebook]) (0.6.0)\n",
      "Requirement already satisfied: bleach in c:\\users\\frinz\\anaconda3\\lib\\site-packages (from nbconvert->notebook>=4.4.1->widgetsnbextension~=3.5.0->ipywidgets>=7.5.1->pandas-profiling[notebook]) (3.2.1)\n",
      "Requirement already satisfied: pandocfilters>=1.4.1 in c:\\users\\frinz\\anaconda3\\lib\\site-packages (from nbconvert->notebook>=4.4.1->widgetsnbextension~=3.5.0->ipywidgets>=7.5.1->pandas-profiling[notebook]) (1.4.3)\n",
      "Requirement already satisfied: jupyterlab-pygments in c:\\users\\frinz\\anaconda3\\lib\\site-packages (from nbconvert->notebook>=4.4.1->widgetsnbextension~=3.5.0->ipywidgets>=7.5.1->pandas-profiling[notebook]) (0.1.2)\n",
      "Requirement already satisfied: nbclient<0.6.0,>=0.5.0 in c:\\users\\frinz\\anaconda3\\lib\\site-packages (from nbconvert->notebook>=4.4.1->widgetsnbextension~=3.5.0->ipywidgets>=7.5.1->pandas-profiling[notebook]) (0.5.1)\n",
      "Requirement already satisfied: entrypoints>=0.2.2 in c:\\users\\frinz\\anaconda3\\lib\\site-packages (from nbconvert->notebook>=4.4.1->widgetsnbextension~=3.5.0->ipywidgets>=7.5.1->pandas-profiling[notebook]) (0.3)\n",
      "Requirement already satisfied: cffi>=1.0.0 in c:\\users\\frinz\\anaconda3\\lib\\site-packages (from argon2-cffi->notebook>=4.4.1->widgetsnbextension~=3.5.0->ipywidgets>=7.5.1->pandas-profiling[notebook]) (1.14.3)\n",
      "Requirement already satisfied: webencodings in c:\\users\\frinz\\anaconda3\\lib\\site-packages (from bleach->nbconvert->notebook>=4.4.1->widgetsnbextension~=3.5.0->ipywidgets>=7.5.1->pandas-profiling[notebook]) (0.5.1)\n",
      "Requirement already satisfied: async-generator in c:\\users\\frinz\\anaconda3\\lib\\site-packages (from nbclient<0.6.0,>=0.5.0->nbconvert->notebook>=4.4.1->widgetsnbextension~=3.5.0->ipywidgets>=7.5.1->pandas-profiling[notebook]) (1.10)\n",
      "Requirement already satisfied: nest-asyncio in c:\\users\\frinz\\anaconda3\\lib\\site-packages (from nbclient<0.6.0,>=0.5.0->nbconvert->notebook>=4.4.1->widgetsnbextension~=3.5.0->ipywidgets>=7.5.1->pandas-profiling[notebook]) (1.4.2)\n",
      "Requirement already satisfied: pycparser in c:\\users\\frinz\\anaconda3\\lib\\site-packages (from cffi>=1.0.0->argon2-cffi->notebook>=4.4.1->widgetsnbextension~=3.5.0->ipywidgets>=7.5.1->pandas-profiling[notebook]) (2.20)\n",
      "Note: you may need to restart the kernel to use updated packages.\n"
     ]
    }
   ],
   "source": [
    "pip install pandas-profiling[notebook] mlxtend clusteval pca graphviz dtreeviz tabulate --user"
   ]
  },
  {
   "cell_type": "code",
   "execution_count": 2,
   "metadata": {},
   "outputs": [],
   "source": [
    "# Data analysis, manipulation, and profiling\n",
    "import pandas as pd\n",
    "pd.options.display.max_colwidth = 100\n",
    "pd.set_option(\"display.notebook_repr_html\", False)\n",
    "\n",
    "import numpy as np\n",
    "from pandas_profiling import ProfileReport\n",
    "\n",
    "# Visualization\n",
    "import matplotlib.pyplot as plt\n",
    "import seaborn as sns\n",
    "sns.set_style(\"darkgrid\", {\"axes.facecolor\": \".9\"})\n",
    "\n",
    "# Association Rule Mining\n",
    "from mlxtend.frequent_patterns import apriori, association_rules\n",
    "\n",
    "# Training Setups\n",
    "from sklearn.model_selection import train_test_split\n",
    "from sklearn.pipeline import Pipeline\n",
    "\n",
    "# Preprocessings and Attribute Selections\n",
    "from sklearn.impute import SimpleImputer\n",
    "from sklearn.preprocessing import StandardScaler\n",
    "from sklearn.decomposition import PCA\n",
    "# selection of best attributes from by default using f-score https://scikit-learn.org/stable/modules/generated/sklearn.feature_selection.f_classif.html\n",
    "from sklearn.feature_selection import SelectKBest, mutual_info_classif, f_classif\n",
    "\n",
    "# Classifiers\n",
    "from sklearn.tree import DecisionTreeClassifier, plot_tree\n",
    "from sklearn.svm import SVC # Support Vector Machine Classifier\n",
    "from sklearn import tree\n",
    "import graphviz\n",
    "from dtreeviz.trees import dtreeviz \n",
    "\n",
    "RANDOM_STATE = 1 # Used as a seed value\n",
    "CROSS_VALIDATION_PARTITION = 10\n",
    "NUMBER_OF_BEST_HYPER_PARAMS_TO_SHOW = 5\n",
    "\n",
    "# Optimisation\n",
    "from sklearn.model_selection import GridSearchCV # tuning the model\n",
    "from sklearn.model_selection import cross_val_score, cross_validate\n",
    "\n",
    "# Clustering\n",
    "from clusteval import clusteval\n",
    "from sklearn.preprocessing import MinMaxScaler\n",
    "from sklearn.cluster import KMeans, AgglomerativeClustering\n",
    "from scipy.cluster import hierarchy\n",
    "from scipy.cluster.hierarchy import dendrogram\n",
    "\n",
    "# Data Reduction\n",
    "from sklearn.ensemble import IsolationForest\n",
    "from sklearn.svm import OneClassSVM\n",
    "from sklearn.covariance import EllipticEnvelope\n",
    "from sklearn.cluster import DBSCAN\n",
    "from pca import pca\n"
   ]
  },
  {
   "cell_type": "code",
   "execution_count": 3,
   "metadata": {
    "tags": [
     "remove_input",
     "remove_output"
    ]
   },
   "outputs": [],
   "source": [
    "from IPython.display import Markdown, display\n",
    "def display_markdown(dataframe):\n",
    "    display(Markdown(dataframe.to_markdown()))"
   ]
  },
  {
   "cell_type": "markdown",
   "metadata": {},
   "source": [
    "<br >"
   ]
  },
  {
   "cell_type": "markdown",
   "metadata": {},
   "source": [
    "# Data Cleaning and Profiling\n",
    "\n",
    "There are many ways to approach a project's data cleaning, and data profiling steps. For these processes (in Project 2) we will be using an IPython Notebook, for the following reasons:\n",
    "\n",
    "- Both group members are proficient in Python;\n",
    "- The report can be integrated with code for specific sections of the analysis;\n",
    "- The processes / procedures are highly repeatable and easily automated using scripts;\n",
    "- Data exploration and anomaly detection can easily be performed through a variety of visualizations (charts, graphs, tables, etc);\n",
    "\n",
    "The packages that will be used are built in to the default Anaconda package, with exception to `pandas_profiling`, `mlxtend`, and `pca`.\n",
    "\n",
    "- `pandas_profiling` (from https://github.com/pandas-profiling/pandas-profiling) was leveraged to provide a detailed exploratory analysis of our data, and the attributes we would be working with.  Data profiling is crucial to the measurement of the quality of data, which in turn greatly assists the analyst team in their discovery of data anomalies/inconsistencies, and as such, appropriate data transformations and/or pre-processing actions. The data-profiling reports (generated by this package) will be referenced in our project discussion, with the full resource located in the appendix.\n",
    "\n",
    "- `mlxtend` (from https://github.com/rasbt/mlxtend) was used in our Association Rule Mining section, to assist in the mining of such associated rules.  \n",
    "\n",
    "- `pca` (from https://github.com/erdogant/pca) was used for graphical presentation of the Principal Component Analysis."
   ]
  },
  {
   "cell_type": "code",
   "execution_count": 4,
   "metadata": {
    "tags": [
     "remove_input",
     "remove_output"
    ]
   },
   "outputs": [
    {
     "data": {
      "text/plain": [
       "        id  battery_power blue  clock_speed dual_sim  fc  four_g  int_memory  \\\n",
       "0        0            842   no          2.2       no   1       0           7   \n",
       "1        1           1021  yes          0.5      YES   0       1          53   \n",
       "2        2            563  yes          0.5      Yes   2       1          41   \n",
       "3        3            615  has          2.5       no   0       0          10   \n",
       "4        4           1821  yes          1.2       NO  13       1          44   \n",
       "...    ...            ...  ...          ...      ...  ..     ...         ...   \n",
       "1995  1995            794  yes          0.5      yes   0       1           2   \n",
       "1996  1996           1965  yes          2.6      yes   0       0          39   \n",
       "1997  1997           1911   no          0.9      yes   1       1          36   \n",
       "1998  1998           1512   no          0.9      not   4       1          46   \n",
       "1999  1999            510  Yes          2.0      yes   5       1          45   \n",
       "\n",
       "      m_dep  mobile_wt  ...  px_height  px_width   ram  sc_h  sc_w  talk_time  \\\n",
       "0       0.6        188  ...         20       756  2549     9     7         19   \n",
       "1       0.7        136  ...        905      1988  2631    17     3          7   \n",
       "2       0.9        145  ...       1263      1716  2603    11     2          9   \n",
       "3       0.8        131  ...       1216      1786  2769    16     8         11   \n",
       "4       0.6        141  ...       1208      1212  1411     8     2         15   \n",
       "...     ...        ...  ...        ...       ...   ...   ...   ...        ...   \n",
       "1995    0.8        106  ...       1222      1890   668    13     4         19   \n",
       "1996    0.2        187  ...        915      1965  2032    11    10         16   \n",
       "1997    0.7        108  ...        868      1632  3057     9     1          5   \n",
       "1998    0.1        145  ...        336       670   869    18    10         19   \n",
       "1999    0.9        168  ...        483       754  3919    19     4          2   \n",
       "\n",
       "      three_g  touch_screen wifi  price_category  \n",
       "0          no             0  yes               0  \n",
       "1         yes             1   no               0  \n",
       "2         yes             1   no               0  \n",
       "3         Yes             0   no               0  \n",
       "4         Yes             1   no               0  \n",
       "...       ...           ...  ...             ...  \n",
       "1995      yes             1   No               0  \n",
       "1996      has             1  yes               0  \n",
       "1997      yes             1   no               1  \n",
       "1998      Yes             1  yes               0  \n",
       "1999      yes             1  yes               1  \n",
       "\n",
       "[2000 rows x 22 columns]"
      ]
     },
     "execution_count": 4,
     "metadata": {},
     "output_type": "execute_result"
    }
   ],
   "source": [
    "raw_data = pd.read_csv(\"./data/raw/mobile_price.csv\")\n",
    "raw_metadata = pd.read_excel(\"./data/raw/ColumnDescription.xlsx\", index_col=\"Column\")\n",
    "\n",
    "raw_data"
   ]
  },
  {
   "cell_type": "code",
   "execution_count": 5,
   "metadata": {
    "tags": [
     "remove_input",
     "remove_output"
    ]
   },
   "outputs": [
    {
     "data": {
      "text/plain": [
       "{'id': 'ID',\n",
       " 'battery_power': 'Total energy a battery can store in one time measured in mAh',\n",
       " 'blue': 'Has bluetooth or not',\n",
       " 'clock_speed': 'speed at which microprocessor executes instructions',\n",
       " 'dual_sim': 'Has dual sim support or not',\n",
       " 'fc': 'Front Camera mega pixels ',\n",
       " 'four_g': 'Has 4G or not. 1 = yes , 0 = no',\n",
       " 'int_memory': 'internal Memory in Gigabytes',\n",
       " 'm_dep': 'Mobile Depth in cm',\n",
       " 'mobile_wt': 'Weight of mobile phone',\n",
       " 'n_cores': 'Number of cores of processor',\n",
       " 'pc': 'Primary Camera mega pixels',\n",
       " 'px_height': 'Pixel Resolution Height',\n",
       " 'px_width': 'Pixel Resolution Width',\n",
       " 'ram': 'Random Access Memory in Mega Bytes',\n",
       " 'sc_h': 'Screen Height of mobile in cm',\n",
       " 'sc_w': 'Screen Width of mobile in cm',\n",
       " 'talk_time': 'longest time that a single battery charge will last when you are',\n",
       " 'three_g': 'Has 3G or not',\n",
       " 'touch_screen': 'Has touch screen or not, 1 = yes, 0 = no',\n",
       " 'wifi': 'Has wifi or not',\n",
       " 'price_category': 'This is the target variable with indicating if the mobile phone got a high price. 1 = yes, 0 = no'}"
      ]
     },
     "execution_count": 5,
     "metadata": {},
     "output_type": "execute_result"
    }
   ],
   "source": [
    "raw_metadata.to_dict()[\"Explaination\"]"
   ]
  },
  {
   "cell_type": "markdown",
   "metadata": {},
   "source": [
    "## Profiling Report\n",
    "\n",
    "With the imported metadata, and raw dataset, we can now populate and generate a `pandas_profiling` report. For reference, see `Raw Data Profiling Report`, in the apendix."
   ]
  },
  {
   "cell_type": "markdown",
   "metadata": {},
   "source": [
    "## Raw Data - Interpretation, Analysis, and Cleaning \n",
    "\n",
    "Here, we will walk through the fields presented in the raw data, stating assumptions/decisions, and  undertaking any appropriate cleaning steps.  In the event of changes, we will apply them to the `staging_data` data frame, and `staging_metadata` dictionary."
   ]
  },
  {
   "cell_type": "code",
   "execution_count": 6,
   "metadata": {
    "tags": [
     "remove_input",
     "remove_output"
    ]
   },
   "outputs": [],
   "source": [
    "# Clone the raw data & metadata \n",
    "staging_data = raw_data.copy()\n",
    "staging_metadata = raw_metadata.copy()\n",
    "\n",
    "# By default the new_name is the old_name\n",
    "staging_metadata[\"new_name\"] = staging_metadata.index"
   ]
  },
  {
   "cell_type": "code",
   "execution_count": 7,
   "metadata": {
    "tags": [
     "remove_input",
     "remove_output"
    ]
   },
   "outputs": [],
   "source": [
    "# helper functions\n",
    "    \n",
    "def string_to_bool(value):\n",
    "    \"\"\"\n",
    "    Converts String representation of Boolean (\"yes\", \"has\")/(\"no\",\"not\") to True/False\n",
    "    \"\"\"\n",
    "    if value.lower() in [\"yes\",\"has\"]:\n",
    "        return True\n",
    "    elif value.lower() in [\"no\",\"not\"]:\n",
    "        return False\n",
    "    return None\n",
    "\n",
    "\n",
    "def int_to_bool(value):\n",
    "    \"\"\"\n",
    "    Converts int representation of Boolean (1, 0) to True/False\n",
    "    \"\"\"\n",
    "    return value == 1\n",
    "\n",
    "\n",
    "def create_discretised_col(df, target_col, new_col_name=None, is_zero_its_own_category=True):\n",
    "    \"\"\"\n",
    "    This function discretises the column\n",
    "    \"\"\"\n",
    "    # Default value of new col\n",
    "    if new_col_name is None:\n",
    "        new_col_name = f\"{target_col}_category\"\n",
    "        \n",
    "    col_holder = df[target_col]\n",
    "    df[new_col_name] = 0 # Initialise\n",
    "    \n",
    "    if is_zero_its_own_category:\n",
    "        df.loc[col_holder>0, new_col_name] = pd.cut(col_holder[col_holder>0],bins=4,include_lowest=True)\n",
    "    else:\n",
    "        df.loc[:, new_col_name] = pd.cut(col_holder,bins=4,include_lowest=True)\n",
    "    \n",
    "    return df\n"
   ]
  },
  {
   "cell_type": "markdown",
   "metadata": {},
   "source": [
    "_____\n",
    "#### `ID`\n",
    "The id field is unique, and it seems to be a good candidate for primary key.  Note, we will NOT be using ID for any analysis, as it is an irrelevant attribute.\n"
   ]
  },
  {
   "cell_type": "markdown",
   "metadata": {},
   "source": [
    "_______\n",
    "#### `battery_power`\n",
    "The battery_power has 1094 distinct counts, approximately half the distinct counts of id.  This data is continuous, and as such, we shall discretise for the later association rule mining."
   ]
  },
  {
   "cell_type": "code",
   "execution_count": 8,
   "metadata": {
    "tags": [
     "remove_output"
    ]
   },
   "outputs": [],
   "source": [
    "staging_data = create_discretised_col(staging_data, \"battery_power\", is_zero_its_own_category = False)"
   ]
  },
  {
   "cell_type": "markdown",
   "metadata": {},
   "source": [
    "________\n",
    "\n",
    "#### `blue`\n",
    "This (\"has bluetooth\") field is a categorical data type (*boolean*), expressed (poorly) in string-form, with many inconsistencies.  We observe 10 distinct values that all refer to either the phone having bluetooth (True), or not having bluetooth (False). The inconsistencies must be attributed to an appropriate boolean value, and as such, this field needs to be cleaned."
   ]
  },
  {
   "cell_type": "code",
   "execution_count": 9,
   "metadata": {
    "tags": [
     "remove_output"
    ]
   },
   "outputs": [],
   "source": [
    "staging_data[\"has_bluetooth\"] = staging_data[\"blue\"].apply(string_to_bool)\n",
    "staging_metadata.loc[\"blue\",\"new_name\"] = \"has_bluetooth\"  # Rename metadata"
   ]
  },
  {
   "cell_type": "markdown",
   "metadata": {},
   "source": [
    "_____\n",
    "#### `clock_speed`\n",
    "The clock_speed attribute has 26 distinct values for which 413 of the records have a value of 0.5. We note that the distribution of values in the histogram is right skewed.  This data is continuous and will need to be discretised if we wish to use it in the association rule mining process."
   ]
  },
  {
   "cell_type": "code",
   "execution_count": 10,
   "metadata": {
    "tags": [
     "remove_output"
    ]
   },
   "outputs": [],
   "source": [
    "staging_data = create_discretised_col(staging_data, \"clock_speed\", is_zero_its_own_category = False)"
   ]
  },
  {
   "cell_type": "markdown",
   "metadata": {},
   "source": [
    "_____\n",
    "#### `dual_sim`\n",
    "The dual_sim attirbute is similar to the `blue` / `has_bluetooth` attribute, wherein it is a categorical datatype (*boolean*) with its inconsistencies forming 10 (*string*) distinct values. Hence, the procedure of cleaning will be similar."
   ]
  },
  {
   "cell_type": "code",
   "execution_count": 11,
   "metadata": {
    "tags": [
     "remove_output"
    ]
   },
   "outputs": [],
   "source": [
    "staging_data[\"has_dual_sim\"] = staging_data[\"dual_sim\"].apply(string_to_bool)\n",
    "staging_metadata.loc[\"dual_sim\",\"new_name\"] = \"has_dual_sim\"  # Rename metadata"
   ]
  },
  {
   "cell_type": "markdown",
   "metadata": {},
   "source": [
    "___\n",
    "#### `fc`\n",
    "The (*Front Camera*) `fc` attribute has 474 (23.7% of the dataset) zero values.  We will be interpreting the zero values as \"this phone does not have a front camera\" (please see the ***Data Privacy Disclaimer*** below).  This continous data will be discretised for later (association rule mining) purposes, with present zero values (as a result of our domain interpretation) populating their own level within this category."
   ]
  },
  {
   "cell_type": "code",
   "execution_count": 12,
   "metadata": {
    "tags": [
     "remove_output"
    ]
   },
   "outputs": [],
   "source": [
    "staging_data[\"front_cam_resolution\"] = staging_data[\"fc\"]\n",
    "staging_metadata.loc[\"fc\",\"new_name\"] = \"front_cam_resolution\" # Rename metadata\n",
    "staging_data = create_discretised_col(staging_data, \"front_cam_resolution\", is_zero_its_own_category = True)"
   ]
  },
  {
   "cell_type": "markdown",
   "metadata": {},
   "source": [
    "___\n",
    "#### `four_g`\n",
    "The `four_g` attribute is a categorical (*boolean*) attribute, with values indicated as `yes = 1` and `no = 0` regarding (the phone's) 4G capability. For consistency, this will be converted from current numeric form to boolean type."
   ]
  },
  {
   "cell_type": "code",
   "execution_count": 13,
   "metadata": {
    "tags": [
     "remove_output"
    ]
   },
   "outputs": [],
   "source": [
    "staging_data[\"has_four_g\"] = staging_data[\"four_g\"].apply(int_to_bool)\n",
    "staging_metadata.loc[\"four_g\",\"new_name\"] = \"has_four_g\" # Rename metadata"
   ]
  },
  {
   "cell_type": "markdown",
   "metadata": {},
   "source": [
    "_______\n",
    "\n"
   ]
  },
  {
   "cell_type": "markdown",
   "metadata": {},
   "source": [
    "#### `int_memory`\n",
    "The `int_memory` (*Internal Memory*) attribute has 63 distinct values that vary as shown in the *profiling-report* histogram.  There are no records of phones having `0 GB` as the storage which would be expected, as phones would require a minimum amount of memory to host their respective operating software/s.  This continuous data will be discretised for later use in the association rule mining phase."
   ]
  },
  {
   "cell_type": "code",
   "execution_count": 14,
   "metadata": {
    "tags": [
     "remove_output"
    ]
   },
   "outputs": [],
   "source": [
    "staging_data = create_discretised_col(staging_data, \"int_memory\", is_zero_its_own_category = False)"
   ]
  },
  {
   "cell_type": "markdown",
   "metadata": {},
   "source": [
    "____________\n",
    "\n",
    "#### `m_dep`\n",
    "The `m_dep` (*Mobile Depth*) attribute has 10 distinct values that vary as shown in the *profiling-report* histogram. The minimum values do not make much sense, however, please refer to the ***Data Privacy Disclaimer*** below.  Additionally, this continuous data will be discretised for later (association rule mining) purposes."
   ]
  },
  {
   "cell_type": "code",
   "execution_count": 15,
   "metadata": {
    "tags": [
     "remove_output"
    ]
   },
   "outputs": [],
   "source": [
    "staging_data[\"mobile_depth\"] = staging_data[\"m_dep\"]\n",
    "staging_metadata.loc[\"m_dep\",\"new_name\"] = \"mobile_depth\"  # Rename metadata\n",
    "staging_data = create_discretised_col(staging_data, \"mobile_depth\", is_zero_its_own_category = False)"
   ]
  },
  {
   "cell_type": "markdown",
   "metadata": {},
   "source": [
    "______________\n",
    "#### `mobile_wt`\n",
    "The `mobile_wt` (*Mobile Weight*) attribute has 121 distinct values that vary as shown in the *profiling-report* histogram. The respective min and max values are `80` and `200`, measured in presumably grams.  This continuous data will be discritised for later association rule mining purposes."
   ]
  },
  {
   "cell_type": "code",
   "execution_count": 16,
   "metadata": {
    "tags": [
     "remove_output"
    ]
   },
   "outputs": [],
   "source": [
    "staging_data[\"mobile_weight\"] = staging_data[\"mobile_wt\"] \n",
    "staging_metadata.loc[\"mobile_wt\",\"new_name\"] = \"mobile_weight\" # Rename metadata\n",
    "staging_data = create_discretised_col(staging_data, \"mobile_weight\", is_zero_its_own_category = False)"
   ]
  },
  {
   "cell_type": "markdown",
   "metadata": {},
   "source": [
    "________\n",
    "#### `n_cores`\n",
    "The `n_cores` (*Number of Cores*) attribute looks almost uniform in the range `1-8`. This is categorical (numerical) data, and requires no further attention at this moment."
   ]
  },
  {
   "cell_type": "code",
   "execution_count": 17,
   "metadata": {
    "tags": [
     "remove_output"
    ]
   },
   "outputs": [],
   "source": [
    "staging_data[\"number_of_cores\"] = staging_data[\"n_cores\"]\n",
    "staging_metadata.loc[\"n_cores\",\"new_name\"] = \"number_of_cores\" # Rename metadata"
   ]
  },
  {
   "cell_type": "markdown",
   "metadata": {},
   "source": [
    "________________\n",
    "#### `pc`\n",
    "The `pc` (*Primary Camera Resolution*) attribute displays 21 distinct values, with 101 zero values (5.1% of the data). We will be interpreting the zero values as \"this phone does not have a primary camera\", (please see the ***Data Privacy Disclaimer*** below). This continuous data will be discretised for later (association rule mining) purposes, with present zero values (as a result of our domain interpretation) populating their own level within this category."
   ]
  },
  {
   "cell_type": "code",
   "execution_count": 18,
   "metadata": {
    "tags": [
     "remove_output"
    ]
   },
   "outputs": [],
   "source": [
    "staging_data[\"primary_cam_resolution\"] = staging_data[\"pc\"]\n",
    "staging_metadata.loc[\"pc\",\"new_name\"] = \"primary_cam_resolution\"\n",
    "staging_data = create_discretised_col(staging_data, \"primary_cam_resolution\", is_zero_its_own_category = True)"
   ]
  },
  {
   "cell_type": "markdown",
   "metadata": {},
   "source": [
    "_____\n",
    "#### `px_height`\n",
    "The `px_height` (*Pixel Height*) attribute has a right-skewed, normal distribution, with a mean and standard deviation of `645` and `443.79` pixels (respectively), and values falling in the range `0-1960`.  We will be interpreting the two zero values as *extremely small, but not zero* values, (please see the ***Data Privacy Disclaimer*** below).  This notion also applies to the nonsensical low values.  For association rule mining purposes, this continuous data will be discretised, wherein (as per the assumption above) the zero values will fall within the first category, shared by other values (relatively) close to zero."
   ]
  },
  {
   "cell_type": "code",
   "execution_count": 19,
   "metadata": {},
   "outputs": [],
   "source": [
    "staging_data = create_discretised_col(staging_data, \"px_height\", is_zero_its_own_category = False)"
   ]
  },
  {
   "cell_type": "markdown",
   "metadata": {},
   "source": [
    "______\n",
    "#### `px_width`\n",
    "The `px_width` (*Pixel Width*) attribute has a varying distribution of values in the range 500 to 1998. This continuous data will be discretised, for later (association rule mining) purposes."
   ]
  },
  {
   "cell_type": "code",
   "execution_count": 20,
   "metadata": {
    "tags": [
     "remove_output"
    ]
   },
   "outputs": [],
   "source": [
    "staging_data = create_discretised_col(staging_data, \"px_width\", is_zero_its_own_category = False)"
   ]
  },
  {
   "cell_type": "markdown",
   "metadata": {},
   "source": [
    "_____\n",
    "#### `ram`\n",
    "The `ram` attribute has a varying distribution of values in the range `256-3998`. This continuous data will be discretised, for later (association rule mining) purposes."
   ]
  },
  {
   "cell_type": "code",
   "execution_count": 21,
   "metadata": {
    "tags": [
     "remove_output"
    ]
   },
   "outputs": [],
   "source": [
    "# Discretizing ram\n",
    "staging_data = create_discretised_col(staging_data, \"ram\", is_zero_its_own_category = False)"
   ]
  },
  {
   "cell_type": "markdown",
   "metadata": {},
   "source": [
    "_____\n",
    "#### `sc_h`\n",
    "The `sc_h` (*Screen Height*) attributes has 15 distinct values with a range of `5-19`. This continuous data will be discretised, for later (association rule mining) purposes."
   ]
  },
  {
   "cell_type": "code",
   "execution_count": 22,
   "metadata": {
    "tags": [
     "remove_output"
    ]
   },
   "outputs": [],
   "source": [
    "staging_data[\"screen_height\"] = staging_data[\"sc_h\"]\n",
    "staging_metadata.loc[\"sc_h\",\"new_name\"] = \"screen_height\" # Rename metadata\n",
    "staging_data = create_discretised_col(staging_data, \"screen_height\", is_zero_its_own_category = False)"
   ]
  },
  {
   "cell_type": "markdown",
   "metadata": {},
   "source": [
    "______________\n",
    "#### `sc_w`\n",
    "The `sc_w` (*Screen Width*) attribute has 19 distinct values with a range of `0-18` with 180 zero values. These zero values do not make *real world sense*, and so we will be interpreting any zero values as representatives of sensible, low values (please see the ***Data Privacy Disclaimer*** below). Note that this notion also applies to any non-zero, nonsensical low values.  For association rule mining purposes, this continuous data will be discretised, wherein (as per the assumption above) the zero values will fall within the first category, shared by other values (relatively) close to zero."
   ]
  },
  {
   "cell_type": "code",
   "execution_count": 23,
   "metadata": {
    "tags": [
     "remove_output"
    ]
   },
   "outputs": [],
   "source": [
    "staging_data[\"screen_width\"] = staging_data[\"sc_w\"]\n",
    "staging_metadata.loc[\"sc_w\",\"new_name\"] = \"screen_width\" # Rename metadata\n",
    "staging_data = create_discretised_col(staging_data, \"screen_width\", is_zero_its_own_category = False)"
   ]
  },
  {
   "cell_type": "markdown",
   "metadata": {},
   "source": [
    "______\n",
    "#### `talk_time`\n",
    "The `talk_time` attribute has 19 distinct values with a range `2-20`. This continuous data will be discretised, for later (association rule mining) purposes."
   ]
  },
  {
   "cell_type": "code",
   "execution_count": 24,
   "metadata": {
    "tags": [
     "remove_output"
    ]
   },
   "outputs": [],
   "source": [
    "staging_data = create_discretised_col(staging_data, \"talk_time\", is_zero_its_own_category = False)"
   ]
  },
  {
   "cell_type": "markdown",
   "metadata": {},
   "source": [
    "_______\n",
    "#### `three_g`\n",
    "The `three_g` attribute is similar to the `has_bluetooth` and `dual_sim` attribute, wherein it is a categorical (*boolean*) datatype, with inconsistencies spread to 10 (string) distinct values.  As such, the cleaning procedure will be similar."
   ]
  },
  {
   "cell_type": "code",
   "execution_count": 25,
   "metadata": {
    "tags": [
     "remove_output"
    ]
   },
   "outputs": [],
   "source": [
    "staging_data[\"has_three_g\"] = staging_data[\"three_g\"].apply(string_to_bool)\n",
    "staging_metadata.loc[\"three_g\",\"new_name\"] = \"has_three_g\" # Rename metadata"
   ]
  },
  {
   "cell_type": "markdown",
   "metadata": {},
   "source": [
    "_____\n",
    "#### `touch_screen`\n",
    "The `touch_screen` attribute is a categorical (*boolean*) attribute, similar to the initial state of the imported `four_g` attribute.  Hence, the cleaning procedure is similar."
   ]
  },
  {
   "cell_type": "code",
   "execution_count": 26,
   "metadata": {
    "tags": [
     "remove_output"
    ]
   },
   "outputs": [],
   "source": [
    "staging_data[\"has_touch_screen\"] = staging_data[\"touch_screen\"].apply(int_to_bool)\n",
    "staging_metadata.loc[\"touch_screen\",\"new_name\"] = \"has_touch_screen\" # Rename metadata"
   ]
  },
  {
   "cell_type": "markdown",
   "metadata": {},
   "source": [
    "_____\n",
    "#### `wifi`\n",
    "The `wifi` (*has wifi*) attribute is similar to `blue`,`dual_sim` and `three_g` attribute, wherein it is a boolean datatype with inconsistencies spread to 10 (string) distinct values. Hence, the procedure of cleaning will be similar."
   ]
  },
  {
   "cell_type": "code",
   "execution_count": 27,
   "metadata": {
    "tags": [
     "remove_output"
    ]
   },
   "outputs": [],
   "source": [
    "staging_data[\"has_wifi\"] = staging_data[\"wifi\"].apply(string_to_bool)\n",
    "staging_metadata.loc[\"wifi\",\"new_name\"] = \"has_wifi\" # Rename metadata"
   ]
  },
  {
   "cell_type": "markdown",
   "metadata": {},
   "source": [
    "________\n",
    "#### `price_category`\n",
    "The `price_category` attribute is categorical (*boolean*) data, similar to the representation of `four_g` and `touch_screen`. Hence, the cleaning procedure is similar."
   ]
  },
  {
   "cell_type": "code",
   "execution_count": 28,
   "metadata": {
    "tags": [
     "remove_output"
    ]
   },
   "outputs": [],
   "source": [
    "staging_data[\"is_expensive\"] = staging_data[\"price_category\"].apply(int_to_bool)\n",
    "staging_metadata.loc[\"price_category\",\"new_name\"] = \"is_expensive\" # Rename metadata"
   ]
  },
  {
   "cell_type": "markdown",
   "metadata": {},
   "source": [
    "__________"
   ]
  },
  {
   "cell_type": "markdown",
   "metadata": {},
   "source": [
    "## ***Data Privacy Disclaimer***\n",
    "\n",
    "The data provided (`mobile_prices.csv`) has had some of it's *real world* values altered for privacy and/or legal reasons.  As such, decisions were made on how to best interpret unusual / nonsensical values equal, or approximately equal to `zero`.\n",
    "\n",
    "\n",
    "### **Appropriate zero values**\n",
    "- `primary_camera_resolution`\n",
    "- `front_camera_resolution`\n",
    "\n",
    "Zero values for these attributes can be observed as the phone not having the attribute. This makes sense, as not all phones have a front camera, or primary camera.\n",
    "\n",
    "\n",
    "### Inappropriate zero values\n",
    "- `px_height` \n",
    "- `screen_width`\n",
    "\n",
    "Zero / close to zero values for these attributes can be observed as **values altered for privacy reasons** and should be interpreted as a representation of a relatively low value (but **NOT** taken literally as the stated value).\n"
   ]
  },
  {
   "cell_type": "markdown",
   "metadata": {},
   "source": [
    "## Set `cleaned_data` and `discretised_data`\n",
    "\n",
    "- Declare our `cleaned_data`, `discretised_data` and `cleaned_metadata`;\n",
    "- Generate \"clean\" pandas-profiling report;\n",
    "- Export these to `.csv` files;"
   ]
  },
  {
   "cell_type": "code",
   "execution_count": 29,
   "metadata": {
    "tags": [
     "remove_output"
    ]
   },
   "outputs": [],
   "source": [
    "cleaned_data = staging_data[[\n",
    "    \"id\",\"battery_power\",\"has_bluetooth\",\"clock_speed\",\n",
    "    \"has_dual_sim\",\"front_cam_resolution\",\"has_four_g\",\n",
    "    \"int_memory\",\"mobile_depth\",\"mobile_weight\",\n",
    "    \"number_of_cores\", \"primary_cam_resolution\", \"px_height\",\n",
    "    \"px_width\", \"ram\", \"screen_height\",\"screen_width\", \"talk_time\", \n",
    "    \"has_three_g\",\"has_touch_screen\", \"has_wifi\", \"is_expensive\"]]\n",
    "\n",
    "discretised_data = staging_data[[\n",
    "    \"battery_power_category\",\"has_bluetooth\",\"clock_speed_category\",\n",
    "    \"has_dual_sim\",\"front_cam_resolution_category\", \"has_four_g\",\n",
    "    \"int_memory_category\",\"mobile_depth_category\",\"mobile_weight_category\",\n",
    "    \"number_of_cores\", \"primary_cam_resolution_category\", \"px_height_category\",\n",
    "    \"px_width_category\", \"ram_category\", \"screen_height_category\",\n",
    "    \"screen_width_category\", \"talk_time_category\", \"has_three_g\",\n",
    "    \"has_touch_screen\", \"has_wifi\", \"is_expensive\"]]"
   ]
  },
  {
   "cell_type": "code",
   "execution_count": 30,
   "metadata": {
    "tags": [
     "remove_input"
    ]
   },
   "outputs": [
    {
     "data": {
      "text/plain": [
       "                                                                                                             Explaination\n",
       "new_name                                                                                                                 \n",
       "id                                                                                                                     ID\n",
       "battery_power                                                Total energy a battery can store in one time measured in mAh\n",
       "has_bluetooth                                                                                        Has bluetooth or not\n",
       "clock_speed                                                           speed at which microprocessor executes instructions\n",
       "has_dual_sim                                                                                  Has dual sim support or not\n",
       "front_cam_resolution                                                                            Front Camera mega pixels \n",
       "has_four_g                                                                                Has 4G or not. 1 = yes , 0 = no\n",
       "int_memory                                                                                   internal Memory in Gigabytes\n",
       "mobile_depth                                                                                           Mobile Depth in cm\n",
       "mobile_weight                                                                                      Weight of mobile phone\n",
       "number_of_cores                                                                              Number of cores of processor\n",
       "primary_cam_resolution                                                                         Primary Camera mega pixels\n",
       "px_height                                                                                         Pixel Resolution Height\n",
       "px_width                                                                                           Pixel Resolution Width\n",
       "ram                                                                                    Random Access Memory in Mega Bytes\n",
       "screen_height                                                                               Screen Height of mobile in cm\n",
       "screen_width                                                                                 Screen Width of mobile in cm\n",
       "talk_time                                                longest time that a single battery charge will last when you are\n",
       "has_three_g                                                                                                 Has 3G or not\n",
       "has_touch_screen                                                                 Has touch screen or not, 1 = yes, 0 = no\n",
       "has_wifi                                                                                                  Has wifi or not\n",
       "is_expensive            This is the target variable with indicating if the mobile phone got a high price. 1 = yes, 0 = no"
      ]
     },
     "execution_count": 30,
     "metadata": {},
     "output_type": "execute_result"
    }
   ],
   "source": [
    "# Cleaned metadata\n",
    "cleaned_metadata = staging_metadata.set_index(\"new_name\")\n",
    "cleaned_metadata_dict = cleaned_metadata.to_dict()[\"Explaination\"]\n",
    "cleaned_metadata"
   ]
  },
  {
   "cell_type": "code",
   "execution_count": 31,
   "metadata": {
    "tags": [
     "remove_input",
     "remove_output"
    ]
   },
   "outputs": [],
   "source": [
    "cleaned_data.to_csv(\"./data/cleaned/mobile_price.csv\",index=False) # Export cleaned_data\n",
    "discretised_data.to_csv(\"./data/cleaned/mobile_price_discretised.csv\",index=False) # Export discretised_data"
   ]
  },
  {
   "cell_type": "markdown",
   "metadata": {},
   "source": [
    "<br />\n",
    "\n",
    "### Pandas-Profiling (`cleaned_data` and `discretised_data`) Reports\n",
    "\n",
    "See `Clean Data Profiling Report`, and `Discretised Data Profiling Report` (in appendix)."
   ]
  },
  {
   "cell_type": "code",
   "execution_count": 32,
   "metadata": {
    "tags": [
     "remove_output"
    ]
   },
   "outputs": [
    {
     "data": {
      "text/plain": [
       "     battery_power_category  has_bluetooth clock_speed_category  has_dual_sim  \\\n",
       "0                         2              0                    2             0   \n",
       "1                         3              1                    0             1   \n",
       "2                         2              1                    0             1   \n",
       "3                         2              1                    3             0   \n",
       "4                         1              1                    1             0   \n",
       "...                     ...            ...                  ...           ...   \n",
       "1995                      2              1                    0             1   \n",
       "1996                      1              1                    3             1   \n",
       "1997                      1              0                    0             1   \n",
       "1998                      0              0                    0             0   \n",
       "1999                      2              1                    2             1   \n",
       "\n",
       "      front_cam_resolution_category  has_four_g int_memory_category  \\\n",
       "0                                 0           0                   0   \n",
       "1                                 4           1                   3   \n",
       "2                                 0           1                   2   \n",
       "3                                 4           0                   0   \n",
       "4                                 1           1                   2   \n",
       "...                             ...         ...                 ...   \n",
       "1995                              4           1                   0   \n",
       "1996                              4           0                   2   \n",
       "1997                              0           1                   2   \n",
       "1998                              0           1                   2   \n",
       "1999                              0           1                   2   \n",
       "\n",
       "     mobile_depth_category mobile_weight_category  number_of_cores  ...  \\\n",
       "0                        2                      2                1  ...   \n",
       "1                        2                      0                2  ...   \n",
       "2                        3                      1                4  ...   \n",
       "3                        3                      0                5  ...   \n",
       "4                        2                      1                1  ...   \n",
       "...                    ...                    ...              ...  ...   \n",
       "1995                     3                      3                5  ...   \n",
       "1996                     0                      2                3  ...   \n",
       "1997                     2                      3                7  ...   \n",
       "1998                     0                      1                4  ...   \n",
       "1999                     3                      1                5  ...   \n",
       "\n",
       "      px_height_category px_width_category ram_category  \\\n",
       "0                      0                 2            1   \n",
       "1                      2                 1            1   \n",
       "2                      3                 1            1   \n",
       "3                      3                 1            1   \n",
       "4                      3                 3            0   \n",
       "...                  ...               ...          ...   \n",
       "1995                   3                 1            2   \n",
       "1996                   2                 1            0   \n",
       "1997                   2                 1            1   \n",
       "1998                   0                 2            2   \n",
       "1999                   0                 2            3   \n",
       "\n",
       "     screen_height_category screen_width_category talk_time_category  \\\n",
       "0                         3                     2                  2   \n",
       "1                         1                     0                  3   \n",
       "2                         3                     0                  3   \n",
       "3                         1                     2                  3   \n",
       "4                         2                     0                  1   \n",
       "...                     ...                   ...                ...   \n",
       "1995                      0                     0                  2   \n",
       "1996                      3                     3                  2   \n",
       "1997                      3                     0                  0   \n",
       "1998                      1                     3                  2   \n",
       "1999                      1                     0                  0   \n",
       "\n",
       "     has_three_g  has_touch_screen  has_wifi  is_expensive  \n",
       "0              0                 0         1         False  \n",
       "1              1                 1         0         False  \n",
       "2              1                 1         0         False  \n",
       "3              1                 0         0         False  \n",
       "4              1                 1         0         False  \n",
       "...          ...               ...       ...           ...  \n",
       "1995           1                 1         0         False  \n",
       "1996           1                 1         1         False  \n",
       "1997           1                 1         0          True  \n",
       "1998           1                 1         1         False  \n",
       "1999           1                 1         1          True  \n",
       "\n",
       "[2000 rows x 21 columns]"
      ]
     },
     "execution_count": 32,
     "metadata": {},
     "output_type": "execute_result"
    }
   ],
   "source": [
    "# Sort all the columns based on value (this will determine the Ordinal Encoder)\n",
    "\n",
    "discretised_ordered_data = discretised_data.copy()\n",
    "\n",
    "for column in discretised_data.columns:\n",
    "    if column != 'is_expensive':\n",
    "        unique_sorted_values =np.sort(np.unique(discretised_data[column].astype(str)))\n",
    "        dictionary = {}\n",
    "        for numeric_value in range(len(unique_sorted_values)):\n",
    "            dictionary[unique_sorted_values[numeric_value]] = numeric_value\n",
    "        discretised_ordered_data[column] = discretised_data[column].apply(lambda value: dictionary[str(value)])\n",
    "    \n",
    "discretised_ordered_data"
   ]
  },
  {
   "cell_type": "code",
   "execution_count": 33,
   "metadata": {},
   "outputs": [
    {
     "data": {
      "image/png": "[encoded data removed]",
      "text/plain": [
       "<Figure size 1080x864 with 20 Axes>"
      ]
     },
     "metadata": {},
     "output_type": "display_data"
    }
   ],
   "source": [
    "melted_data = pd.melt(discretised_ordered_data, \"is_expensive\", discretised_ordered_data.drop([\"is_expensive\"],axis=\"columns\"), value_name=\"Ordinal Value\",)\n",
    "\n",
    "g = sns.FacetGrid(melted_data, col=\"variable\", hue=\"is_expensive\", col_wrap=5)\n",
    "g.map(sns.kdeplot, \"Ordinal Value\", shade=True)\n",
    "g.set_axis_labels(\"Ordinal Values\", \"Relative Frequency\")\n",
    "\n",
    "plt.xlim(0,5)\n",
    "plt.legend()\n",
    "plt.show()"
   ]
  },
  {
   "cell_type": "markdown",
   "metadata": {},
   "source": [
    "This (above) shows the relative frequency graph of the discretised data, in ordinal form, split by the phone-data's `is_expensive` field.  The variable `ram_category` displays a strong variance regarding its seperation with `is_expensive`, which following steps will investigate further."
   ]
  },
  {
   "cell_type": "markdown",
   "metadata": {},
   "source": [
    "# Association Rule Mining\n",
    "\n",
    "\n",
    "## Information\n",
    "\n",
    "Association rule mining ('ARM') is a technique used investigate and uncover frequently occurring patterns, correlations, or associations, between the characteristics of a given dataset/s or source.  Association rules comprise of two parts:\n",
    "\n",
    "-\tantecedent (if) → An antecedent is something that is found in data;\n",
    "-\tconsequent (then) → A consequent is an item that is found in combination with the antecedent."
   ]
  },
  {
   "cell_type": "markdown",
   "metadata": {},
   "source": [
    "## ARM Approach\n",
    "\n",
    "Our approach is to take the characteristics of each of the phone attributes (from our data) with the following strategy:\n",
    "\n",
    "- keep the (current) cleaned data, especially the boolean values;\n",
    "- discretise any numeric values;\n",
    "\n",
    "\n",
    "Before the \"apriori\" runs, the data should be in a form similar to:\n",
    "\n",
    "|has_bluetooth|has_dual_sim|battery_power_0-100|...|\n",
    "|---\t|---\t|---\t|---\t|\n",
    "|True|False|True|True|\n",
    "|True|True|False|True|\n",
    "|False|True|True|False|\n",
    "\n",
    "*For completed pre-processing, see IPython Notebook or* `./data/cleaned/ARM_item_characteristics.csv`"
   ]
  },
  {
   "cell_type": "code",
   "execution_count": 34,
   "metadata": {
    "tags": [
     "remove_input",
     "remove_output"
    ]
   },
   "outputs": [
    {
     "data": {
      "text/plain": [
       "   has_bluetooth  has_dual_sim  has_four_g  has_three_g  has_touch_screen  \\\n",
       "0          False         False       False        False             False   \n",
       "1           True          True        True         True              True   \n",
       "2           True          True        True         True              True   \n",
       "\n",
       "   has_wifi  is_expensive  battery_power_category_(499.502, 875.25]  \\\n",
       "0      True         False                                      True   \n",
       "1     False         False                                     False   \n",
       "2     False         False                                      True   \n",
       "\n",
       "   battery_power_category_(875.25, 1249.5]  \\\n",
       "0                                    False   \n",
       "1                                     True   \n",
       "2                                    False   \n",
       "\n",
       "   battery_power_category_(1623.75, 1998.0]  ...  \\\n",
       "0                                     False  ...   \n",
       "1                                     False  ...   \n",
       "2                                     False  ...   \n",
       "\n",
       "   screen_height_category_(4.984999999999999, 8.5]  \\\n",
       "0                                            False   \n",
       "1                                            False   \n",
       "2                                            False   \n",
       "\n",
       "   screen_height_category_(12.0, 15.5]  screen_width_category_(4.5, 9.0]  \\\n",
       "0                                False                              True   \n",
       "1                                False                             False   \n",
       "2                                False                             False   \n",
       "\n",
       "   screen_width_category_(-0.019, 4.5]  screen_width_category_(9.0, 13.5]  \\\n",
       "0                                False                              False   \n",
       "1                                 True                              False   \n",
       "2                                 True                              False   \n",
       "\n",
       "   screen_width_category_(13.5, 18.0]  talk_time_category_(15.5, 20.0]  \\\n",
       "0                               False                             True   \n",
       "1                               False                            False   \n",
       "2                               False                            False   \n",
       "\n",
       "   talk_time_category_(6.5, 11.0]  talk_time_category_(11.0, 15.5]  \\\n",
       "0                           False                            False   \n",
       "1                            True                            False   \n",
       "2                            True                            False   \n",
       "\n",
       "   talk_time_category_(1.981, 6.5]  \n",
       "0                            False  \n",
       "1                            False  \n",
       "2                            False  \n",
       "\n",
       "[3 rows x 69 columns]"
      ]
     },
     "execution_count": 34,
     "metadata": {},
     "output_type": "execute_result"
    }
   ],
   "source": [
    "# restructuring cleaned_data for association rule mining\n",
    "ARM_data = discretised_data\n",
    "\n",
    "# Boolean Tables\n",
    "ARM_structured_data = ARM_data.copy()[[item[0] for item in zip(ARM_data.columns,ARM_data.dtypes) if item[1] == np.bool]]\n",
    "\n",
    "# Discretise data\n",
    "non_boolean_values = ARM_data[[item[0] for item in zip(ARM_data.columns,ARM_data.dtypes) if item[1] != np.bool]]\n",
    "\n",
    "# Adding extra columns from discretise data into columns\n",
    "for non_boolean_column in non_boolean_values.columns:\n",
    "    unique_values_in_column = ARM_data[non_boolean_column].unique()\n",
    "    for category_name in unique_values_in_column:\n",
    "        \n",
    "        # Assign true if the current category name matches the data\n",
    "        ARM_structured_data[f\"{non_boolean_column}_{category_name}\"] = ARM_data[non_boolean_column]==category_name\n",
    "        \n",
    "ARM_structured_data.head(3)"
   ]
  },
  {
   "cell_type": "code",
   "execution_count": 35,
   "metadata": {
    "tags": [
     "remove_input",
     "remove_output"
    ]
   },
   "outputs": [],
   "source": [
    "ARM_structured_data.to_csv(\"./data/cleaned/ARM_item_characteristics.csv\", index=False) # export to csv"
   ]
  },
  {
   "cell_type": "markdown",
   "metadata": {},
   "source": [
    "## Apriori Algorithm\n",
    "\n",
    "Apriori (*Apriori Algorithm*) is an algorithm used in frequent-item-set / pattern mining over relational datasets. It seeks to identify frequent, individual items in the data, and then extend them to (incrementally) larger item sets, on the proviso that such item sets appear sufficiently often enough in said data.\n"
   ]
  },
  {
   "cell_type": "markdown",
   "metadata": {},
   "source": [
    "## Support\n",
    "\n",
    "The recognition of frequently occurring patterns (in a dataset) must first be tuned by certain analyst-defined parameters.  The minimum support acts as an 'entry requirement value' that rules must meet/exceed, for them to be considered 'frequent'.  A minimum support value set too low, will not filter out patterns.  If it is set too high, this strict program's mining expedition will return no rules, or only extremely dominant attribute-patterns.  Example below, where we set `MINIMUM_SUPPORT = 0.1`, and then begin to mine the associated rules.\n",
    "\n",
    "### Rules by 'Minimum Support'"
   ]
  },
  {
   "cell_type": "code",
   "execution_count": 36,
   "metadata": {},
   "outputs": [
    {
     "name": "stdout",
     "output_type": "stream",
     "text": [
      "Processing 570 combinations | Sampling itemset size 5 4\n"
     ]
    },
    {
     "data": {
      "text/markdown": [
       "|     |   support | itemsets                                                                                                                                  |\n",
       "|----:|----------:|:------------------------------------------------------------------------------------------------------------------------------------------|\n",
       "|   0 |    0.495  | frozenset({'has_bluetooth'})                                                                                                              |\n",
       "|   1 |    0.5095 | frozenset({'has_dual_sim'})                                                                                                               |\n",
       "|   2 |    0.5215 | frozenset({'has_four_g'})                                                                                                                 |\n",
       "|   3 |    0.7615 | frozenset({'has_three_g'})                                                                                                                |\n",
       "|   4 |    0.503  | frozenset({'has_touch_screen'})                                                                                                           |\n",
       "| 712 |    0.1165 | frozenset({'has_three_g', 'has_four_g', 'screen_width_category_(-0.019, 4.5]', 'has_wifi'})                                               |\n",
       "| 713 |    0.1165 | frozenset({'has_three_g', 'ram_category_(3062.5, 3998.0]', 'has_four_g', 'is_expensive'})                                                 |\n",
       "| 714 |    0.1    | frozenset({'has_three_g', 'clock_speed_category_(0.497, 1.125]', 'has_four_g', 'screen_width_category_(-0.019, 4.5]'})                    |\n",
       "| 715 |    0.11   | frozenset({'has_three_g', 'front_cam_resolution_category_(0.981, 5.5]', 'has_four_g', 'px_height_category_(-1.9609999999999999, 490.0]'}) |\n",
       "| 716 |    0.105  | frozenset({'has_three_g', 'screen_width_category_(-0.019, 4.5]', 'has_four_g', 'px_height_category_(-1.9609999999999999, 490.0]'})        |"
      ],
      "text/plain": [
       "<IPython.core.display.Markdown object>"
      ]
     },
     "metadata": {},
     "output_type": "display_data"
    }
   ],
   "source": [
    "# This defines what is considered as a minimum item\n",
    "MINIMUM_SUPPORT = 0.1\n",
    "frequent_items = apriori(ARM_structured_data,min_support=MINIMUM_SUPPORT,use_colnames=True, verbose=True)\n",
    "display_markdown(frequent_items.head(5).append(frequent_items.tail(5)))"
   ]
  },
  {
   "cell_type": "markdown",
   "metadata": {},
   "source": [
    "**Comment:** The (above) table demonstrates the item sets that meet the minimum defined support (`0.1`)."
   ]
  },
  {
   "cell_type": "markdown",
   "metadata": {},
   "source": [
    "## Confidence\n",
    "\n",
    "In ARM, confidence is an indication of how often the rule has been found to be true.  The confidence value of a rule, {  ***X*** -> ***Y***  } with respect to a set of **z**'s {***Z***}, is the proportion of the **z**'s that contains ***X***, which also contains ***Y***.\n",
    "\n",
    "\n",
    "### Rules by 'Minimum Confidence'"
   ]
  },
  {
   "cell_type": "code",
   "execution_count": 37,
   "metadata": {},
   "outputs": [],
   "source": [
    "ARM_COLS_OF_INTEREST = ['antecedents', 'consequents', 'support', 'confidence', 'lift']"
   ]
  },
  {
   "cell_type": "code",
   "execution_count": 38,
   "metadata": {},
   "outputs": [
    {
     "data": {
      "text/markdown": [
       "|    | antecedents                                                               | consequents                                |   support |   confidence |    lift |\n",
       "|---:|:--------------------------------------------------------------------------|:-------------------------------------------|----------:|-------------:|--------:|\n",
       "|  0 | frozenset({'ram_category_(3062.5, 3998.0]', 'has_four_g'})                | frozenset({'is_expensive'})                |    0.1165 |     0.856618 | 3.42647 |\n",
       "|  1 | frozenset({'ram_category_(3062.5, 3998.0]', 'has_four_g'})                | frozenset({'has_three_g', 'is_expensive'}) |    0.1165 |     0.856618 | 4.44996 |\n",
       "|  2 | frozenset({'has_three_g', 'ram_category_(3062.5, 3998.0]', 'has_four_g'}) | frozenset({'is_expensive'})                |    0.1165 |     0.856618 | 3.42647 |\n",
       "|  3 | frozenset({'ram_category_(3062.5, 3998.0]', 'has_touch_screen'})          | frozenset({'is_expensive'})                |    0.103  |     0.847737 | 3.39095 |\n",
       "|  4 | frozenset({'has_three_g', 'ram_category_(3062.5, 3998.0]'})               | frozenset({'is_expensive'})                |    0.1635 |     0.844961 | 3.37984 |\n",
       "|  5 | frozenset({'ram_category_(3062.5, 3998.0]', 'has_wifi'})                  | frozenset({'is_expensive'})                |    0.108  |     0.840467 | 3.36187 |\n",
       "|  6 | frozenset({'ram_category_(3062.5, 3998.0]', 'has_bluetooth'})             | frozenset({'is_expensive'})                |    0.109  |     0.838462 | 3.35385 |\n",
       "|  7 | frozenset({'ram_category_(3062.5, 3998.0]'})                              | frozenset({'is_expensive'})                |    0.209  |     0.832669 | 3.33068 |\n",
       "|  8 | frozenset({'ram_category_(3062.5, 3998.0]', 'has_dual_sim'})              | frozenset({'is_expensive'})                |    0.115  |     0.824373 | 3.29749 |\n",
       "|  9 | frozenset({'ram_category_(3062.5, 3998.0]'})                              | frozenset({'has_three_g', 'is_expensive'}) |    0.1635 |     0.651394 | 3.38387 |"
      ],
      "text/plain": [
       "<IPython.core.display.Markdown object>"
      ]
     },
     "metadata": {},
     "output_type": "display_data"
    }
   ],
   "source": [
    "MINIMUM_CONFIDENCE_THRESHOLD = 0.20 # this is the minimum confidence threshold to mine\n",
    "rules_by_confidence = association_rules(frequent_items, metric=\"confidence\", min_threshold=MINIMUM_CONFIDENCE_THRESHOLD)\n",
    "\n",
    "# Get all the rules that has mobile price\n",
    "rules = rules_by_confidence[rules_by_confidence[\"consequents\"].map(set(['is_expensive']).issubset)].sort_values(\"confidence\",ascending=False)\n",
    "display_markdown(rules[ARM_COLS_OF_INTEREST].reset_index(drop=True).head(10))"
   ]
  },
  {
   "cell_type": "markdown",
   "metadata": {},
   "source": [
    "**Comment:** The (above) table shows a min-confidence threshold of `0.65`, for the top `k=10` rules , and `0.43` for the top `k=16` rules (we have omitted 6, however see `association_rule_mining/rules_by_confidence_minimum_threshold_0.20.csv` for details."
   ]
  },
  {
   "cell_type": "markdown",
   "metadata": {},
   "source": [
    "### Explained: `top-k` Rules \n",
    "\n",
    "The `top-k` rules are the number (***k***) of rules (attribute patterns) that based on the confidence/support parameters, occur with the highest frequency in the dataset.\n",
    "\n",
    "\n",
    "For example, according to the k=1 rule (sorted by `confidence`), if the phone has a `ram_category` that belongs in the range `3062.5 - 3998.0`, and ALSO has 4G (`has_four_g = True`), then there is a probability of 86% that this phone is expensive (`is_expensive = True`).\n",
    "\n",
    "It should also be noted that the top 16 rules (`k=16`) all have an antecedent that contains `ram_category` in the `3062.5 - 3998.0` range."
   ]
  },
  {
   "cell_type": "code",
   "execution_count": 39,
   "metadata": {},
   "outputs": [
    {
     "data": {
      "text/markdown": [
       "|    | antecedents                                               | consequents                                |   support |   confidence |    lift |\n",
       "|---:|:----------------------------------------------------------|:-------------------------------------------|----------:|-------------:|--------:|\n",
       "| 17 | frozenset({'front_cam_resolution_category_(0.981, 5.5]'}) | frozenset({'is_expensive'})                |    0.116  |     0.26484  | 1.05936 |\n",
       "| 18 | frozenset({'has_three_g', 'has_four_g'})                  | frozenset({'is_expensive'})                |    0.1375 |     0.263663 | 1.05465 |\n",
       "| 19 | frozenset({'has_four_g'})                                 | frozenset({'has_three_g', 'is_expensive'}) |    0.1375 |     0.263663 | 1.36968 |\n",
       "| 20 | frozenset({'has_four_g'})                                 | frozenset({'is_expensive'})                |    0.1375 |     0.263663 | 1.05465 |"
      ],
      "text/plain": [
       "<IPython.core.display.Markdown object>"
      ]
     },
     "metadata": {},
     "output_type": "display_data"
    }
   ],
   "source": [
    "display_markdown(rules[ARM_COLS_OF_INTEREST].reset_index(drop=True).iloc[17:21])"
   ]
  },
  {
   "cell_type": "code",
   "execution_count": 40,
   "metadata": {
    "tags": [
     "remove_output",
     "remove_input"
    ]
   },
   "outputs": [],
   "source": [
    "rules.to_csv(\"association_rule_mining/rules_by_confidence_minimum_threshold_0.20.csv\")"
   ]
  },
  {
   "cell_type": "markdown",
   "metadata": {},
   "source": [
    "**Comment:** The (above) table shows the 17th to the 20th rules, when the minimum confidence threshold is set to `0.26`. Here, we observe rules that do not reference `ram_category`, showing other attributes that can predict `is_expensive`."
   ]
  },
  {
   "cell_type": "markdown",
   "metadata": {},
   "source": [
    "## Lift\n",
    "\n",
    "Lift quantifies an association rule’s ability to predict cases (as) possessing an improved response (against the population), measured against a random choice targeting model.  An association rule is doing well (according to lift) if the response (within the target) exceeds the average for the population as a whole.  Simply put, lift assesses the degree to which the occurrence of one (characteristic) “lifts” the occurrence of the other.\n",
    "\n",
    "    lift (A, B) = P( A U B ) / P(A) P(B)\n",
    "\n",
    "`( lift < 1  )` → The occurrence of A is **negatively** correlated with the occurrence of B;\n",
    "   \n",
    "`( lift > 1  )` → The occurrence of A is **positively** correlated with the occurrence of B;\n",
    "   \n",
    "`( lift = 1  )` → The occurrence of A is **independent** of the occurrence of B;\n",
    "\n",
    "\n",
    "### Rules by 'Lift'"
   ]
  },
  {
   "cell_type": "code",
   "execution_count": 41,
   "metadata": {},
   "outputs": [],
   "source": [
    "MINIMUM_LIFT_THRESHOLD = -5\n",
    "\n",
    "rules_by_lift = association_rules(frequent_items, metric=\"lift\", min_threshold=MINIMUM_LIFT_THRESHOLD)\n",
    "rules_by_lift[\"translated_lift\"] = rules_by_lift[\"lift\"] - 1\n",
    "rules_by_lift[\"is_translated_lift_negative\"] = rules_by_lift[\"translated_lift\"] < 0\n",
    "rules_by_lift[\"absolute_value_of_translated_lift\"] = np.abs(rules_by_lift[\"translated_lift\"])\n",
    "\n",
    "# Get all the rules that has mobile price\n",
    "rules = rules_by_lift[rules_by_lift[\"consequents\"].map(set(['is_expensive']).issubset)].sort_values(\"absolute_value_of_translated_lift\",ascending=False)"
   ]
  },
  {
   "cell_type": "code",
   "execution_count": 42,
   "metadata": {
    "tags": [
     "remove_output",
     "remove_input"
    ]
   },
   "outputs": [],
   "source": [
    "rules.to_csv(\"association_rule_mining/rules_by_lift_sorted_by_absolute_value_of_translated_lift.csv\")"
   ]
  },
  {
   "cell_type": "code",
   "execution_count": 43,
   "metadata": {},
   "outputs": [
    {
     "data": {
      "text/markdown": [
       "|    | antecedents                                                               | consequents                                              |   support |   confidence |    lift |\n",
       "|---:|:--------------------------------------------------------------------------|:---------------------------------------------------------|----------:|-------------:|--------:|\n",
       "|  0 | frozenset({'ram_category_(3062.5, 3998.0]', 'has_four_g'})                | frozenset({'has_three_g', 'is_expensive'})               |    0.1165 |     0.856618 | 4.44996 |\n",
       "|  1 | frozenset({'has_three_g', 'ram_category_(3062.5, 3998.0]'})               | frozenset({'has_four_g', 'is_expensive'})                |    0.1165 |     0.602067 | 4.37867 |\n",
       "|  2 | frozenset({'ram_category_(3062.5, 3998.0]'})                              | frozenset({'is_expensive', 'has_dual_sim'})              |    0.115  |     0.458167 | 3.45787 |\n",
       "|  3 | frozenset({'ram_category_(3062.5, 3998.0]', 'has_four_g'})                | frozenset({'is_expensive'})                              |    0.1165 |     0.856618 | 3.42647 |\n",
       "|  4 | frozenset({'has_three_g', 'ram_category_(3062.5, 3998.0]', 'has_four_g'}) | frozenset({'is_expensive'})                              |    0.1165 |     0.856618 | 3.42647 |\n",
       "|  5 | frozenset({'ram_category_(3062.5, 3998.0]', 'has_touch_screen'})          | frozenset({'is_expensive'})                              |    0.103  |     0.847737 | 3.39095 |\n",
       "|  6 | frozenset({'ram_category_(3062.5, 3998.0]'})                              | frozenset({'has_three_g', 'is_expensive'})               |    0.1635 |     0.651394 | 3.38387 |\n",
       "|  7 | frozenset({'has_three_g', 'ram_category_(3062.5, 3998.0]'})               | frozenset({'is_expensive'})                              |    0.1635 |     0.844961 | 3.37984 |\n",
       "|  8 | frozenset({'ram_category_(3062.5, 3998.0]'})                              | frozenset({'has_three_g', 'has_four_g', 'is_expensive'}) |    0.1165 |     0.464143 | 3.37559 |\n",
       "|  9 | frozenset({'ram_category_(3062.5, 3998.0]'})                              | frozenset({'has_four_g', 'is_expensive'})                |    0.1165 |     0.464143 | 3.37559 |"
      ],
      "text/plain": [
       "<IPython.core.display.Markdown object>"
      ]
     },
     "metadata": {},
     "output_type": "display_data"
    }
   ],
   "source": [
    "display_markdown(rules[ARM_COLS_OF_INTEREST].reset_index(drop=True).head(10))"
   ]
  },
  {
   "cell_type": "markdown",
   "metadata": {},
   "source": [
    "**Comment:** The (above) table shows top (`k=10`) rules, where we notice that `ram_category` is present in all (10) antecedents (see `association_rule_mining/rules_by_lift_sorted_by_absolute_value_of_translated_lift.csv` for the full list of rules). \n",
    "\n",
    "We have ordered these rules by `absolute_value_of_translated_lift`, in order to better highlight the strongest attribute correlations (whether they be positive, or negative).\n",
    "\n",
    "\n",
    "- The top `k=1` rule states that when a phone has `ram_category` in the range `3062.5 - 3998.0`, and also has 4g (`has_four_g=true`), then these attributes are highly positively correlated to the `has_three_g` and `is_expensive` attribute pair (lift=`4.449`).\n",
    "\n",
    "- It should be noted that the top (`k=17`) rules all reference `ram_category` in the range `3062.5- 3998.0`."
   ]
  },
  {
   "cell_type": "code",
   "execution_count": 44,
   "metadata": {},
   "outputs": [
    {
     "data": {
      "text/markdown": [
       "|    | antecedents                | consequents                                                                 |   support |   confidence |    lift |\n",
       "|---:|:---------------------------|:----------------------------------------------------------------------------|----------:|-------------:|--------:|\n",
       "| 18 | frozenset({'has_four_g'})  | frozenset({'has_three_g', 'ram_category_(3062.5, 3998.0]', 'is_expensive'}) |    0.1165 |     0.223394 | 1.36632 |\n",
       "| 19 | frozenset({'has_three_g'}) | frozenset({'has_four_g', 'is_expensive'})                                   |    0.1375 |     0.180565 | 1.3132  |\n",
       "| 20 | frozenset({'has_three_g'}) | frozenset({'ram_category_(3062.5, 3998.0]', 'has_four_g', 'is_expensive'})  |    0.1165 |     0.152988 | 1.3132  |"
      ],
      "text/plain": [
       "<IPython.core.display.Markdown object>"
      ]
     },
     "metadata": {},
     "output_type": "display_data"
    }
   ],
   "source": [
    "display_markdown(rules[ARM_COLS_OF_INTEREST].reset_index(drop=True)[18:21])"
   ]
  },
  {
   "cell_type": "markdown",
   "metadata": {},
   "source": [
    "**Comment:** The 18th up to the 20th (above) show different attribute with a lift that is positively correlated, but not as strong as the previous the rules."
   ]
  },
  {
   "cell_type": "markdown",
   "metadata": {},
   "source": [
    "## Association Rule Mining - Recommendation for Designing an Expensive Phone\n",
    "\n",
    "Based on our results from association rule mining, we can advise a manufacturer (who wishes to design an expensive phone) on the following features...\n",
    "\n",
    "The most notable attribute in an item-set, that resulted in an expensive phone, contained RAM that fell in the RAM category (range) `3062.5- 3998.0`.  However, within the same item-set/s as RAM, we noted the following (most frequent) attributes:\n",
    "\n",
    "1. four G\n",
    "2. touch scren\n",
    "3. three G\n",
    "4. wifi\n",
    "5. bluetooth\n",
    "\n",
    "...ranked by the strongest defining confidence.  This discovery upholds the initial patterns that we observed in the graph of relative frequency of all attributes (in their ordinal form), divided by the `is_expensive` field."
   ]
  },
  {
   "cell_type": "markdown",
   "metadata": {},
   "source": [
    "# Classification\n",
    "\n",
    "Classification is the supervised-learning process of determining and assigning classes to data rows.  This process can identify the class of an unknown row, based upon data row/s that a model has been trained upon.\n",
    "\n",
    "Classification in `CITS 3401 - Project 2` will be done with cross validation of ten folds, using differing partitions of our dataset for testing and training, to avoid overfitting our model.  Furthermore, the training will be done with a `RANDOM_STATE` seeding, for the express purpose of mitigating the uncontrollable inconsistency of algorithm that uses randomisation.\n",
    "\n",
    "The classification will be done with both Decision Tree ('DT') and Support Vector Machine ('SVM'), with hyperparameter optimisation.  The metric will be accuracy, as the attribute `is_expensive` is weighted equally (between the possible `True` or `False` values).\n",
    "\n",
    "We will be using the `cleaned_data` dataset (not the wholly discretised dataset that was used in the Association Rule Mining), as SVM works well in seperating continuous attributes, whilst DT can take either continuous ('Regression Tree') or discrete ('Classification Tree') data."
   ]
  },
  {
   "cell_type": "code",
   "execution_count": 45,
   "metadata": {},
   "outputs": [],
   "source": [
    "# Seperation of data into features and target\n",
    "learning_data = cleaned_data.drop(\"id\",axis=\"columns\")\n",
    "target_data = learning_data[\"is_expensive\"]\n",
    "feature_data = learning_data.drop(\"is_expensive\",axis=\"columns\")"
   ]
  },
  {
   "cell_type": "code",
   "execution_count": 46,
   "metadata": {
    "tags": [
     "remove_output",
     "remove_input"
    ]
   },
   "outputs": [],
   "source": [
    "# classification helpers\n",
    "\n",
    "def show_top_results( gridsearch, target_results=[\"rank_test_score\", \"mean_test_score\", \"params\"], number_of_params=5 ):\n",
    "    \n",
    "    result = pd.DataFrame(gridsearch.cv_results_).sort_values(by=\"mean_test_score\",ascending=False)[target_results].head(number_of_params)\n",
    "    display(Markdown(result.to_markdown()))\n"
   ]
  },
  {
   "cell_type": "markdown",
   "metadata": {},
   "source": [
    "## Decision Tree\n",
    "\n",
    "A decision tree is an algorithm that separates the data using different thresholds, within different attributes. There are two main criterium for choosing an attribute and a threshold: \n",
    "\n",
    "- `Gini Index` -> Information Gain calculates effective change in entropy after making a decision based on the value of an attribute.\n",
    "\n",
    "- `Information Gain (entropy)` -> The gini index, calculates the amount of probability of a specific feature that is classified incorrectly when selected randomly.\n",
    "\n",
    "\n",
    "We will now configure and test the aforementioned classifiers..."
   ]
  },
  {
   "cell_type": "code",
   "execution_count": 47,
   "metadata": {},
   "outputs": [],
   "source": [
    "dt_pipeline_1 = Pipeline([\n",
    "    (\"dt_classifier\",DecisionTreeClassifier(random_state=RANDOM_STATE))\n",
    "])\n",
    "# Grid Search\n",
    "param_grid = {\n",
    "    'dt_classifier__criterion': [\"gini\", \"entropy\"],\n",
    "    'dt_classifier__max_depth': [None] + list(range(1,len(feature_data.columns)))\n",
    "}"
   ]
  },
  {
   "cell_type": "code",
   "execution_count": 48,
   "metadata": {
    "tags": [
     "remove_output"
    ]
   },
   "outputs": [
    {
     "data": {
      "text/plain": [
       "GridSearchCV(cv=10,\n",
       "             estimator=Pipeline(steps=[('dt_classifier',\n",
       "                                        DecisionTreeClassifier(random_state=1))]),\n",
       "             n_jobs=-1,\n",
       "             param_grid={'dt_classifier__criterion': ['gini', 'entropy'],\n",
       "                         'dt_classifier__max_depth': [None, 1, 2, 3, 4, 5, 6, 7,\n",
       "                                                      8, 9, 10, 11, 12, 13, 14,\n",
       "                                                      15, 16, 17, 18, 19]})"
      ]
     },
     "execution_count": 48,
     "metadata": {},
     "output_type": "execute_result"
    }
   ],
   "source": [
    "dt_pipeline_1_search = GridSearchCV(dt_pipeline_1, param_grid, n_jobs=-1, cv=CROSS_VALIDATION_PARTITION)\n",
    "dt_pipeline_1_search.fit(feature_data,target_data)"
   ]
  },
  {
   "cell_type": "code",
   "execution_count": 49,
   "metadata": {},
   "outputs": [
    {
     "data": {
      "text/markdown": [
       "|    |   rank_test_score |   mean_test_score | params                                                                    |\n",
       "|---:|------------------:|------------------:|:--------------------------------------------------------------------------|\n",
       "| 26 |                 1 |            0.9475 | {'dt_classifier__criterion': 'entropy', 'dt_classifier__max_depth': 6}    |\n",
       "| 28 |                 2 |            0.9435 | {'dt_classifier__criterion': 'entropy', 'dt_classifier__max_depth': 8}    |\n",
       "| 29 |                 3 |            0.9415 | {'dt_classifier__criterion': 'entropy', 'dt_classifier__max_depth': 9}    |\n",
       "| 27 |                 4 |            0.9405 | {'dt_classifier__criterion': 'entropy', 'dt_classifier__max_depth': 7}    |\n",
       "| 20 |                 5 |            0.94   | {'dt_classifier__criterion': 'entropy', 'dt_classifier__max_depth': None} |"
      ],
      "text/plain": [
       "<IPython.core.display.Markdown object>"
      ]
     },
     "metadata": {},
     "output_type": "display_data"
    }
   ],
   "source": [
    "show_top_results(dt_pipeline_1_search)"
   ]
  },
  {
   "cell_type": "code",
   "execution_count": 50,
   "metadata": {
    "tags": [
     "remove_output",
     "remove_input"
    ]
   },
   "outputs": [
    {
     "name": "stdout",
     "output_type": "stream",
     "text": [
      "Best Test Scores: 0.9475\n",
      "Best Params: {'dt_classifier__criterion': 'entropy', 'dt_classifier__max_depth': 6}\n"
     ]
    }
   ],
   "source": [
    "print(f\"Best Test Scores: {dt_pipeline_1_search.best_score_}\")\n",
    "print(f\"Best Params: {dt_pipeline_1_search.best_params_}\")"
   ]
  },
  {
   "cell_type": "markdown",
   "metadata": {},
   "source": [
    "**Comment:** The (above) table shows the top 5 hyper-parameters of the decision tree, and the mean test scores of all CV folds.  The best mean test score (`0.9475`) has Information Gain as a criterium, and a `decision_tree_max_depth = 6`. We see **no** test in the listed top 5 containing gini-index criterium.\n"
   ]
  },
  {
   "cell_type": "markdown",
   "metadata": {},
   "source": [
    "### Decision Tree Visualization"
   ]
  },
  {
   "cell_type": "code",
   "execution_count": 51,
   "metadata": {},
   "outputs": [],
   "source": [
    "viz = dtreeviz(dt_pipeline_1_search.best_estimator_[0], feature_data, target_data,\n",
    "                target_name=\"is_expensive\",\n",
    "                feature_names=feature_data.columns,\n",
    "                class_names=list(target_data.unique()))\n",
    "\n",
    "viz.save(\"decision_tree.svg\");\n",
    "#viz"
   ]
  },
  {
   "cell_type": "markdown",
   "metadata": {},
   "source": [
    "![decision](diagrams/decision_tree.png)"
   ]
  },
  {
   "cell_type": "markdown",
   "metadata": {},
   "source": [
    "**Comment:** The (above) diagram shows the decision tree visualisation. (See submission folder `diagrams/decision_tree.png`)"
   ]
  },
  {
   "cell_type": "markdown",
   "metadata": {},
   "source": [
    "## Support Vector Machine"
   ]
  },
  {
   "cell_type": "markdown",
   "metadata": {},
   "source": [
    "The 'SVM' algorithm finds the best hyperplane in the multi-atribute dimension, to seperate data into multiple, relevant classes. The parameter/s available in SVM are:\n",
    "\n",
    "- `Seperation Degree` of the Hyperplane (also known as `Kernel`);"
   ]
  },
  {
   "cell_type": "code",
   "execution_count": 52,
   "metadata": {},
   "outputs": [],
   "source": [
    "svm_pipeline_2 = Pipeline([\n",
    "    (\"svm_classifier\",SVC())\n",
    "])\n",
    "\n",
    "# Grid Search\n",
    "param_grid = {\n",
    "    'svm_classifier__kernel': ['linear', 'poly', 'rbf', 'sigmoid']\n",
    "}"
   ]
  },
  {
   "cell_type": "code",
   "execution_count": 53,
   "metadata": {
    "tags": [
     "remove_output"
    ]
   },
   "outputs": [
    {
     "data": {
      "text/plain": [
       "GridSearchCV(cv=10, estimator=Pipeline(steps=[('svm_classifier', SVC())]),\n",
       "             n_jobs=-1,\n",
       "             param_grid={'svm_classifier__kernel': ['linear', 'poly', 'rbf',\n",
       "                                                    'sigmoid']})"
      ]
     },
     "execution_count": 53,
     "metadata": {},
     "output_type": "execute_result"
    }
   ],
   "source": [
    "svm_pipeline_2_search = GridSearchCV(svm_pipeline_2, param_grid, n_jobs=-1, cv=CROSS_VALIDATION_PARTITION)\n",
    "svm_pipeline_2_search.fit(feature_data,target_data)"
   ]
  },
  {
   "cell_type": "code",
   "execution_count": 54,
   "metadata": {},
   "outputs": [
    {
     "data": {
      "text/markdown": [
       "|    |   rank_test_score |   mean_test_score | params                                |\n",
       "|---:|------------------:|------------------:|:--------------------------------------|\n",
       "|  0 |                 1 |            0.9895 | {'svm_classifier__kernel': 'linear'}  |\n",
       "|  1 |                 2 |            0.9825 | {'svm_classifier__kernel': 'poly'}    |\n",
       "|  2 |                 3 |            0.9785 | {'svm_classifier__kernel': 'rbf'}     |\n",
       "|  3 |                 4 |            0.53   | {'svm_classifier__kernel': 'sigmoid'} |"
      ],
      "text/plain": [
       "<IPython.core.display.Markdown object>"
      ]
     },
     "metadata": {},
     "output_type": "display_data"
    }
   ],
   "source": [
    "show_top_results(svm_pipeline_2_search)"
   ]
  },
  {
   "cell_type": "code",
   "execution_count": 55,
   "metadata": {
    "tags": [
     "remove_input"
    ]
   },
   "outputs": [
    {
     "name": "stdout",
     "output_type": "stream",
     "text": [
      "Best Mean Test Scores of different Parameters: 0.9894999999999999\n",
      "Best Params: {'svm_classifier__kernel': 'linear'}\n"
     ]
    }
   ],
   "source": [
    "print(f\"Best Mean Test Scores of different Parameters: {svm_pipeline_2_search.best_score_}\")\n",
    "print(f\"Best Params: {svm_pipeline_2_search.best_params_}\")"
   ]
  },
  {
   "cell_type": "markdown",
   "metadata": {},
   "source": [
    "**Comment:** The (above) table displays the top 5 hyperparameters, of the SVM. We observe the best mean test score of (`0.9895`) attributable to the `kernel = linear` hyperplane."
   ]
  },
  {
   "cell_type": "markdown",
   "metadata": {},
   "source": [
    "## Comparison `DT` vs `SVM`\n",
    "\n",
    "Our tests conclude that SVM yields results with higher accuracies, than DT.  Though both (methods) are exposed to the same data, and their most valuable hyperparameters are optimized, we must acknowledge that SVM is a more appropriate algorithm for this dataset, and experiment."
   ]
  },
  {
   "cell_type": "markdown",
   "metadata": {},
   "source": [
    "# Clustering\n",
    "\n",
    "Clustering is the unsupervised-learning process of assigning data to a group, or 'cluster'.  Clustering identifies similarities between objects, which it groups according to these characteristics in common, and which differentiate them from other groups of data.  The clustering process is very similar to the classification process, aside from the classes not being known / labelled (in clustering)."
   ]
  },
  {
   "cell_type": "code",
   "execution_count": 56,
   "metadata": {
    "tags": [
     "remove_input",
     "remove_output"
    ]
   },
   "outputs": [],
   "source": [
    "# clustering helper functions\n",
    "\n",
    "def print_confusion_table(crosstab_df, accuracy_val):\n",
    "    print(crosstab)\n",
    "    print(\"--------------------------\")\n",
    "    print(\"Accuracy: {} ({:.2f}%)\".format(accuracy, accuracy*100))\n",
    "    print(\"--------------------------\")\n",
    "    "
   ]
  },
  {
   "cell_type": "markdown",
   "metadata": {},
   "source": [
    "## Cluster of Size 2\n",
    "\n",
    "The clustering method will begin with `CLUSTER_SIZE = 2`, enabling us to compare the two distinct values of `is_expensive`, and the relevant clusters.  This **DOES NOT** mean that the `CLUSTER_SIZE` set at `2`, is the optimal cluster number. \n",
    "\n",
    "***Example:*** *There may be a phone that sits in between `is_expensive=True` and `is_expensive=False` (a medium priced phone) that a cluster size `n=2` would not be able to properly represent.*\n"
   ]
  },
  {
   "cell_type": "markdown",
   "metadata": {},
   "source": [
    "## Kmeans\n",
    "\n",
    "`K-means` clustering aims to partition observations (data rows) into ***k*** clusters, in which each observation belongs to the cluster with the nearest cluster-mean / cluster-centroid.\n",
    "\n",
    "#### Confusion Table"
   ]
  },
  {
   "cell_type": "code",
   "execution_count": 57,
   "metadata": {},
   "outputs": [],
   "source": [
    "kmeans_model = KMeans(n_clusters=2, random_state=RANDOM_STATE)\n",
    "kmeans_model.fit(feature_data)\n",
    "kmeans_prediction = kmeans_model.labels_"
   ]
  },
  {
   "cell_type": "code",
   "execution_count": 58,
   "metadata": {
    "tags": [
     "remove_input",
     "remove_output"
    ]
   },
   "outputs": [],
   "source": [
    "confusion_matrix = pd.DataFrame()\n",
    "# target_data\n",
    "confusion_matrix[\"target\"] = target_data\n",
    "confusion_matrix[\"prediction\"] = kmeans_prediction\n",
    "crosstab = pd.crosstab(confusion_matrix['target'], confusion_matrix['prediction'])\n",
    "accuracy = np.diagonal(crosstab).sum() / crosstab.to_numpy().sum()"
   ]
  },
  {
   "cell_type": "code",
   "execution_count": 59,
   "metadata": {},
   "outputs": [
    {
     "name": "stdout",
     "output_type": "stream",
     "text": [
      "prediction    0    1\n",
      "target              \n",
      "False       977  523\n",
      "True          0  500\n",
      "--------------------------\n",
      "Accuracy: 0.7385 (73.85%)\n",
      "--------------------------\n"
     ]
    }
   ],
   "source": [
    "print_confusion_table(crosstab, accuracy)"
   ]
  },
  {
   "cell_type": "markdown",
   "metadata": {},
   "source": [
    "**Comment:** The confusion table (above) shows a `73.85%` accuracy when matched with the labelled groups, wherein the other 26.15% inaccuracy can be explained by kmeans predicting a phone `is_expensive` when it is in fact not (false positive), and 0% for false negative."
   ]
  },
  {
   "cell_type": "markdown",
   "metadata": {},
   "source": [
    "## Validation of Two Cluster Size\n",
    "\n",
    "In the previous heading, it is assumed that the cluster of size 2 is expected.  This is an extra exploratory step to validate whether a cluster of size 2 is the best way to split the data."
   ]
  },
  {
   "cell_type": "code",
   "execution_count": 60,
   "metadata": {},
   "outputs": [
    {
     "name": "stderr",
     "output_type": "stream",
     "text": [
      "  0%|                                                                                              | 0/23 [00:00<?, ?it/s]"
     ]
    },
    {
     "name": "stdout",
     "output_type": "stream",
     "text": [
      "\n",
      "[clusteval] >Fit using kmeans with metric: euclidean, and linkage: ward\n",
      "[clusteval] >Evaluate using silhouette.\n"
     ]
    },
    {
     "name": "stderr",
     "output_type": "stream",
     "text": [
      "100%|█████████████████████████████████████████████████████████████████████████████████████| 23/23 [00:06<00:00,  3.29it/s]\n"
     ]
    },
    {
     "name": "stdout",
     "output_type": "stream",
     "text": [
      "[clusteval] >Optimal number clusters detected: [2].\n",
      "[clusteval] >Fin.\n"
     ]
    },
    {
     "data": {
      "image/png": "[encoded data removed]",
      "text/plain": [
       "<Figure size 1080x576 with 1 Axes>"
      ]
     },
     "metadata": {},
     "output_type": "display_data"
    },
    {
     "data": {
      "text/plain": [
       "(<Figure size 1080x576 with 1 Axes>,\n",
       " <AxesSubplot:title={'center':'silhouette score versus number of clusters'}, xlabel='#Clusters', ylabel='Score'>)"
      ]
     },
     "execution_count": 60,
     "metadata": {},
     "output_type": "execute_result"
    }
   ],
   "source": [
    "cluster_evaluation = clusteval(method='silhouette',cluster=\"kmeans\") \n",
    "cluster_evaluation.fit(np.array(feature_data))\n",
    "cluster_evaluation.plot()"
   ]
  },
  {
   "cell_type": "markdown",
   "metadata": {},
   "source": [
    "### Silhouette Score \n",
    "\n",
    "Silhouette score refers to a method of interpretation and validation of consistency within clusters of data. The higher the score, the better the overall cluster measure, such as within-variability and between-variability of the clusters.  According to the chart (above) a `CLUSTER_SIZE = 2` is most appropriate."
   ]
  },
  {
   "cell_type": "markdown",
   "metadata": {},
   "source": [
    "# Data Reduction\n",
    "\n",
    "More data is not always the solution.  When working with 'big data' we must consider the issues around redundancy, outliers, and storage.  Data reduction (as the name suggests) actively encourages the reduction of data, where possible, through the elimination of data-rows (numerosity), and data-columns (features).  This reduction must be weighed in against the overall quality/information that would be forfeited.\n",
    "\n",
    "## Reasons for Reducing Data\n",
    "\n",
    "- Increases storage capacity\n",
    "- Easy and efficient Mining, reduces time and memory requirement\n",
    "- Easy visualisation\n",
    "- Help to eliminate irrelevant /redundant features\n",
    "- Reduces noise"
   ]
  },
  {
   "cell_type": "markdown",
   "metadata": {},
   "source": [
    "## Numerosity Reduction\n",
    "\n",
    "Numerosity reduction involves the replacement of voluminous data, with an alternate, smaller form of data representation. This exchange can be achieved via parametric and non-parametric methods.\n",
    "\n",
    "- `Parametric Numerosity Reduction` -> These techniques include linear regression and log linear models, to which the model's parameters can be stored, instead of the FULL data representation. \n",
    "\n",
    "- `Non-Parametric Numerosity Reduction` -> Sampling, histograms, clustering, data cube aggregation."
   ]
  },
  {
   "cell_type": "markdown",
   "metadata": {},
   "source": [
    "### Numerosity Reduction - Sampling with Decision Tree"
   ]
  },
  {
   "cell_type": "code",
   "execution_count": 61,
   "metadata": {
    "tags": [
     "remove_input",
     "remove_output"
    ]
   },
   "outputs": [],
   "source": [
    "dt_pipeline_1 = Pipeline([\n",
    "    (\"dt_classifier\",DecisionTreeClassifier(random_state=RANDOM_STATE))\n",
    "])\n",
    "# Grid Search\n",
    "param_grid = {\n",
    "    'dt_classifier__criterion': [\"gini\", \"entropy\"],\n",
    "    'dt_classifier__max_depth': [None] + list(range(1,len(feature_data.columns)))\n",
    "}"
   ]
  },
  {
   "cell_type": "code",
   "execution_count": 62,
   "metadata": {},
   "outputs": [],
   "source": [
    "sampled_learning_data = learning_data.sample(frac=0.5,random_state=RANDOM_STATE)\n",
    "sampled_target_data = sampled_learning_data[\"is_expensive\"]\n",
    "sampled_feature_data = sampled_learning_data.drop(\"is_expensive\",axis=\"columns\")"
   ]
  },
  {
   "cell_type": "code",
   "execution_count": 63,
   "metadata": {
    "tags": [
     "remove_output"
    ]
   },
   "outputs": [
    {
     "data": {
      "text/plain": [
       "GridSearchCV(cv=10,\n",
       "             estimator=Pipeline(steps=[('dt_classifier',\n",
       "                                        DecisionTreeClassifier(random_state=1))]),\n",
       "             n_jobs=-1,\n",
       "             param_grid={'dt_classifier__criterion': ['gini', 'entropy'],\n",
       "                         'dt_classifier__max_depth': [None, 1, 2, 3, 4, 5, 6, 7,\n",
       "                                                      8, 9, 10, 11, 12, 13, 14,\n",
       "                                                      15, 16, 17, 18, 19]})"
      ]
     },
     "execution_count": 63,
     "metadata": {},
     "output_type": "execute_result"
    }
   ],
   "source": [
    "dt_pipeline_1_search = GridSearchCV(dt_pipeline_1, param_grid, n_jobs=-1, cv=CROSS_VALIDATION_PARTITION)\n",
    "dt_pipeline_1_search.fit(sampled_feature_data,sampled_target_data)"
   ]
  },
  {
   "cell_type": "code",
   "execution_count": 64,
   "metadata": {},
   "outputs": [
    {
     "data": {
      "text/markdown": [
       "|    |   rank_test_score |   mean_test_score | params                                                                 |\n",
       "|---:|------------------:|------------------:|:-----------------------------------------------------------------------|\n",
       "|  0 |                 1 |             0.928 | {'dt_classifier__criterion': 'gini', 'dt_classifier__max_depth': None} |\n",
       "| 10 |                 1 |             0.928 | {'dt_classifier__criterion': 'gini', 'dt_classifier__max_depth': 10}   |\n",
       "| 19 |                 1 |             0.928 | {'dt_classifier__criterion': 'gini', 'dt_classifier__max_depth': 19}   |\n",
       "| 18 |                 1 |             0.928 | {'dt_classifier__criterion': 'gini', 'dt_classifier__max_depth': 18}   |\n",
       "| 17 |                 1 |             0.928 | {'dt_classifier__criterion': 'gini', 'dt_classifier__max_depth': 17}   |"
      ],
      "text/plain": [
       "<IPython.core.display.Markdown object>"
      ]
     },
     "metadata": {},
     "output_type": "display_data"
    }
   ],
   "source": [
    "# Results in Tabular format\n",
    "show_top_results(dt_pipeline_1_search)"
   ]
  },
  {
   "cell_type": "markdown",
   "metadata": {},
   "source": [
    "**Comment:** Though we see (above) a drop in `mean_test_score` by `1.2%` (which is not surprising), the amount of data needed for testing and training has been cut by `50%`."
   ]
  },
  {
   "cell_type": "markdown",
   "metadata": {},
   "source": [
    "### Numerosity Reduction - Sampling with Support Vector Machine"
   ]
  },
  {
   "cell_type": "code",
   "execution_count": 65,
   "metadata": {},
   "outputs": [],
   "source": [
    "svm_pipeline_2 = Pipeline([\n",
    "    (\"svm_classifier\",SVC())\n",
    "])\n",
    "\n",
    "# Grid Search\n",
    "param_grid = {\n",
    "    'svm_classifier__kernel': ['linear', 'poly', 'rbf', 'sigmoid']\n",
    "}"
   ]
  },
  {
   "cell_type": "code",
   "execution_count": 66,
   "metadata": {
    "tags": [
     "remove_output"
    ]
   },
   "outputs": [
    {
     "data": {
      "text/plain": [
       "GridSearchCV(cv=10, estimator=Pipeline(steps=[('svm_classifier', SVC())]),\n",
       "             n_jobs=-1,\n",
       "             param_grid={'svm_classifier__kernel': ['linear', 'poly', 'rbf',\n",
       "                                                    'sigmoid']})"
      ]
     },
     "execution_count": 66,
     "metadata": {},
     "output_type": "execute_result"
    }
   ],
   "source": [
    "svm_pipeline_2_search = GridSearchCV(svm_pipeline_2, param_grid, n_jobs=-1, cv=CROSS_VALIDATION_PARTITION)\n",
    "svm_pipeline_2_search.fit(sampled_feature_data,sampled_target_data)"
   ]
  },
  {
   "cell_type": "code",
   "execution_count": 67,
   "metadata": {},
   "outputs": [
    {
     "data": {
      "text/markdown": [
       "|    |   rank_test_score |   mean_test_score | params                                |\n",
       "|---:|------------------:|------------------:|:--------------------------------------|\n",
       "|  0 |                 1 |             0.982 | {'svm_classifier__kernel': 'linear'}  |\n",
       "|  1 |                 2 |             0.977 | {'svm_classifier__kernel': 'poly'}    |\n",
       "|  2 |                 3 |             0.974 | {'svm_classifier__kernel': 'rbf'}     |\n",
       "|  3 |                 4 |             0.548 | {'svm_classifier__kernel': 'sigmoid'} |"
      ],
      "text/plain": [
       "<IPython.core.display.Markdown object>"
      ]
     },
     "metadata": {},
     "output_type": "display_data"
    }
   ],
   "source": [
    "# Results in Tabular format\n",
    "show_top_results(svm_pipeline_2_search)"
   ]
  },
  {
   "cell_type": "markdown",
   "metadata": {},
   "source": [
    "**Comment:** (Above) Similar to the results from the numerosity reduction with the Decision Tree, we have observed an insignificant drop in accuracy from the default SVM model (accuracy of `98.95%`) to the numerosity reduced SVM model (accuracy `98.2%`)."
   ]
  },
  {
   "cell_type": "markdown",
   "metadata": {},
   "source": [
    "## Attribute Reduction & Attribute Selection\n",
    "\n",
    "Attribute reduction focuses on (no surprise) the reduction of the data's columns/attributes.  Data in a high-dimensional space will be transformed (by attribute reduction methods) into a low-dimensional space, so that this new, low-dimensional representation may retain appropriate amounts of meaningful properties (from the original data), whilst **also** heavily reducing the computational-power-requirements (storage, navigation, transformation etc).\n",
    "\n",
    "It achieves this mainly through discovering the attributes that possess the lowest 'predictive value', i.e. they contribute little to the domain specific question or are insignificant in aiding attributes that *are* contributing.   "
   ]
  },
  {
   "cell_type": "markdown",
   "metadata": {},
   "source": [
    "### Principal Component Analysis (PCA)\n",
    "\n",
    "**Variance** -> In the field of statistics, variance is one of the most important measures, as it examines how the data varies within (internally) and inbetween (interactively) attributes.\n",
    "\n",
    "PCA summarises the attributes of the model through linear combinations expressed as 'principal components' ('PC') that maximises the variance.  The variance contribution of the principal components (to the data) are ordered such that the first principal component is the 'most valuable' or 'highest contributory' attribute.  Furthermore, one of the requirements of PCA is that the data is scaled, as the linear combination is sensitive to (attribute value) ranges (values with large magnitude value ranges will dominate the other PCs). \n",
    "\n",
    "It should be noted that although PCA does a good job of multidimensional to low-dimensional data summarisation, it makes it ***very*** difficult to determine which domain specific attribute/s is the one/s contributing to the model."
   ]
  },
  {
   "cell_type": "code",
   "execution_count": 68,
   "metadata": {},
   "outputs": [
    {
     "name": "stdout",
     "output_type": "stream",
     "text": [
      "[pca] >Column labels are auto-completed.\n",
      "[pca] >Row labels are auto-completed.\n",
      "[pca] >The PCA reduction is performed to capture [95.0%] explained variance using the [20] columns of the input data.\n",
      "[pca] >Fitting using PCA..\n",
      "[pca] >Computing loadings and PCs..\n",
      "[pca] >Computing explained variance..\n",
      "[pca] >Number of components is [18] that covers the [95.00%] explained variance.\n",
      "[pca] >Outlier detection using Hotelling T2 test with alpha=[0.05] and n_components=[5]\n",
      "[pca] >Outlier detection using SPE/DmodX with n_std=[2]\n"
     ]
    },
    {
     "data": {
      "image/png": "[encoded data removed]",
      "text/plain": [
       "<Figure size 720x576 with 1 Axes>"
      ]
     },
     "metadata": {},
     "output_type": "display_data"
    },
    {
     "data": {
      "text/plain": [
       "(<Figure size 720x576 with 1 Axes>,\n",
       " <AxesSubplot:title={'center':'Cumulative explained variance\\n 18 Principal Components explain [95.0%] of the variance.'}, xlabel='Principle Component', ylabel='Percentage explained variance'>)"
      ]
     },
     "execution_count": 68,
     "metadata": {},
     "output_type": "execute_result"
    },
    {
     "data": {
      "text/plain": [
       "<Figure size 432x288 with 0 Axes>"
      ]
     },
     "metadata": {},
     "output_type": "display_data"
    }
   ],
   "source": [
    "model = pca(n_components=0.95) # explains 95% of variance\n",
    "scaled_data = StandardScaler().fit_transform(feature_data)\n",
    "results = model.fit_transform(scaled_data)\n",
    "model.plot()"
   ]
  },
  {
   "cell_type": "markdown",
   "metadata": {},
   "source": [
    "**Comment:** According to the total contributions, to be able to explain 95% of the data's variance, there is a requirement to retain 18 principal components. It should be noted that this is most unusual for PCA, with most PCA's having 95% of the (data's) variance explained by only a tiny subset of the data's total dimensions."
   ]
  },
  {
   "cell_type": "markdown",
   "metadata": {},
   "source": [
    "### Attribute Reduction - Decision Tree with PCA"
   ]
  },
  {
   "cell_type": "code",
   "execution_count": 69,
   "metadata": {
    "tags": [
     "remove_output"
    ]
   },
   "outputs": [],
   "source": [
    "dt_pipeline_3 = Pipeline([\n",
    "    (\"scale\", StandardScaler()),\n",
    "    (\"pca\", PCA()),\n",
    "    (\"dt_classifier\",DecisionTreeClassifier(random_state=RANDOM_STATE))\n",
    "])\n",
    "# Grid Search\n",
    "param_grid = {\n",
    "    'pca__n_components': range(1,len(feature_data.columns)),\n",
    "    'dt_classifier__criterion': [\"gini\", \"entropy\"],\n",
    "    'dt_classifier__max_depth': [None] + list(range(1,len(feature_data.columns)))\n",
    "}"
   ]
  },
  {
   "cell_type": "code",
   "execution_count": 70,
   "metadata": {
    "tags": [
     "remove_output"
    ]
   },
   "outputs": [
    {
     "data": {
      "text/plain": [
       "GridSearchCV(cv=10,\n",
       "             estimator=Pipeline(steps=[('scale', StandardScaler()),\n",
       "                                       ('pca', PCA()),\n",
       "                                       ('dt_classifier',\n",
       "                                        DecisionTreeClassifier(random_state=1))]),\n",
       "             n_jobs=-1,\n",
       "             param_grid={'dt_classifier__criterion': ['gini', 'entropy'],\n",
       "                         'dt_classifier__max_depth': [None, 1, 2, 3, 4, 5, 6, 7,\n",
       "                                                      8, 9, 10, 11, 12, 13, 14,\n",
       "                                                      15, 16, 17, 18, 19],\n",
       "                         'pca__n_components': range(1, 20)})"
      ]
     },
     "execution_count": 70,
     "metadata": {},
     "output_type": "execute_result"
    }
   ],
   "source": [
    "dt_pipeline_3_search = GridSearchCV(dt_pipeline_3, param_grid, n_jobs=-1, cv=CROSS_VALIDATION_PARTITION)\n",
    "dt_pipeline_3_search.fit(feature_data,target_data)"
   ]
  },
  {
   "cell_type": "code",
   "execution_count": 71,
   "metadata": {},
   "outputs": [
    {
     "data": {
      "text/markdown": [
       "|     |   rank_test_score |   mean_test_score | params                                                                                           |\n",
       "|----:|------------------:|------------------:|:-------------------------------------------------------------------------------------------------|\n",
       "| 568 |                 1 |            0.8395 | {'dt_classifier__criterion': 'entropy', 'dt_classifier__max_depth': 9, 'pca__n_components': 18}  |\n",
       "| 682 |                 2 |            0.8385 | {'dt_classifier__criterion': 'entropy', 'dt_classifier__max_depth': 15, 'pca__n_components': 18} |\n",
       "| 567 |                 3 |            0.8385 | {'dt_classifier__criterion': 'entropy', 'dt_classifier__max_depth': 9, 'pca__n_components': 17}  |\n",
       "| 566 |                 3 |            0.8385 | {'dt_classifier__criterion': 'entropy', 'dt_classifier__max_depth': 9, 'pca__n_components': 16}  |\n",
       "| 663 |                 5 |            0.838  | {'dt_classifier__criterion': 'entropy', 'dt_classifier__max_depth': 14, 'pca__n_components': 18} |"
      ],
      "text/plain": [
       "<IPython.core.display.Markdown object>"
      ]
     },
     "metadata": {},
     "output_type": "display_data"
    }
   ],
   "source": [
    "show_top_results(dt_pipeline_3_search)"
   ]
  },
  {
   "cell_type": "code",
   "execution_count": 72,
   "metadata": {
    "tags": [
     "remove_input",
     "remove_output"
    ]
   },
   "outputs": [
    {
     "name": "stdout",
     "output_type": "stream",
     "text": [
      "Best Test Scores: 0.8394999999999999\n",
      "Best Params: {'dt_classifier__criterion': 'entropy', 'dt_classifier__max_depth': 9, 'pca__n_components': 18}\n"
     ]
    }
   ],
   "source": [
    "print(f\"Best Test Scores: {dt_pipeline_3_search.best_score_}\")\n",
    "print(f\"Best Params: {dt_pipeline_3_search.best_params_}\")"
   ]
  },
  {
   "cell_type": "markdown",
   "metadata": {},
   "source": [
    "**Comment:** The results from our Decision Tree attribute reduction with PCA demonstrated a **significant** decrease in accuracy (from un-reduced accuracy of `94.75%`, to `83.95%`.  These results come as no surprise, as per results earlier, there is an unusual contribution to total variance of PCA.  We should also consider the possibility that the summarisation of attributes to principal components increased the impact that outliers exerted upon the (outlier sensitive) decision tree model."
   ]
  },
  {
   "cell_type": "markdown",
   "metadata": {},
   "source": [
    "### Attribute Reduction - Support Vector Machine with PCA"
   ]
  },
  {
   "cell_type": "code",
   "execution_count": 73,
   "metadata": {
    "tags": [
     "remove_output"
    ]
   },
   "outputs": [],
   "source": [
    "svm_pipeline_3 = Pipeline([\n",
    "    (\"scale\", StandardScaler()),\n",
    "    (\"pca\", PCA()),\n",
    "    (\"svm_classifier\",SVC())\n",
    "])\n",
    "\n",
    "# Grid Search\n",
    "param_grid = {\n",
    "    'pca__n_components': range(1,len(feature_data.columns)),\n",
    "    'svm_classifier__kernel': ['linear', 'poly', 'rbf', 'sigmoid', 'precomputed']\n",
    "}"
   ]
  },
  {
   "cell_type": "code",
   "execution_count": 74,
   "metadata": {
    "tags": [
     "remove_output"
    ]
   },
   "outputs": [
    {
     "data": {
      "text/plain": [
       "GridSearchCV(cv=10,\n",
       "             estimator=Pipeline(steps=[('scale', StandardScaler()),\n",
       "                                       ('pca', PCA()),\n",
       "                                       ('svm_classifier', SVC())]),\n",
       "             n_jobs=-1,\n",
       "             param_grid={'pca__n_components': range(1, 20),\n",
       "                         'svm_classifier__kernel': ['linear', 'poly', 'rbf',\n",
       "                                                    'sigmoid', 'precomputed']})"
      ]
     },
     "execution_count": 74,
     "metadata": {},
     "output_type": "execute_result"
    }
   ],
   "source": [
    "svm_pipeline_3_search = GridSearchCV(svm_pipeline_3, param_grid, n_jobs=-1, cv=CROSS_VALIDATION_PARTITION)\n",
    "svm_pipeline_3_search.fit(feature_data,target_data)"
   ]
  },
  {
   "cell_type": "code",
   "execution_count": 75,
   "metadata": {},
   "outputs": [
    {
     "data": {
      "text/markdown": [
       "|    |   rank_test_score |   mean_test_score | params                                                         |\n",
       "|---:|------------------:|------------------:|:---------------------------------------------------------------|\n",
       "| 85 |                 1 |            0.991  | {'pca__n_components': 18, 'svm_classifier__kernel': 'linear'}  |\n",
       "| 80 |                 1 |            0.991  | {'pca__n_components': 17, 'svm_classifier__kernel': 'linear'}  |\n",
       "| 90 |                 3 |            0.9895 | {'pca__n_components': 19, 'svm_classifier__kernel': 'linear'}  |\n",
       "| 75 |                 4 |            0.984  | {'pca__n_components': 16, 'svm_classifier__kernel': 'linear'}  |\n",
       "| 88 |                 5 |            0.9785 | {'pca__n_components': 18, 'svm_classifier__kernel': 'sigmoid'} |"
      ],
      "text/plain": [
       "<IPython.core.display.Markdown object>"
      ]
     },
     "metadata": {},
     "output_type": "display_data"
    }
   ],
   "source": [
    "show_top_results(svm_pipeline_3_search)"
   ]
  },
  {
   "cell_type": "code",
   "execution_count": 76,
   "metadata": {
    "tags": [
     "remove_input",
     "remove_output"
    ]
   },
   "outputs": [
    {
     "name": "stdout",
     "output_type": "stream",
     "text": [
      "Best Test Scores: 0.991\n",
      "Best Params: {'pca__n_components': 17, 'svm_classifier__kernel': 'linear'}\n",
      "Best CV Index: 80\n"
     ]
    }
   ],
   "source": [
    "print(f\"Best Test Scores: {svm_pipeline_3_search.best_score_}\")\n",
    "print(f\"Best Params: {svm_pipeline_3_search.best_params_}\")\n",
    "print(f\"Best CV Index: {svm_pipeline_3_search.best_index_}\")"
   ]
  },
  {
   "cell_type": "markdown",
   "metadata": {},
   "source": [
    "**Comment:** The results (above) show the minimal improvement in accuracy, when the SVM model undertook the attribute reduction process. SVM is more robust to noise and outliers (than Decision Trees), and so it may be possible that contrary to above, it increased the impact of the \"good quality\" data, rather than the outlier data. \n",
    "\n",
    "Prior to reduction, we observed an accuracy of `98.95%`, which then increased to `99.1%`."
   ]
  },
  {
   "cell_type": "markdown",
   "metadata": {},
   "source": [
    "## Select K-Best with Information Gain (Entropy) and ANOVA F-statistic\n",
    "\n",
    "There are multiple ways to select the best attribute/s of a dataset, mainly through the removal of redundant (highly-corellated) or irrelevant features. The common methods include 'F-statistic', and 'Information Gain'.  F-statistic iteratively picks the attribute that *maximises* the varaiance (rather than a combination of attributes, seen in PCA).\n",
    "\n",
    "**Information gain** measures the entropy-information available in a probability distribution. E.g :\n",
    "\n",
    "- Skewed Probability Distribution (unsurprising) -> Low entropy.\n",
    "- Balanced Probability Distribution (surprising) -> High entropy."
   ]
  },
  {
   "cell_type": "markdown",
   "metadata": {},
   "source": [
    "### Attribute Reduction - Decision Tree with Select K-Best"
   ]
  },
  {
   "cell_type": "code",
   "execution_count": 77,
   "metadata": {},
   "outputs": [],
   "source": [
    "dt_pipeline_4 = Pipeline([\n",
    "    (\"select_kbest\", SelectKBest()),\n",
    "    (\"dt_classifier\",DecisionTreeClassifier(random_state=RANDOM_STATE))\n",
    "])\n",
    "# Grid Search\n",
    "param_grid = {\n",
    "    'select_kbest__k': range(1,len(feature_data.columns)),\n",
    "    'select_kbest__score_func': [f_classif,mutual_info_classif], # F-value statistic and Information Gain (entropy)\n",
    "    'dt_classifier__criterion': [\"entropy\"], # - Entropy is better than GINI from previous results\n",
    "    'dt_classifier__max_depth': [None] + list(range(1,len(feature_data.columns)))\n",
    "}"
   ]
  },
  {
   "cell_type": "code",
   "execution_count": 78,
   "metadata": {
    "tags": [
     "remove_output"
    ]
   },
   "outputs": [
    {
     "data": {
      "text/plain": [
       "GridSearchCV(cv=10,\n",
       "             estimator=Pipeline(steps=[('select_kbest', SelectKBest()),\n",
       "                                       ('dt_classifier',\n",
       "                                        DecisionTreeClassifier(random_state=1))]),\n",
       "             n_jobs=-1,\n",
       "             param_grid={'dt_classifier__criterion': ['entropy'],\n",
       "                         'dt_classifier__max_depth': [None, 1, 2, 3, 4, 5, 6, 7,\n",
       "                                                      8, 9, 10, 11, 12, 13, 14,\n",
       "                                                      15, 16, 17, 18, 19],\n",
       "                         'select_kbest__k': range(1, 20),\n",
       "                         'select_kbest__score_func': [<function f_classif at 0x00000207300F1AF0>,\n",
       "                                                      <function mutual_info_classif at 0x00000207301098B0>]})"
      ]
     },
     "execution_count": 78,
     "metadata": {},
     "output_type": "execute_result"
    }
   ],
   "source": [
    "dt_pipeline_4_search = GridSearchCV(dt_pipeline_4, param_grid, n_jobs=-1, cv=CROSS_VALIDATION_PARTITION)\n",
    "dt_pipeline_4_search.fit(feature_data,target_data)"
   ]
  },
  {
   "cell_type": "code",
   "execution_count": 79,
   "metadata": {},
   "outputs": [
    {
     "data": {
      "text/markdown": [
       "|     |   rank_test_score |   mean_test_score | params                                                                                                                                                                |\n",
       "|----:|------------------:|------------------:|:----------------------------------------------------------------------------------------------------------------------------------------------------------------------|\n",
       "| 332 |                 1 |            0.9515 | {'dt_classifier__criterion': 'entropy', 'dt_classifier__max_depth': 8, 'select_kbest__k': 15, 'select_kbest__score_func': <function f_classif at 0x00000207300F1AF0>} |\n",
       "| 250 |                 2 |            0.9515 | {'dt_classifier__criterion': 'entropy', 'dt_classifier__max_depth': 6, 'select_kbest__k': 12, 'select_kbest__score_func': <function f_classif at 0x00000207300F1AF0>} |\n",
       "| 260 |                 2 |            0.9515 | {'dt_classifier__criterion': 'entropy', 'dt_classifier__max_depth': 6, 'select_kbest__k': 17, 'select_kbest__score_func': <function f_classif at 0x00000207300F1AF0>} |\n",
       "| 256 |                 2 |            0.9515 | {'dt_classifier__criterion': 'entropy', 'dt_classifier__max_depth': 6, 'select_kbest__k': 15, 'select_kbest__score_func': <function f_classif at 0x00000207300F1AF0>} |\n",
       "| 248 |                 5 |            0.951  | {'dt_classifier__criterion': 'entropy', 'dt_classifier__max_depth': 6, 'select_kbest__k': 11, 'select_kbest__score_func': <function f_classif at 0x00000207300F1AF0>} |"
      ],
      "text/plain": [
       "<IPython.core.display.Markdown object>"
      ]
     },
     "metadata": {},
     "output_type": "display_data"
    }
   ],
   "source": [
    "show_top_results(dt_pipeline_4_search)"
   ]
  },
  {
   "cell_type": "code",
   "execution_count": 80,
   "metadata": {
    "tags": [
     "remove_input",
     "remove_output"
    ]
   },
   "outputs": [
    {
     "name": "stdout",
     "output_type": "stream",
     "text": [
      "Best Test Scores: 0.9515\n",
      "Best Params: {'dt_classifier__criterion': 'entropy', 'dt_classifier__max_depth': 8, 'select_kbest__k': 15, 'select_kbest__score_func': <function f_classif at 0x00000207300F1AF0>}\n",
      "Best CV Index: 332\n"
     ]
    }
   ],
   "source": [
    "print(f\"Best Test Scores: {dt_pipeline_4_search.best_score_}\")\n",
    "print(f\"Best Params: {dt_pipeline_4_search.best_params_}\")\n",
    "print(f\"Best CV Index: {dt_pipeline_4_search.best_index_}\")"
   ]
  },
  {
   "cell_type": "markdown",
   "metadata": {},
   "source": [
    "### Attribute Selection with F-Statistic prior to Decision Tree"
   ]
  },
  {
   "cell_type": "code",
   "execution_count": 81,
   "metadata": {},
   "outputs": [
    {
     "name": "stdout",
     "output_type": "stream",
     "text": [
      "Number of Attributes: 15\n"
     ]
    },
    {
     "data": {
      "image/png": "[encoded data removed]",
      "text/plain": [
       "<Figure size 432x288 with 1 Axes>"
      ]
     },
     "metadata": {},
     "output_type": "display_data"
    }
   ],
   "source": [
    "select_k_best = dt_pipeline_4_search.best_estimator_[0]\n",
    "attributes_df = pd.DataFrame({\"attribute_name\": feature_data.columns[select_k_best.get_support()],\"score\": select_k_best.scores_[select_k_best.get_support()]})\n",
    "attributes_df.sort_values(\"score\").plot(x=\"attribute_name\",y=\"score\",kind=\"barh\", logx=True)\n",
    "print(f\"Number of Attributes: {len(attributes_df)}\")"
   ]
  },
  {
   "cell_type": "markdown",
   "metadata": {},
   "source": [
    "**Comments:** The table and graph (above) display the small improvement in the accuracy percentge, when the Decision Tree model experienced the 'select k-best' attribute reduction (an increase from `94.75%` to `95.15%`).\n",
    "\n",
    "We see the reduction method has left us with 15 attributes, in comparison to the 18 attributes in PCA.\n",
    "\n",
    "In this scenario, it appears that F-statistic is 'better' than information gain, with regard to the transformation.  Note however, that information gain is later used for the decision tree classifier."
   ]
  },
  {
   "cell_type": "markdown",
   "metadata": {},
   "source": [
    "### Attribute Selection - With Information Gain, Prior to Decision Tree"
   ]
  },
  {
   "cell_type": "code",
   "execution_count": 82,
   "metadata": {
    "tags": [
     "remove_input",
     "remove_output"
    ]
   },
   "outputs": [],
   "source": [
    "dt_pipeline_4 = Pipeline([\n",
    "    (\"select_kbest\", SelectKBest()),\n",
    "    (\"dt_classifier\",DecisionTreeClassifier(random_state=RANDOM_STATE))\n",
    "])\n",
    "# Grid Search - REDUCED BECAUSE IT IS TAKING A LONG TIME\n",
    "param_grid = {\n",
    "    'select_kbest__k': range(10,18),\n",
    "    'select_kbest__score_func': [mutual_info_classif], # F-value statistic and Information Gain (entropy)\n",
    "    'dt_classifier__criterion': [\"entropy\"], # - Entropy is better than GINI from previous results\n",
    "    'dt_classifier__max_depth': [None] + list(range(1,len(feature_data.columns)))\n",
    "}"
   ]
  },
  {
   "cell_type": "code",
   "execution_count": 83,
   "metadata": {
    "tags": [
     "remove_output",
     "remove_input"
    ]
   },
   "outputs": [
    {
     "data": {
      "text/plain": [
       "GridSearchCV(cv=10,\n",
       "             estimator=Pipeline(steps=[('select_kbest', SelectKBest()),\n",
       "                                       ('dt_classifier',\n",
       "                                        DecisionTreeClassifier(random_state=1))]),\n",
       "             n_jobs=-1,\n",
       "             param_grid={'dt_classifier__criterion': ['entropy'],\n",
       "                         'dt_classifier__max_depth': [None, 1, 2, 3, 4, 5, 6, 7,\n",
       "                                                      8, 9, 10, 11, 12, 13, 14,\n",
       "                                                      15, 16, 17, 18, 19],\n",
       "                         'select_kbest__k': range(10, 18),\n",
       "                         'select_kbest__score_func': [<function mutual_info_classif at 0x00000207301098B0>]})"
      ]
     },
     "execution_count": 83,
     "metadata": {},
     "output_type": "execute_result"
    }
   ],
   "source": [
    "dt_pipeline_4_search = GridSearchCV(dt_pipeline_4, param_grid, n_jobs=-1, cv=CROSS_VALIDATION_PARTITION)\n",
    "dt_pipeline_4_search.fit(feature_data,target_data)"
   ]
  },
  {
   "cell_type": "code",
   "execution_count": 84,
   "metadata": {},
   "outputs": [
    {
     "name": "stdout",
     "output_type": "stream",
     "text": [
      "Number of Attributes: 17\n"
     ]
    },
    {
     "data": {
      "image/png": "[encoded data removed]",
      "text/plain": [
       "<Figure size 432x288 with 1 Axes>"
      ]
     },
     "metadata": {},
     "output_type": "display_data"
    }
   ],
   "source": [
    "select_k_best = dt_pipeline_4_search.best_estimator_[0]\n",
    "attributes_df = pd.DataFrame({\"attribute_name\": feature_data.columns[select_k_best.get_support()],\"score\": select_k_best.scores_[select_k_best.get_support()]})\n",
    "attributes_df.sort_values(\"score\").plot(x=\"attribute_name\",y=\"score\",kind=\"barh\", logx=True)\n",
    "print(f\"Number of Attributes: {len(attributes_df)}\")"
   ]
  },
  {
   "cell_type": "markdown",
   "metadata": {},
   "source": [
    "**Comment:** The analysis above shows that F-statistic proved to be the method that makes the accuracy of the model higher (`94.90%`). This is an improvement, but not as 'good' as the improvement experienced with F-statistic.  However, for exploratory, examining the attributes there are differences in the attributes prioritised by information gain and F-statistic. "
   ]
  },
  {
   "cell_type": "markdown",
   "metadata": {},
   "source": [
    "### Attribute Reduction - Support Vector Machine with Select K-Best"
   ]
  },
  {
   "cell_type": "code",
   "execution_count": 85,
   "metadata": {},
   "outputs": [],
   "source": [
    "svm_pipeline_4 = Pipeline([  \n",
    "    (\"select_kbest\", SelectKBest()),\n",
    "    (\"svm_classifier\",SVC())\n",
    "])\n",
    "\n",
    "# Grid Search\n",
    "param_grid = {\n",
    "    'select_kbest__k': range(10, 18),\n",
    "    'select_kbest__score_func': [f_classif,mutual_info_classif], # F-value statistic and Information Gain (entropy)\n",
    "    'svm_classifier__kernel': ['linear', 'rbf'] # removed other attributes that seems to be inaccurate\n",
    "}"
   ]
  },
  {
   "cell_type": "code",
   "execution_count": 86,
   "metadata": {
    "tags": [
     "remove_output"
    ]
   },
   "outputs": [
    {
     "data": {
      "text/plain": [
       "GridSearchCV(cv=10,\n",
       "             estimator=Pipeline(steps=[('select_kbest', SelectKBest()),\n",
       "                                       ('svm_classifier', SVC())]),\n",
       "             n_jobs=-1,\n",
       "             param_grid={'select_kbest__k': range(10, 18),\n",
       "                         'select_kbest__score_func': [<function f_classif at 0x00000207300F1AF0>,\n",
       "                                                      <function mutual_info_classif at 0x00000207301098B0>],\n",
       "                         'svm_classifier__kernel': ['linear', 'rbf']})"
      ]
     },
     "execution_count": 86,
     "metadata": {},
     "output_type": "execute_result"
    }
   ],
   "source": [
    "svm_pipeline_4_search = GridSearchCV(svm_pipeline_4, param_grid, n_jobs=-1, cv=CROSS_VALIDATION_PARTITION)\n",
    "svm_pipeline_4_search.fit(feature_data,target_data)"
   ]
  },
  {
   "cell_type": "code",
   "execution_count": 87,
   "metadata": {},
   "outputs": [
    {
     "data": {
      "text/markdown": [
       "|    |   rank_test_score |   mean_test_score | params                                                                                                                              |\n",
       "|---:|------------------:|------------------:|:------------------------------------------------------------------------------------------------------------------------------------|\n",
       "|  0 |                 1 |            0.9915 | {'select_kbest__k': 10, 'select_kbest__score_func': <function f_classif at 0x00000207300F1AF0>, 'svm_classifier__kernel': 'linear'} |\n",
       "|  4 |                 1 |            0.9915 | {'select_kbest__k': 11, 'select_kbest__score_func': <function f_classif at 0x00000207300F1AF0>, 'svm_classifier__kernel': 'linear'} |\n",
       "| 12 |                 3 |            0.991  | {'select_kbest__k': 13, 'select_kbest__score_func': <function f_classif at 0x00000207300F1AF0>, 'svm_classifier__kernel': 'linear'} |\n",
       "|  8 |                 4 |            0.9905 | {'select_kbest__k': 12, 'select_kbest__score_func': <function f_classif at 0x00000207300F1AF0>, 'svm_classifier__kernel': 'linear'} |\n",
       "| 16 |                 4 |            0.9905 | {'select_kbest__k': 14, 'select_kbest__score_func': <function f_classif at 0x00000207300F1AF0>, 'svm_classifier__kernel': 'linear'} |"
      ],
      "text/plain": [
       "<IPython.core.display.Markdown object>"
      ]
     },
     "metadata": {},
     "output_type": "display_data"
    }
   ],
   "source": [
    "show_top_results(svm_pipeline_4_search)"
   ]
  },
  {
   "cell_type": "code",
   "execution_count": 88,
   "metadata": {
    "tags": [
     "remove_input",
     "remove_output"
    ]
   },
   "outputs": [
    {
     "name": "stdout",
     "output_type": "stream",
     "text": [
      "Best Test Scores: 0.9914999999999999\n",
      "Best Params: {'select_kbest__k': 10, 'select_kbest__score_func': <function f_classif at 0x00000207300F1AF0>, 'svm_classifier__kernel': 'linear'}\n",
      "Best CV Index: 0\n"
     ]
    }
   ],
   "source": [
    "print(f\"Best Test Scores: {svm_pipeline_4_search.best_score_}\")\n",
    "print(f\"Best Params: {svm_pipeline_4_search.best_params_}\")\n",
    "print(f\"Best CV Index: {svm_pipeline_4_search.best_index_}\")"
   ]
  },
  {
   "cell_type": "code",
   "execution_count": 89,
   "metadata": {},
   "outputs": [
    {
     "name": "stdout",
     "output_type": "stream",
     "text": [
      "Number of Attributes: 10\n"
     ]
    },
    {
     "data": {
      "image/png": "[encoded data removed]",
      "text/plain": [
       "<Figure size 432x288 with 1 Axes>"
      ]
     },
     "metadata": {},
     "output_type": "display_data"
    }
   ],
   "source": [
    "select_k_best = svm_pipeline_4_search.best_estimator_[0]\n",
    "attributes_df = pd.DataFrame({\"attribute_name\": feature_data.columns[select_k_best.get_support()],\"score\": select_k_best.scores_[select_k_best.get_support()]})\n",
    "attributes_df.sort_values(\"score\").plot(x=\"attribute_name\",y=\"score\",kind=\"barh\", logx=True)\n",
    "print(f\"Number of Attributes: {len(attributes_df)}\")"
   ]
  },
  {
   "cell_type": "markdown",
   "metadata": {},
   "source": [
    "**Comment:** The output (above) indicates a minor accuracy improvement, from `98.95%` to `99.1%`. Note that this increase is `0.04%` better than the observed accuracy for SVM, with PCA.\n",
    "\n",
    "We also observe that the suggested best number of attributes (for SVM) from F-statistic is `10`, a notably smaller value than the suggested 'best number' of attributes from F-statistic for Decision Tree (`15`).\n"
   ]
  },
  {
   "cell_type": "markdown",
   "metadata": {},
   "source": [
    "## Data Reduction - Conclusion\n",
    "\n",
    "As seen in our experiments above (with our chosen measure of *classifier-accuracy* as accuracy), numerosity reduction **heavily** decreases the required data, in exchange for a small decrease in overall model accuracy.  Attribute reduction via transformation (such as PCA) is seen in varying instances to both increase / decrease the model accuracy, while attribute reduction (by selection) demonstrated an overall net increase in accuracy . Furthermore, with attribute reduction, we also observed a decrease in required model-training time."
   ]
  },
  {
   "cell_type": "markdown",
   "metadata": {},
   "source": [
    "## Attribute Selection - Manual Selection\n",
    "\n",
    "With user-side specific domain knowledge (regarding expensive phones), we manually selected the following attributes.  Note that the accuracy of this \"model\" is heavily dependent on the depth of the user's domain specific knowledge.  In most real-world data science projects,  manual attribute selection (performed by subject matter experts), mitigates the possibility of over-fitting, that arises with pure criterium-based attribute selection.\n",
    "\n",
    "For example, in electrical-engineering problems (where the voltage attribute is crucial) the data may suggest that voltage could/should be eliminated (for the purpose of increasing accuracy).  If relied upon, the resultant model has the 'best' accuracy, but it may inappropriate and/or unusable in the real world."
   ]
  },
  {
   "cell_type": "code",
   "execution_count": 90,
   "metadata": {},
   "outputs": [],
   "source": [
    "# Based on domain-specific knowledge and the exploratory plots\n",
    "MANUALLY_SELECTED_ATTRIBUTES = [\n",
    "    \"ram\",\n",
    "    \"has_four_g\",\n",
    "    \"mobile_depth\",\n",
    "    \"screen_width\",\n",
    "    \"screen_height\",\n",
    "    \"primary_cam_resolution\",\n",
    "    \"number_of_cores\",\n",
    "    \"int_memory\",\n",
    "    \"px_width\",\n",
    "    \"px_height\"]\n",
    "\n",
    "feature_data_manually_selected = learning_data.drop(\"is_expensive\",axis=\"columns\")[MANUALLY_SELECTED_ATTRIBUTES]"
   ]
  },
  {
   "cell_type": "markdown",
   "metadata": {},
   "source": [
    "## Decision Tree with Manually Selected Attribute"
   ]
  },
  {
   "cell_type": "code",
   "execution_count": 91,
   "metadata": {
    "tags": [
     "remove_input",
     "remove_output"
    ]
   },
   "outputs": [],
   "source": [
    "dt_pipeline_1 = Pipeline([\n",
    "    (\"dt_classifier\",DecisionTreeClassifier(random_state=RANDOM_STATE))\n",
    "])\n",
    "# Grid Search\n",
    "param_grid = {\n",
    "    'dt_classifier__criterion': [\"gini\", \"entropy\"],\n",
    "    'dt_classifier__max_depth': [None] + list(range(1,len(feature_data.columns)))\n",
    "}"
   ]
  },
  {
   "cell_type": "code",
   "execution_count": 92,
   "metadata": {
    "tags": [
     "remove_output"
    ]
   },
   "outputs": [
    {
     "data": {
      "text/plain": [
       "GridSearchCV(cv=10,\n",
       "             estimator=Pipeline(steps=[('dt_classifier',\n",
       "                                        DecisionTreeClassifier(random_state=1))]),\n",
       "             n_jobs=-1,\n",
       "             param_grid={'dt_classifier__criterion': ['gini', 'entropy'],\n",
       "                         'dt_classifier__max_depth': [None, 1, 2, 3, 4, 5, 6, 7,\n",
       "                                                      8, 9, 10, 11, 12, 13, 14,\n",
       "                                                      15, 16, 17, 18, 19]})"
      ]
     },
     "execution_count": 92,
     "metadata": {},
     "output_type": "execute_result"
    }
   ],
   "source": [
    "dt_pipeline_1_search = GridSearchCV(dt_pipeline_1, param_grid, n_jobs=-1, cv=CROSS_VALIDATION_PARTITION)\n",
    "dt_pipeline_1_search.fit(feature_data_manually_selected,target_data)"
   ]
  },
  {
   "cell_type": "code",
   "execution_count": 93,
   "metadata": {},
   "outputs": [
    {
     "data": {
      "text/markdown": [
       "|    |   rank_test_score |   mean_test_score | params                                                                 |\n",
       "|---:|------------------:|------------------:|:-----------------------------------------------------------------------|\n",
       "|  4 |                 1 |            0.9235 | {'dt_classifier__criterion': 'gini', 'dt_classifier__max_depth': 4}    |\n",
       "|  2 |                 2 |            0.9215 | {'dt_classifier__criterion': 'gini', 'dt_classifier__max_depth': 2}    |\n",
       "|  1 |                 2 |            0.9215 | {'dt_classifier__criterion': 'gini', 'dt_classifier__max_depth': 1}    |\n",
       "|  3 |                 4 |            0.9205 | {'dt_classifier__criterion': 'gini', 'dt_classifier__max_depth': 3}    |\n",
       "| 25 |                 5 |            0.9175 | {'dt_classifier__criterion': 'entropy', 'dt_classifier__max_depth': 5} |"
      ],
      "text/plain": [
       "<IPython.core.display.Markdown object>"
      ]
     },
     "metadata": {},
     "output_type": "display_data"
    }
   ],
   "source": [
    "show_top_results(dt_pipeline_1_search)"
   ]
  },
  {
   "cell_type": "code",
   "execution_count": 94,
   "metadata": {
    "tags": [
     "remove_input",
     "remove_output"
    ]
   },
   "outputs": [
    {
     "name": "stdout",
     "output_type": "stream",
     "text": [
      "Best Test Scores: 0.9235000000000001\n",
      "Best Params: {'dt_classifier__criterion': 'gini', 'dt_classifier__max_depth': 4}\n"
     ]
    }
   ],
   "source": [
    "print(f\"Best Test Scores: {dt_pipeline_1_search.best_score_}\")\n",
    "print(f\"Best Params: {dt_pipeline_1_search.best_params_}\")"
   ]
  },
  {
   "cell_type": "markdown",
   "metadata": {},
   "source": [
    "**Comment:** When the Decision Tree was reduced with our manually-selected-attribute model, we note a relatively large drop in accuracy from `94.75%` to `92.35%` (`2.4%`).  "
   ]
  },
  {
   "cell_type": "markdown",
   "metadata": {},
   "source": [
    "## SVM with Manually Selected Attributes"
   ]
  },
  {
   "cell_type": "code",
   "execution_count": 95,
   "metadata": {
    "tags": [
     "remove_input",
     "remove_output"
    ]
   },
   "outputs": [],
   "source": [
    "svm_pipeline_2 = Pipeline([\n",
    "    (\"svm_classifier\",SVC())\n",
    "])\n",
    "\n",
    "# Grid Search\n",
    "param_grid = {\n",
    "    'svm_classifier__kernel': ['linear', 'poly', 'rbf', 'sigmoid']\n",
    "}"
   ]
  },
  {
   "cell_type": "code",
   "execution_count": 96,
   "metadata": {
    "tags": [
     "remove_output"
    ]
   },
   "outputs": [
    {
     "data": {
      "text/plain": [
       "GridSearchCV(cv=10, estimator=Pipeline(steps=[('svm_classifier', SVC())]),\n",
       "             n_jobs=-1,\n",
       "             param_grid={'svm_classifier__kernel': ['linear', 'poly', 'rbf',\n",
       "                                                    'sigmoid']})"
      ]
     },
     "execution_count": 96,
     "metadata": {},
     "output_type": "execute_result"
    }
   ],
   "source": [
    "svm_pipeline_2_search = GridSearchCV(svm_pipeline_2, param_grid, n_jobs=-1, cv=CROSS_VALIDATION_PARTITION)\n",
    "svm_pipeline_2_search.fit(feature_data_manually_selected,target_data)"
   ]
  },
  {
   "cell_type": "code",
   "execution_count": 97,
   "metadata": {},
   "outputs": [
    {
     "data": {
      "text/markdown": [
       "|    |   rank_test_score |   mean_test_score | params                                |\n",
       "|---:|------------------:|------------------:|:--------------------------------------|\n",
       "|  2 |                 1 |            0.9295 | {'svm_classifier__kernel': 'rbf'}     |\n",
       "|  0 |                 2 |            0.9265 | {'svm_classifier__kernel': 'linear'}  |\n",
       "|  1 |                 2 |            0.9265 | {'svm_classifier__kernel': 'poly'}    |\n",
       "|  3 |                 4 |            0.519  | {'svm_classifier__kernel': 'sigmoid'} |"
      ],
      "text/plain": [
       "<IPython.core.display.Markdown object>"
      ]
     },
     "metadata": {},
     "output_type": "display_data"
    }
   ],
   "source": [
    "show_top_results(svm_pipeline_2_search)"
   ]
  },
  {
   "cell_type": "code",
   "execution_count": 98,
   "metadata": {
    "tags": [
     "remove_input",
     "remove_output"
    ]
   },
   "outputs": [
    {
     "name": "stdout",
     "output_type": "stream",
     "text": [
      "Best Test Scores: 0.9295\n",
      "Best Params: {'svm_classifier__kernel': 'rbf'}\n"
     ]
    }
   ],
   "source": [
    "print(f\"Best Test Scores: {svm_pipeline_2_search.best_score_}\")\n",
    "print(f\"Best Params: {svm_pipeline_2_search.best_params_}\")"
   ]
  },
  {
   "cell_type": "markdown",
   "metadata": {},
   "source": [
    "**Comment:** When the SVM was reduced with our manually-selected-attribute model, we observe a notably large drop in accuracy from `98.95%` to `92.95%`.  This decrease in accuracy with SVM (`6.0%`) is much larger than the decrease experienced by Decision Tree.  "
   ]
  },
  {
   "cell_type": "markdown",
   "metadata": {},
   "source": [
    "## Attribute Selection - Conclusion\n",
    "\n",
    "Through our experiments, F-statistic attribute selection demonstrated the best overall accuracy for both SVM and Decision Tree, as defined by the hyperparameter grid search.\n",
    "\n",
    "Our results would indicate that Information Gain ranks second in accuracy, increasing both SVM and DT's accuracy.  This can be contrasted with manual attribute selection, which showed poor results, with decreases in the accuracy of **both** of our classifiers. "
   ]
  },
  {
   "cell_type": "markdown",
   "metadata": {},
   "source": [
    "# <u>Appendix</u>"
   ]
  },
  {
   "cell_type": "markdown",
   "metadata": {},
   "source": [
    "#### Raw Data Profiling Report"
   ]
  },
  {
   "cell_type": "code",
   "execution_count": 99,
   "metadata": {
    "tags": [
     "remove_output"
    ]
   },
   "outputs": [
    {
     "data": {
      "application/vnd.jupyter.widget-view+json": {
       "model_id": "033a7fa709e54c08a3c58c8927e45f22",
       "version_major": 2,
       "version_minor": 0
      },
      "text/plain": [
       "HBox(children=(HTML(value='Summarize dataset'), FloatProgress(value=0.0, max=35.0), HTML(value='')))"
      ]
     },
     "metadata": {},
     "output_type": "display_data"
    },
    {
     "name": "stdout",
     "output_type": "stream",
     "text": [
      "\n"
     ]
    },
    {
     "data": {
      "application/vnd.jupyter.widget-view+json": {
       "model_id": "245af9867d124c79a5adc63e138cee30",
       "version_major": 2,
       "version_minor": 0
      },
      "text/plain": [
       "HBox(children=(HTML(value='Generate report structure'), FloatProgress(value=0.0, max=1.0), HTML(value='')))"
      ]
     },
     "metadata": {},
     "output_type": "display_data"
    },
    {
     "name": "stdout",
     "output_type": "stream",
     "text": [
      "\n"
     ]
    },
    {
     "data": {
      "application/vnd.jupyter.widget-view+json": {
       "model_id": "1e40eddbbc50497bac20bb7c06bfddf7",
       "version_major": 2,
       "version_minor": 0
      },
      "text/plain": [
       "HBox(children=(HTML(value='Render HTML'), FloatProgress(value=0.0, max=1.0), HTML(value='')))"
      ]
     },
     "metadata": {},
     "output_type": "display_data"
    },
    {
     "name": "stdout",
     "output_type": "stream",
     "text": [
      "\n"
     ]
    },
    {
     "data": {
      "application/vnd.jupyter.widget-view+json": {
       "model_id": "77fd601592784d1cac957e23bad9176f",
       "version_major": 2,
       "version_minor": 0
      },
      "text/plain": [
       "HBox(children=(HTML(value='Export report to file'), FloatProgress(value=0.0, max=1.0), HTML(value='')))"
      ]
     },
     "metadata": {},
     "output_type": "display_data"
    },
    {
     "name": "stdout",
     "output_type": "stream",
     "text": [
      "\n"
     ]
    }
   ],
   "source": [
    "raw_profile = ProfileReport(raw_data, explorative=True, orange_mode=True, title=\"Raw Data Profiling Report\")\n",
    "\n",
    "# set the Metadata\n",
    "metadata_dict = raw_metadata.to_dict()[\"Explaination\"]\n",
    "\n",
    "raw_profile.set_variable(\"variables.descriptions\",metadata_dict)\n",
    "raw_profile.to_file(\"./profile_reports/raw_data_profile.html\")\n",
    "# raw_profile"
   ]
  },
  {
   "cell_type": "markdown",
   "metadata": {},
   "source": [
    "#### Clean Data Profiling Report"
   ]
  },
  {
   "cell_type": "code",
   "execution_count": 100,
   "metadata": {
    "tags": [
     "remove_output"
    ]
   },
   "outputs": [
    {
     "name": "stderr",
     "output_type": "stream",
     "text": [
      "C:\\Users\\frinz\\anaconda3\\lib\\site-packages\\pandas\\core\\frame.py:4296: SettingWithCopyWarning: \n",
      "A value is trying to be set on a copy of a slice from a DataFrame\n",
      "\n",
      "See the caveats in the documentation: https://pandas.pydata.org/pandas-docs/stable/user_guide/indexing.html#returning-a-view-versus-a-copy\n",
      "  return super().rename(\n"
     ]
    },
    {
     "data": {
      "application/vnd.jupyter.widget-view+json": {
       "model_id": "0384ae21a7a64afaad40aecfd60b5160",
       "version_major": 2,
       "version_minor": 0
      },
      "text/plain": [
       "HBox(children=(HTML(value='Summarize dataset'), FloatProgress(value=0.0, max=35.0), HTML(value='')))"
      ]
     },
     "metadata": {},
     "output_type": "display_data"
    },
    {
     "name": "stdout",
     "output_type": "stream",
     "text": [
      "\n"
     ]
    },
    {
     "data": {
      "application/vnd.jupyter.widget-view+json": {
       "model_id": "101402e0ff7a437da24fd80ed79d65c2",
       "version_major": 2,
       "version_minor": 0
      },
      "text/plain": [
       "HBox(children=(HTML(value='Generate report structure'), FloatProgress(value=0.0, max=1.0), HTML(value='')))"
      ]
     },
     "metadata": {},
     "output_type": "display_data"
    },
    {
     "name": "stdout",
     "output_type": "stream",
     "text": [
      "\n"
     ]
    },
    {
     "data": {
      "application/vnd.jupyter.widget-view+json": {
       "model_id": "35e42fda9ac64be6824a704b5c458e17",
       "version_major": 2,
       "version_minor": 0
      },
      "text/plain": [
       "HBox(children=(HTML(value='Render HTML'), FloatProgress(value=0.0, max=1.0), HTML(value='')))"
      ]
     },
     "metadata": {},
     "output_type": "display_data"
    },
    {
     "name": "stdout",
     "output_type": "stream",
     "text": [
      "\n"
     ]
    },
    {
     "data": {
      "application/vnd.jupyter.widget-view+json": {
       "model_id": "2cb20b8be7b640bc8319089822da45e6",
       "version_major": 2,
       "version_minor": 0
      },
      "text/plain": [
       "HBox(children=(HTML(value='Export report to file'), FloatProgress(value=0.0, max=1.0), HTML(value='')))"
      ]
     },
     "metadata": {},
     "output_type": "display_data"
    },
    {
     "name": "stdout",
     "output_type": "stream",
     "text": [
      "\n"
     ]
    }
   ],
   "source": [
    "# Generate new pandas-profiling \n",
    "cleaned_data_profile = ProfileReport(cleaned_data, explorative=True, orange_mode=True, title=\"Clean Data Profiling Report\")\n",
    "cleaned_data_profile.set_variable(\"variables.descriptions\",cleaned_metadata_dict) # Set Metadata                  \n",
    "cleaned_data_profile.to_file(\"./profile_reports/cleaned_data_profile.html\")\n",
    "# cleaned_data_profile"
   ]
  },
  {
   "cell_type": "markdown",
   "metadata": {},
   "source": [
    "#### Discretised Data Profiling Report"
   ]
  },
  {
   "cell_type": "code",
   "execution_count": 101,
   "metadata": {
    "tags": [
     "remove_output"
    ]
   },
   "outputs": [
    {
     "name": "stderr",
     "output_type": "stream",
     "text": [
      "C:\\Users\\frinz\\anaconda3\\lib\\site-packages\\pandas\\core\\frame.py:4296: SettingWithCopyWarning: \n",
      "A value is trying to be set on a copy of a slice from a DataFrame\n",
      "\n",
      "See the caveats in the documentation: https://pandas.pydata.org/pandas-docs/stable/user_guide/indexing.html#returning-a-view-versus-a-copy\n",
      "  return super().rename(\n"
     ]
    },
    {
     "data": {
      "application/vnd.jupyter.widget-view+json": {
       "model_id": "3bb8cdf3896f4c6d82819d7175cbdf25",
       "version_major": 2,
       "version_minor": 0
      },
      "text/plain": [
       "HBox(children=(HTML(value='Summarize dataset'), FloatProgress(value=0.0, max=34.0), HTML(value='')))"
      ]
     },
     "metadata": {},
     "output_type": "display_data"
    },
    {
     "name": "stdout",
     "output_type": "stream",
     "text": [
      "\n"
     ]
    },
    {
     "data": {
      "application/vnd.jupyter.widget-view+json": {
       "model_id": "44d8f96599694919b50c1a908fe5fb69",
       "version_major": 2,
       "version_minor": 0
      },
      "text/plain": [
       "HBox(children=(HTML(value='Generate report structure'), FloatProgress(value=0.0, max=1.0), HTML(value='')))"
      ]
     },
     "metadata": {},
     "output_type": "display_data"
    },
    {
     "name": "stdout",
     "output_type": "stream",
     "text": [
      "\n"
     ]
    },
    {
     "data": {
      "application/vnd.jupyter.widget-view+json": {
       "model_id": "b77e07fab914463699d3f9f9ce9785de",
       "version_major": 2,
       "version_minor": 0
      },
      "text/plain": [
       "HBox(children=(HTML(value='Render HTML'), FloatProgress(value=0.0, max=1.0), HTML(value='')))"
      ]
     },
     "metadata": {},
     "output_type": "display_data"
    },
    {
     "name": "stdout",
     "output_type": "stream",
     "text": [
      "\n"
     ]
    },
    {
     "data": {
      "application/vnd.jupyter.widget-view+json": {
       "model_id": "2be193d6eb0344c990fd3452d314a090",
       "version_major": 2,
       "version_minor": 0
      },
      "text/plain": [
       "HBox(children=(HTML(value='Export report to file'), FloatProgress(value=0.0, max=1.0), HTML(value='')))"
      ]
     },
     "metadata": {},
     "output_type": "display_data"
    },
    {
     "name": "stdout",
     "output_type": "stream",
     "text": [
      "\n"
     ]
    }
   ],
   "source": [
    "# Generate new pandas-profiling \n",
    "discretised_data_profile = ProfileReport(discretised_data, explorative=True, orange_mode=True, title=\"Discretised Data Profiling Report\")\n",
    "discretised_data_profile.set_variable(\"variables.descriptions\",cleaned_metadata_dict) # Set Metadata                  \n",
    "discretised_data_profile.to_file(\"./profile_reports/discretised_data_profile.html\")\n",
    "# discretised_data_profile"
   ]
  }
 ],
 "metadata": {
  "authors": [
   {
    "name": "Max Matthews (21506225)"
   },
   {
    "name": "Frinze Erin Lapuz (22711649)"
   }
  ],
  "kernelspec": {
   "display_name": "Python 3",
   "language": "python",
   "name": "python3"
  },
  "language_info": {
   "codemirror_mode": {
    "name": "ipython",
    "version": 3
   },
   "file_extension": ".py",
   "mimetype": "text/x-python",
   "name": "python",
   "nbconvert_exporter": "python",
   "pygments_lexer": "ipython3",
   "version": "3.8.5"
  },
  "nbformat": 5,
  "title": "CITS3401 - Data Warehousing - Project 2: Pattern Discovery and Building Predictive Models of Mobile Phone Price"
 },
 "nbformat": 4,
 "nbformat_minor": 4
}
